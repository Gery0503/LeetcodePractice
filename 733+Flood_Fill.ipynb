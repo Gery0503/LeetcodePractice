{
 "cells": [
  {
   "cell_type": "code",
   "execution_count": 6,
   "metadata": {},
   "outputs": [],
   "source": [
    "# LeetCode 733: Flood Fill\n",
    "# https://leetcode.com/problems/flood-fill/\n",
    "# Time Complexity: O(N), N: m*n\n",
    "# Space Complexity: O(N)"
   ]
  },
  {
   "cell_type": "markdown",
   "metadata": {},
   "source": [
    "# 733. Flood Fill\n",
    "\n",
    "[Link to Problem](https://leetcode.com/problems/flood-fill/description/)\n",
    "\n",
    "### Description\n",
    "An image is represented by an `m x n` integer grid `image` where `image[i][j]` represents the pixel value of the image.\n",
    "\n",
    "You are also given three integers `sr`, `sc`, and `color`. You should perform a **flood fill** on the image starting from the pixel `image[sr][sc]`.\n",
    "\n",
    "To perform a **flood fill**, consider the starting pixel, plus any pixels connected 4-directionally to the starting pixel of the same color as the starting pixel, plus any pixels connected 4-directionally to those pixels (also with the same color), and so on. Replace the color of all of the aforementioned pixels with `color`.\n",
    "\n",
    "Return the modified image after performing the flood fill.\n",
    "\n",
    "---\n",
    "**Example 1:**\n",
    "\n",
    "Input: `image = [[1,1,1],[1,1,0],[1,0,1]], sr = 1, sc = 1, color = 2`\n",
    "\n",
    "Output: `[[2,2,2],[2,2,0],[2,0,1]]`\n",
    "\n",
    "**Example 2:**\n",
    "\n",
    "Input: `image = [[0,0,0],[0,0,0]], sr = 0, sc = 0, color = 0`\n",
    "\n",
    "Output: `[[0,0,0],[0,0,0]]`\n",
    "\n",
    "---\n",
    "**Constraints:**\n",
    "- `m == image.length`\n",
    "- `n == image[i].length`\n",
    "- `1 <= m, n <= 50`\n",
    "- `0 <= image[i][j], color < 2^16`\n",
    "- `0 <= sr < m`\n",
    "- `0 <= sc < n`"
   ]
  },
  {
   "cell_type": "markdown",
   "metadata": {},
   "source": [
    "My intuition: Sounds like recursive problem. Smallest image would be like: [[0]]"
   ]
  },
  {
   "cell_type": "code",
   "execution_count": 2,
   "metadata": {},
   "outputs": [],
   "source": [
    "from typing import List"
   ]
  },
  {
   "cell_type": "code",
   "execution_count": 92,
   "metadata": {},
   "outputs": [],
   "source": [
    "# Need to be improved\n",
    "class Solution:\n",
    "    def floodFill(self, image: List[List[int]], sr: int, sc: int, color: int) -> List[List[int]]:\n",
    "        m = len(image)\n",
    "        n = len(image[0])\n",
    "        start = image[sr][sc]\n",
    "        check_image = []\n",
    "        for _ in range(m):\n",
    "            check_image.append(n * [False])\n",
    "            \n",
    "        def rec(sr, sc):\n",
    "            if sr < 0 or sc < 0 or sr == m or sc == n:\n",
    "                return\n",
    "            if check_image[sr][sc] is True:\n",
    "                return\n",
    "            if image[sr][sc] == start:\n",
    "                image[sr][sc] = color\n",
    "                check_image[sr][sc] = True\n",
    "                rec(sr-1, sc)\n",
    "                rec(sr, sc-1)\n",
    "                rec(sr+1, sc)\n",
    "                rec(sr, sc+1)\n",
    "            return\n",
    "                \n",
    "        rec(sr, sc)\n",
    "        return image\n",
    "# Time: O(m*n)\n",
    "# Space: O(m*n)"
   ]
  },
  {
   "cell_type": "markdown",
   "metadata": {},
   "source": [
    "## ✅ **What You Did Well**\n",
    "\n",
    "| Category               | Comments                                                                     |\n",
    "| ---------------------- | ---------------------------------------------------------------------------- |\n",
    "| **Correctness**        | ✅ All test cases pass. Logic works correctly.                                |\n",
    "| **Intuition**          | ✅ Recognizing the recursive DFS pattern is excellent.                        |\n",
    "| **Edge Case Handling** | ✅ Cases like `[[0]]` and early return when color doesn't change are covered. |\n",
    "| **Clarity**            | ✅ The code structure is clear and well-indented.                             |\n",
    "\n",
    "---\n",
    "\n",
    "## 🧠 Improvement Suggestions\n",
    "\n",
    "### 🔁 1. **Avoid Redundant Recoloring Check**\n",
    "\n",
    "If `image[sr][sc] == color`, there’s no need to flood fill. Early return improves performance and avoids unnecessary recursion.\n",
    "\n",
    "```python\n",
    "if image[sr][sc] == color:\n",
    "    return image\n",
    "```\n",
    "\n",
    "### 🧼 2. **Avoid Redundant Visited Matrix**\n",
    "\n",
    "Your `check_image` adds extra space. You don’t need it—once a cell is recolored, that itself marks it as visited.\n",
    "\n",
    "> ✅ Remove `check_image` to save space and simplify logic.\n",
    "\n",
    "### 🧼 3. **Use Pythonic List Comprehension**\n",
    "\n",
    "Instead of:\n",
    "\n",
    "```python\n",
    "check_image = []\n",
    "for _ in range(m):\n",
    "    check_image.append(n * [False])\n",
    "```\n",
    "\n",
    "Use:\n",
    "\n",
    "```python\n",
    "check_image = [[False] * n for _ in range(m)]\n",
    "```\n",
    "\n",
    "*(Though again, this matrix can be removed.)*"
   ]
  },
  {
   "cell_type": "code",
   "execution_count": 6,
   "metadata": {},
   "outputs": [],
   "source": [
    "# Optimized DFS\n",
    "from typing import List\n",
    "\n",
    "class Solution:\n",
    "    def floodFill(self, image: List[List[int]], sr: int, sc: int, color: int) -> List[List[int]]:\n",
    "        rows, cols = len(image), len(image[0])\n",
    "        start_color = image[sr][sc]\n",
    "\n",
    "        if start_color == color:\n",
    "            return image\n",
    "\n",
    "        def dfs(r, c):\n",
    "            if r < 0 or r >= rows or c < 0 or c >= cols:\n",
    "                return\n",
    "            if image[r][c] != start_color:\n",
    "                return\n",
    "\n",
    "            image[r][c] = color\n",
    "            dfs(r-1, c)\n",
    "            dfs(r+1, c)\n",
    "            dfs(r, c-1)\n",
    "            dfs(r, c+1)\n",
    "\n",
    "        dfs(sr, sc)\n",
    "        return image\n",
    "# Time: O(m*n)\n",
    "# Space: O(m*n)"
   ]
  },
  {
   "cell_type": "code",
   "execution_count": 4,
   "metadata": {},
   "outputs": [],
   "source": [
    "# Iterative BFS\n",
    "from typing import List\n",
    "from collections import deque\n",
    "class Solution:\n",
    "    def floodFill(self, image: List[List[int]], sr: int, sc: int, color: int) -> List[List[int]]:\n",
    "        rows, cols = len(image), len(image[0])\n",
    "        start_color = image[sr][sc]\n",
    "\n",
    "        if start_color == color:\n",
    "            return image\n",
    "\n",
    "        queue = deque([(sr, sc)])\n",
    "        while queue:\n",
    "            r, c = queue.popleft()\n",
    "            if image[r][c] == start_color:\n",
    "                image[r][c] = color\n",
    "                for dr, dc in [(-1,0), (1,0), (0,-1), (0,1)]:\n",
    "                    nr, nc = r + dr, c + dc\n",
    "                    if 0 <= nr < rows and 0 <= nc < cols:\n",
    "                        queue.append((nr, nc))\n",
    "        return image\n",
    "# Time: O(m*n)\n",
    "# Space: O(m*n)"
   ]
  },
  {
   "cell_type": "markdown",
   "metadata": {},
   "source": [
    "#### If the interviewer wants iteration over recursion (to avoid stack overflow)\n",
    "---"
   ]
  },
  {
   "cell_type": "markdown",
   "metadata": {},
   "source": [
    "## ✅ Summary Table\n",
    "\n",
    "| Version       | Time    | Space   | Notes                                  |\n",
    "| ------------- | ------- | ------- | -------------------------------------- |\n",
    "| Your Version  | O(m\\*n) | O(m\\*n) | Uses visited matrix unnecessarily      |\n",
    "| Optimized DFS | O(m\\*n) | O(m\\*n) | Cleaner, removes extra space           |\n",
    "| Iterative BFS | O(m\\*n) | O(m\\*n) | Avoids recursion (safe for deep grids) |"
   ]
  },
  {
   "cell_type": "code",
   "execution_count": 5,
   "metadata": {},
   "outputs": [],
   "source": [
    "assert Solution().floodFill([[1,1,1],[1,1,0],[1,0,1]], 1, 1, 2) == [[2,2,2],[2,2,0],[2,0,1]]\n",
    "assert Solution().floodFill([[0,0,0],[0,0,0]], 0, 0, 0) == [[0,0,0],[0,0,0]]\n",
    "assert Solution().floodFill([[0]], 0, 0, 0) == [[0]]\n",
    "assert Solution().floodFill([[0]], 0, 0, 1) == [[1]]\n",
    "assert Solution().floodFill([[1, 1]], 0, 1, 2) == [[2, 2]]\n",
    "assert Solution().floodFill([[1], [1]], 1, 0, 2) == [[2], [2]]"
   ]
  }
 ],
 "metadata": {
  "kernelspec": {
   "display_name": "Python 3 (ipykernel)",
   "language": "python",
   "name": "python3"
  },
  "language_info": {
   "codemirror_mode": {
    "name": "ipython",
    "version": 3
   },
   "file_extension": ".py",
   "mimetype": "text/x-python",
   "name": "python",
   "nbconvert_exporter": "python",
   "pygments_lexer": "ipython3",
   "version": "3.10.3"
  }
 },
 "nbformat": 4,
 "nbformat_minor": 4
}
