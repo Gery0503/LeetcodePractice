{
 "cells": [
  {
   "cell_type": "code",
   "execution_count": 23,
   "metadata": {},
   "outputs": [],
   "source": [
    "# LeetCode 1768: Merge Strings Alternately\n",
    "# https://leetcode.com/problems/merge-strings-alternately/\n",
    "# Time Complexity: O(N), N: m*n\n",
    "# Space Complexity: O(N)"
   ]
  },
  {
   "cell_type": "markdown",
   "metadata": {},
   "source": [
    "# 1768. Merge Strings Alternately\n",
    "\n",
    "[Link to Problem](https://leetcode.com/problems/merge-strings-alternately/)\n",
    "\n",
    "### Description\n",
    "You are given two strings `word1` and `word2`. Merge the strings by adding letters in alternating order, starting with `word1`. If a string is longer than the other, append the additional letters onto the end of the merged string.\n",
    "\n",
    "Return the merged string.\n",
    "\n",
    "---\n",
    "**Example 1:**\n",
    "\n",
    "Input: `word1 = \"abc\"`, `word2 = \"pqr\"`\n",
    "Output: `\"apbqcr\"`\n",
    "\n",
    "**Example 2:**\n",
    "\n",
    "Input: `word1 = \"ab\"`, `word2 = \"pqrs\"`\n",
    "Output: `\"apbqrs\"`\n",
    "\n",
    "**Example 3:**\n",
    "\n",
    "Input: `word1 = \"abcd\"`, `word2 = \"pq\"`\n",
    "Output: `\"apbqcd\"`\n",
    "\n",
    "---\n",
    "**Constraints:**\n",
    "- `1 <= word1.length, word2.length <= 100`\n",
    "- `word1` and `word2` consist of lowercase English letters."
   ]
  },
  {
   "cell_type": "markdown",
   "metadata": {},
   "source": [
    "My intuition: Two-pointer apprach"
   ]
  },
  {
   "cell_type": "code",
   "execution_count": 3,
   "metadata": {},
   "outputs": [],
   "source": [
    "class Solution:\n",
    "    def mergeAlternately(self, word1: str, word2: str) -> str:\n",
    "        result = \"\"\n",
    "        i = 0\n",
    "        j = 0\n",
    "        while i < len(word1) and j < len(word2):\n",
    "            if i == j:\n",
    "                result += word1[i]\n",
    "                i += 1\n",
    "            else:\n",
    "                result += word2[j]\n",
    "                j += 1\n",
    "        if i != len(word1):\n",
    "            result += word1[i:]\n",
    "        if j != len(word2):\n",
    "            result += word2[j:]\n",
    "        return result\n",
    "# Time: O(m+n)\n",
    "# Space: O(1), correction: O(m+n)"
   ]
  },
  {
   "cell_type": "markdown",
   "metadata": {},
   "source": [
    "## ✅ What You Did Well\n",
    "\n",
    "| Category             | Comments                                                |\n",
    "| -------------------- | ------------------------------------------------------- |\n",
    "| **Correctness**      | ✅ All test cases are correct.                           |\n",
    "| **Approach**         | ✅ Using a two-pointer technique is efficient and clean. |\n",
    "| **Edge Cases**       | ✅ Covers cases where `word1` or `word2` is longer.      |\n",
    "| **Time Complexity**  | ✅ Clearly noted as `O(m+n)` — correct.                  |\n",
    "| **Code Readability** | ✅ Easy to follow. Clear variable names.                 |\n",
    "\n",
    "---\n",
    "\n",
    "## 🧠 Suggestions for Improvement\n",
    "\n",
    "### ✅ Functional but Minor Logic Redundancy\n",
    "\n",
    "The use of `if i == j:` to alternate characters is technically valid, but it relies implicitly on the initial synchronization of both pointers. It also obscures the real intention of alternating characters. Here's a **cleaner, more direct** approach:\n",
    "\n",
    "---\n",
    "## 🔧 Recommended Refactor"
   ]
  },
  {
   "cell_type": "code",
   "execution_count": 18,
   "metadata": {},
   "outputs": [],
   "source": [
    "class Solution:\n",
    "    def mergeAlternately(self, word1: str, word2: str) -> str:\n",
    "        result = []\n",
    "        i, j = 0, 0\n",
    "        while i < len(word1) or j < len(word2):\n",
    "            if i < len(word1):\n",
    "                result.append(word1[i])\n",
    "                i += 1\n",
    "            if j < len(word2):\n",
    "                result.append(word2[j])\n",
    "                j += 1\n",
    "        return ''.join(result)\n",
    "# Time: O(m+n)\n",
    "# Space: O(m+n)"
   ]
  },
  {
   "cell_type": "markdown",
   "metadata": {},
   "source": [
    "### Why This Is Better:\n",
    "\n",
    "| Feature           | Your Code                         | Refactored Version                          |\n",
    "| ----------------- | --------------------------------- | ------------------------------------------- |\n",
    "| Alternation logic | Based on `i == j` comparison      | Alternates by simply checking bounds        |\n",
    "| Efficiency        | Uses `+=` on string (inefficient) | Uses `list.append()` + `''.join()` (faster) |\n",
    "| Readability       | Slightly mixed control logic      | More intuitive and clean                    |\n",
    "\n",
    "---\n",
    "\n",
    "## 🧪 Time & Space Complexity\n",
    "\n",
    "| Metric               | Value                           |\n",
    "| -------------------- | ------------------------------- |\n",
    "| **Time Complexity**  | `O(m + n)` for merging          |\n",
    "| **Space Complexity** | `O(m + n)` due to output string |\n",
    "\n",
    "> 🔍 Note: Although you mentioned `O(1)` space, Python strings are immutable, so every `+=` operation creates a new string—making the space actually `O(m + n)` in both versions.\n",
    "\n",
    "---\n",
    "\n",
    "## ✅ Summary\n",
    "\n",
    "| Criteria      | Status    | Notes                                          |\n",
    "| ------------- | --------- | ---------------------------------------------- |\n",
    "| ✅ Correctness | ✅ Pass    | All test cases succeed                         |\n",
    "| ✅ Optimality  | ✅ Yes     | Linear time and space                          |\n",
    "| ✅ Readability | ⚠️ Medium | Can be improved with simpler alternation logic |\n",
    "| ✅ Enhancement | ✅ Done    | Cleaner logic and improved performance         |"
   ]
  },
  {
   "cell_type": "markdown",
   "metadata": {},
   "source": [
    "### ✅ Solution Using `zip_longest`\n",
    "---"
   ]
  },
  {
   "cell_type": "code",
   "execution_count": 21,
   "metadata": {},
   "outputs": [],
   "source": [
    "from itertools import zip_longest\n",
    "\n",
    "class Solution:\n",
    "    def mergeAlternately(self, word1: str, word2: str) -> str:\n",
    "        return ''.join(a + b for a, b in zip_longest(word1, word2, fillvalue=''))\n",
    "# Time: O(m+n)\n",
    "# Space: O(m+n)"
   ]
  },
  {
   "cell_type": "markdown",
   "metadata": {},
   "source": [
    "### 🔍 Explanation\n",
    "\n",
    "| Step                                      | What It Does                                                               |\n",
    "| ----------------------------------------- | -------------------------------------------------------------------------- |\n",
    "| `zip_longest(word1, word2, fillvalue='')` | Pairs characters from both strings. If one is shorter, it fills with `''`. |\n",
    "| `a + b for a, b in ...`                   | Concatenates each pair (`a + b`).                                          |\n",
    "| `''.join(...)`                            | Flattens the list into a single string.                                    |\n",
    "\n",
    "### 📊 Complexity\n",
    "\n",
    "| Metric           | Value      |\n",
    "| ---------------- | ---------- |\n",
    "| Time Complexity  | `O(m + n)` |\n",
    "| Space Complexity | `O(m + n)` |\n",
    "\n",
    "---"
   ]
  },
  {
   "cell_type": "markdown",
   "metadata": {},
   "source": [
    "## One pointer approach"
   ]
  },
  {
   "cell_type": "code",
   "execution_count": 22,
   "metadata": {},
   "outputs": [],
   "source": [
    "class Solution(object):\n",
    "    def mergeAlternately(self, word1, word2):\n",
    "        result = []\n",
    "        n = max(len(word1), len(word2))\n",
    "        for i in range(n):\n",
    "            if i < len(word1):\n",
    "                result += word1[i]\n",
    "            if i < len(word2):\n",
    "                result += word2[i]\n",
    "\n",
    "        return \"\".join(result)"
   ]
  },
  {
   "cell_type": "markdown",
   "metadata": {},
   "source": [
    "### Complexity Analysis\n",
    "Here, m is the length of word1 and n is the length of word2.\n",
    "\n",
    "#### Time complexity: O(m+n)\n",
    "\n",
    "We iterate over word1 and word2 once pushing their letters into result. It would take O(m+n) time.\n",
    "#### Space complexity: O(1)\n",
    "\n",
    "Without considering the space consumed by the input strings (word1 and word2) and the output string (result), we do not use more than constant space."
   ]
  },
  {
   "cell_type": "code",
   "execution_count": 20,
   "metadata": {},
   "outputs": [],
   "source": [
    "assert Solution().mergeAlternately(\"abc\",\"pqr\") == \"apbqcr\"\n",
    "assert Solution().mergeAlternately(\"ab\",\"pqrs\") == \"apbqrs\"\n",
    "assert Solution().mergeAlternately(\"abcd\",\"pq\") == \"apbqcd\"\n",
    "assert Solution().mergeAlternately(\"a\",\"p\") == \"ap\""
   ]
  }
 ],
 "metadata": {
  "kernelspec": {
   "display_name": "Python 3 (ipykernel)",
   "language": "python",
   "name": "python3"
  },
  "language_info": {
   "codemirror_mode": {
    "name": "ipython",
    "version": 3
   },
   "file_extension": ".py",
   "mimetype": "text/x-python",
   "name": "python",
   "nbconvert_exporter": "python",
   "pygments_lexer": "ipython3",
   "version": "3.10.3"
  }
 },
 "nbformat": 4,
 "nbformat_minor": 4
}
