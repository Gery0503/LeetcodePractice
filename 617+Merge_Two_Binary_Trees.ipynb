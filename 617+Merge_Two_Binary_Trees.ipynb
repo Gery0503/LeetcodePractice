{
 "cells": [
  {
   "cell_type": "code",
   "execution_count": 86,
   "metadata": {},
   "outputs": [],
   "source": [
    "# LeetCode 617: Merge Two Binary Trees\n",
    "# https://leetcode.com/problems/merge-two-binary-trees/\n",
    "# Time Complexity: O(m+n)\n",
    "# Space Complexity: O(h)"
   ]
  },
  {
   "cell_type": "markdown",
   "metadata": {},
   "source": [
    "# 617. Merge Two Binary Trees\n",
    "\n",
    "[Link to Problem](https://leetcode.com/problems/merge-two-binary-trees/description/)\n",
    "\n",
    "### Description\n",
    "You are given two binary trees `root1` and `root2`.\n",
    "\n",
    "Imagine that when you put one of them to cover the other, some nodes of the two trees are overlapped while the others are not. You need to merge the two trees into a new binary tree. The merge rule is that if two nodes overlap, then sum the values as the new value of the merged node. Otherwise, the NOT null node will be used as the node of the new tree.\n",
    "\n",
    "Return the merged tree.\n",
    "**Note:** The merging process must start from the root nodes of both trees.\n",
    "\n",
    "---\n",
    "**Example 1:**\n",
    "\n",
    "Input: `root1 = [1,3,2,5]`, `root2 = [2,1,3,null,4,null,7]`\n",
    "Output: `[3,4,5,5,4,null,7]`\n",
    "\n",
    "**Example 2:**\n",
    "\n",
    "Input: `root1 = [1]`, `root2 = [1,2]`\n",
    "Output: `[2,2]`\n",
    "\n",
    "---\n",
    "**Constraints:**\n",
    "- The number of nodes in both trees is in the range `[0, 2000]`.\n",
    "- `-10^4 <= Node.val <= 10^4`"
   ]
  },
  {
   "cell_type": "code",
   "execution_count": 82,
   "metadata": {},
   "outputs": [],
   "source": [
    "# Definition for a binary tree node.\n",
    "class TreeNode:\n",
    "    def __init__(self, val=0, left=None, right=None):\n",
    "        self.val = val\n",
    "        self.left = left\n",
    "        self.right = right\n",
    "\n",
    "# recursive DFS\n",
    "class Solution:\n",
    "    def mergeTrees(self, root1: TreeNode, root2: TreeNode) -> TreeNode:\n",
    "        if (not root1) and (not root2):\n",
    "            return None\n",
    "            \n",
    "        node = TreeNode()\n",
    "        if root1 and root2:\n",
    "            node.val = root1.val + root2.val\n",
    "            node.left = self.mergeTrees(root1.left, root2.left)\n",
    "            node.right = self.mergeTrees(root1.right, root2.right)\n",
    "            \n",
    "        elif root1 and not root2:\n",
    "            node.val = root1.val\n",
    "            node.left = self.mergeTrees(root1.left, None)\n",
    "            node.right = self.mergeTrees(root1.right, None)\n",
    "            \n",
    "        else:\n",
    "            node.val = root2.val\n",
    "            node.left = self.mergeTrees(None, root2.left)\n",
    "            node.right = self.mergeTrees(None, root2.right)\n",
    "            \n",
    "        return node\n",
    "# Time: O(m+n)\n",
    "# Space: O(max(height_root1, height_root2))"
   ]
  },
  {
   "cell_type": "markdown",
   "metadata": {},
   "source": [
    "#### ✅ Review:\n",
    "\n",
    "* **Clarity**: Very readable and intuitive. Great use of recursion.\n",
    "* **Efficiency**:\n",
    "\n",
    "  * **Time Complexity**: O(m + n) where m and n are the number of nodes in both trees.\n",
    "  * **Space Complexity**: O(h), where `h = max(height of tree1, tree2)` due to recursive call stack.\n",
    "* **Edge Case Handling**: Correctly returns when either node is `None`."
   ]
  },
  {
   "cell_type": "code",
   "execution_count": 84,
   "metadata": {},
   "outputs": [],
   "source": [
    "# better look\n",
    "class Solution:\n",
    "    def mergeTrees(self, root1: TreeNode, root2: TreeNode) -> TreeNode:\n",
    "        if not root1 and not root2:\n",
    "            return None\n",
    "        \n",
    "        val1 = root1.val if root1 else 0\n",
    "        val2 = root2.val if root2 else 0\n",
    "        \n",
    "        new_node = TreeNode(val1 + val2)\n",
    "        \n",
    "        new_node.left = self.mergeTrees(\n",
    "            root1.left if root1 else None,\n",
    "            root2.left if root2 else None\n",
    "        )\n",
    "        \n",
    "        new_node.right = self.mergeTrees(\n",
    "            root1.right if root1 else None,\n",
    "            root2.right if root2 else None\n",
    "        )\n",
    "        \n",
    "        return new_node\n",
    "# Time: O(m+n)\n",
    "# Space: O(max(height_root1, height_root2))"
   ]
  },
  {
   "cell_type": "code",
   "execution_count": 85,
   "metadata": {},
   "outputs": [],
   "source": [
    "# Test\n",
    "node = Solution().mergeTrees(\n",
    "    None, None\n",
    ")\n",
    "assert node == None\n",
    "\n",
    "node = Solution().mergeTrees(\n",
    "    TreeNode(1),\n",
    "    TreeNode(1, TreeNode(2), None)\n",
    ")\n",
    "assert node.val == 2\n",
    "assert node.left.val == 2\n",
    "assert node.right == None\n",
    "\n",
    "node = Solution().mergeTrees(\n",
    "    TreeNode(1, TreeNode(3, TreeNode(5), None), TreeNode(2)),\n",
    "    TreeNode(2, TreeNode(1, None, TreeNode(4)), TreeNode(3, None, TreeNode(7)))\n",
    ")\n",
    "assert node.val == 3\n",
    "assert node.left.val == 4\n",
    "assert node.right.val == 5\n",
    "assert node.right.right.val == 7\n",
    "assert node.left.left.val == 5\n",
    "assert node.left.right.val == 4"
   ]
  }
 ],
 "metadata": {
  "kernelspec": {
   "display_name": "Python 3 (ipykernel)",
   "language": "python",
   "name": "python3"
  },
  "language_info": {
   "codemirror_mode": {
    "name": "ipython",
    "version": 3
   },
   "file_extension": ".py",
   "mimetype": "text/x-python",
   "name": "python",
   "nbconvert_exporter": "python",
   "pygments_lexer": "ipython3",
   "version": "3.10.3"
  }
 },
 "nbformat": 4,
 "nbformat_minor": 4
}
