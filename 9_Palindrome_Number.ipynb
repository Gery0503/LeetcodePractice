{
 "cells": [
  {
   "cell_type": "code",
   "execution_count": null,
   "id": "079183eb-4e1c-4983-a361-0a1efb8b92f7",
   "metadata": {},
   "outputs": [],
   "source": [
    "# LeetCode 9: Palindrome Number\n",
    "# https://leetcode.com/problems/palindrome-number/\n",
    "# Time Complexity: O(n) n: number of digit\n",
    "# Space Complexity: O(1)"
   ]
  },
  {
   "cell_type": "markdown",
   "id": "90a780da-c0a4-4962-b8af-d256b1b3f005",
   "metadata": {},
   "source": [
    "# 9. Palindrome Number\n",
    "\n",
    "## Description\n",
    "\n",
    "Given an integer `x`, return `true` if `x` is a palindrome, and `false` otherwise.\n",
    "\n",
    "An integer is a palindrome when it reads the same backward as forward.\n",
    "\n",
    "## Examples\n",
    "\n",
    "### Example 1\n",
    "\n",
    "```python\n",
    "x = 121\n",
    "# Output: True\n",
    "# Explanation: 121 reads as 121 from left to right and from right to left."
   ]
  },
  {
   "cell_type": "markdown",
   "id": "4aba430b-dd8d-4d93-a637-fa5fa8a2c420",
   "metadata": {},
   "source": [
    "## Constraints\n",
    "\n",
    "- -2³¹ <= x <= 2³¹ - 1\n",
    "---"
   ]
  },
  {
   "cell_type": "markdown",
   "id": "1fba2aed-a74e-4320-ab1e-a6a42ece5852",
   "metadata": {},
   "source": [
    "## My solution"
   ]
  },
  {
   "cell_type": "markdown",
   "id": "a58e700d-bdbd-4f2e-ac7f-76ba69af63e1",
   "metadata": {},
   "source": [
    "First thought: use stack"
   ]
  },
  {
   "cell_type": "code",
   "execution_count": 4,
   "id": "cb6956e5-1622-4cee-9f2c-c346747f812f",
   "metadata": {},
   "outputs": [],
   "source": [
    "def isPalindrome2(num):\n",
    "    if num < 0:\n",
    "        return False\n",
    "    \n",
    "    num_digits = 0\n",
    "    temp = num\n",
    "    while temp != 0:\n",
    "        temp = temp // 10\n",
    "        num_digits += 1\n",
    "\n",
    "    stack = []\n",
    "    half = num_digits // 2    \n",
    "    for _ in range(half):\n",
    "        digit = num % 10\n",
    "        num = num // 10\n",
    "        stack.append(digit)\n",
    "    if num_digits % 2 == 1:\n",
    "        num = num // 10\n",
    "    for _ in range(half):\n",
    "        digit = num % 10\n",
    "        num = num // 10\n",
    "        if stack.pop() != digit:\n",
    "            return False\n",
    "    return True\n",
    "\n",
    "# Time: O(logn)\n",
    "# Space: O(n)"
   ]
  },
  {
   "cell_type": "code",
   "execution_count": 5,
   "id": "260f008f-5ed0-4be5-b723-3227251cc1e5",
   "metadata": {},
   "outputs": [],
   "source": [
    "assert isPalindrome2(121) == True\n",
    "assert isPalindrome2(1231) == False\n",
    "assert isPalindrome2(-121) == False"
   ]
  },
  {
   "cell_type": "markdown",
   "id": "fc8749ec-98a1-49ad-98ba-65e26df265bd",
   "metadata": {},
   "source": [
    "## 💡 Code Improvements\n",
    "### Optimize for Time and Space\n",
    "Instead of using a stack, you can reverse half the number and compare:"
   ]
  },
  {
   "cell_type": "code",
   "execution_count": 5,
   "id": "4a7f4fdc-4e34-49ed-9c08-62129c505432",
   "metadata": {},
   "outputs": [],
   "source": [
    "def isPalindrome(x):\n",
    "    if x < 0 or (x % 10 == 0 and x != 0):\n",
    "        return False\n",
    "    \n",
    "    reversed_half = 0\n",
    "    while x > reversed_half:\n",
    "        reversed_half = reversed_half * 10 + x % 10\n",
    "        x = x // 10\n",
    "\n",
    "    return x == reversed_half or x == reversed_half // 10\n",
    "\n",
    "# Time: O(logn)\n",
    "# Space: O(1)"
   ]
  },
  {
   "cell_type": "markdown",
   "id": "f5b22b7d-437e-48cf-9988-f1f59d9c4638",
   "metadata": {},
   "source": [
    "| Feature          | `isPalindrome` | `isPalindrome2` |\n",
    "| ---------------- | -------------- | --------------- |\n",
    "| Time Complexity  | O(log₁₀(n))    | O(log₁₀(n))     |\n",
    "| Space Complexity | O(1)           | O(n)            |\n",
    "| Readability      | High           | Moderate        |\n",
    "| Elegance         | More concise   | More procedural |\n"
   ]
  },
  {
   "cell_type": "markdown",
   "id": "e41fed78-ca09-4306-b451-3c19f2359996",
   "metadata": {},
   "source": [
    "## Question: If I transfer digits to a list first, will it be faster?"
   ]
  },
  {
   "cell_type": "code",
   "execution_count": null,
   "id": "ec74ff2d-0e2d-4448-a21a-6fd3d4d3ec7d",
   "metadata": {},
   "outputs": [],
   "source": [
    "def digits_to_list(num):\n",
    "    lst = []\n",
    "    while num != 0: \n",
    "        digit = num % 10\n",
    "        lst = [digit] + lst\n",
    "        num = num // 10\n",
    "    return lst\n",
    "# Time: O(n²)"
   ]
  },
  {
   "cell_type": "code",
   "execution_count": 3,
   "id": "ab9ec2d6-c79a-4302-b455-8c33c71bff93",
   "metadata": {},
   "outputs": [],
   "source": [
    "# Not the good one\n",
    "def isPalindrome3(num):\n",
    "    if num < 0 or (num % 10 == 0 and num != 0):\n",
    "        return False\n",
    "\n",
    "    num_lst = digits_to_list(num)\n",
    "    second_half = []\n",
    "    \n",
    "    while len(num_lst) > len(second_half):\n",
    "        second_half.append(num_lst[-1])\n",
    "        num_lst.pop()\n",
    "        \n",
    "    return num_lst == second_half or num_lst == second_half[:-1]\n",
    "\n",
    "# Time: O(n²)\n",
    "# Space: O(n)"
   ]
  },
  {
   "cell_type": "code",
   "execution_count": 4,
   "id": "752264b6-b7d4-48be-88f6-9231faf4718b",
   "metadata": {},
   "outputs": [],
   "source": [
    "assert isPalindrome3(0) == True\n",
    "assert isPalindrome3(10) == False\n",
    "assert isPalindrome3(121) == True\n",
    "assert isPalindrome3(1231) == False\n",
    "assert isPalindrome3(-121) == False"
   ]
  },
  {
   "cell_type": "markdown",
   "id": "85379d2e-1271-4284-ab52-8429d8b4e95d",
   "metadata": {},
   "source": [
    "### Why \"function is O(n²), due to the repeated list prepends\" ?"
   ]
  },
  {
   "cell_type": "markdown",
   "id": "b12ad72f-b8ee-4d95-a474-7ecc6b924ec0",
   "metadata": {},
   "source": [
    "Let's carefully explain **why prepending to a list in Python (`lst = [digit] + lst`) results in O(n²) time complexity**.\n",
    "\n",
    "---\n",
    "\n",
    "### ⚠️ Problem: Prepending to a Python list\n",
    "\n",
    "```python\n",
    "lst = [digit] + lst\n",
    "```\n",
    "\n",
    "This line is **not constant time**.\n",
    "\n",
    "Here’s why:\n",
    "\n",
    "* Python lists are implemented as **dynamic arrays**.\n",
    "* When you **prepend** (`[digit] + lst`), Python has to:\n",
    "\n",
    "  1. **Create a new list** of length `len(lst) + 1`\n",
    "  2. **Copy all elements** from the old list `lst` into the new one\n",
    "  3. Add the new digit at the beginning\n",
    "\n",
    "---\n",
    "\n",
    "### 🔁 What happens across iterations\n",
    "\n",
    "Let’s say `num` has `d` digits. You'll run the loop `d` times, and each time you're doing this prepend:\n",
    "\n",
    "| Iteration | `lst` length before | Time to copy (`+` operation) |\n",
    "| --------- | ------------------- | ---------------------------- |\n",
    "| 1         | 0                   | O(0)                         |\n",
    "| 2         | 1                   | O(1)                         |\n",
    "| 3         | 2                   | O(2)                         |\n",
    "| ...       | ...                 | ...                          |\n",
    "| d         | d - 1               | O(d - 1)                     |\n",
    "\n",
    "### ➕ Total time:\n",
    "\n",
    "Total cost = `0 + 1 + 2 + ... + (d - 1) = (d * (d - 1)) / 2 = O(d²)`\n",
    "\n",
    "---\n",
    "\n",
    "### ✅ How to fix it\n",
    "\n",
    "Instead of prepending, use `append()` (which is O(1)) and reverse at the end:\n",
    "\n",
    "```python\n",
    "def digits_to_list(num):\n",
    "    lst = []\n",
    "    while num != 0:\n",
    "        lst.append(num % 10)\n",
    "        num = num // 10\n",
    "    return lst[::-1]  # O(n) time\n",
    "```\n",
    "\n",
    "* `append` is O(1)\n",
    "* `[::-1]` (reversal) is O(n)\n",
    "* Total: **O(n)** time instead of **O(n²)**\n",
    "\n",
    "---\n",
    "\n",
    "### 🔁 TL;DR\n",
    "\n",
    "| Operation         | Time Complexity |\n",
    "| ----------------- | --------------- |\n",
    "| `lst = [x] + lst` | O(n)            |\n",
    "| `lst.append(x)`   | O(1)            |\n",
    "| `lst[::-1]`       | O(n)            |\n",
    "\n",
    "So doing **repeated prepends** becomes **O(n²)** because you’re creating and copying lists repeatedly. That’s why it’s slower."
   ]
  }
 ],
 "metadata": {
  "kernelspec": {
   "display_name": "Python 3 (ipykernel)",
   "language": "python",
   "name": "python3"
  },
  "language_info": {
   "codemirror_mode": {
    "name": "ipython",
    "version": 3
   },
   "file_extension": ".py",
   "mimetype": "text/x-python",
   "name": "python",
   "nbconvert_exporter": "python",
   "pygments_lexer": "ipython3",
   "version": "3.10.3"
  }
 },
 "nbformat": 4,
 "nbformat_minor": 5
}
