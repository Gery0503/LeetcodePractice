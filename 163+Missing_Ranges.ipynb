{
 "cells": [
  {
   "cell_type": "markdown",
   "metadata": {},
   "source": [
    "# 163. Missing Ranges\n",
    "\n",
    "[Link to Problem](https://leetcode.com/problems/missing-ranges/description/)\n",
    "\n",
    "### Description\n",
    "Given a sorted integer array `nums`, and an inclusive range `[lower, upper]`, return a list of the missing ranges in the array. A number is missing if it is in the range `[lower, upper]` but not in `nums`. Each missing range should be represented by either a single number or a range format `[a,b]`.\n",
    "\n",
    "---\n",
    "**Example 1:**\n",
    "\n",
    "Input: `nums = [0,1,3,50,75]`, `lower = 0`, `upper = 99`\n",
    "Output: `[[2,2],[4,49],[51,74],[76,99]]`\n",
    "\n",
    "**Example 2:**\n",
    "\n",
    "Input: `nums = [-1]`, `lower = -1`, `upper = -1`\n",
    "Output: `[]`\n",
    "\n",
    "---\n",
    "**Constraints:**\n",
    "- `-10^9 <= lower <= upper <= 10^9`\n",
    "- `0 <= nums.length <= 100`\n",
    "- `lower <= nums[i] <= upper`\n",
    "- All integers in `nums` are unique and sorted in ascending order.\n"
   ]
  },
  {
   "cell_type": "markdown",
   "metadata": {},
   "source": [
    "## My intuition\n",
    " - if the current number not equal previous += 1, then add array (privous+=1, current_number-1)"
   ]
  },
  {
   "cell_type": "code",
   "execution_count": 28,
   "metadata": {},
   "outputs": [],
   "source": [
    "from typing import List\n",
    "\n",
    "class Solution:\n",
    "    def findMissingRanges(self, nums: List[int], lower: int, upper: int) -> List[List[int]]:\n",
    "        answers = []\n",
    "        cur_lower = lower\n",
    "        for num in nums:\n",
    "            if num > cur_lower:\n",
    "                answers.append([cur_lower, num - 1])\n",
    "            cur_lower = num + 1\n",
    "\n",
    "        if upper >= cur_lower:\n",
    "            answers.append([cur_lower,upper])\n",
    "        return answers\n",
    "    "
   ]
  },
  {
   "cell_type": "markdown",
   "metadata": {},
   "source": [
    "Here’s a structured **code review** of your notebook and solution for **163. Missing Ranges**:\n",
    "\n",
    "---\n",
    "\n",
    "### ✅ Strengths\n",
    "\n",
    "1. **Simplicity**:\n",
    "   The solution is concise, uses a single pass through `nums`, and doesn’t overcomplicate the logic.\n",
    "\n",
    "2. **Efficiency**:\n",
    "   Runs in **O(n)** time and **O(1)** extra space (ignoring output list). Perfectly optimal given constraints (`n ≤ 100`).\n",
    "\n",
    "3. **Readability**:\n",
    "\n",
    "   * Variable names like `answers` and `cur_lower` are understandable.\n",
    "   * Logic is broken down clearly: handle gaps between `cur_lower` and each `num`, then handle the tail (`upper`).\n",
    "\n",
    "---\n",
    "\n",
    "### ⚠️ Issues and Suggestions\n",
    "\n",
    "#### 1. **Edge Cases**\n",
    "\n",
    "* If `nums` is empty, your code still works (returns `[[lower, upper]]`), which is correct ✅.\n",
    "* If `lower == upper` and not in `nums`, it correctly returns `[[lower, lower]]`.\n",
    "* If all numbers are consecutive with no gaps, you return an empty list ✅.\n",
    "\n",
    "So correctness is fine. But let’s polish:\n",
    "\n",
    "#### 2. **Naming**\n",
    "\n",
    "* `answers` → `missing_ranges` (more descriptive).\n",
    "* `cur_lower` → `next_expected` (captures intent better: the next number we expect to see).\n",
    "\n",
    "#### 3. **Formatting Output**\n",
    "\n",
    "* The problem statement uses `[[a, b]]` format. That’s fine.\n",
    "* Sometimes LeetCode problems ask for string format like `\"a->b\"`. This is fine here, but if reused, might need adaptation.\n",
    "\n",
    "#### 4. **Readability Improvements**\n",
    "\n",
    "* Move the **range-appending logic** into a helper function. This avoids repeating `[cur_lower, num-1]` and `[cur_lower, upper]`.\n",
    "\n",
    "Example refactor:"
   ]
  },
  {
   "cell_type": "code",
   "execution_count": 30,
   "metadata": {},
   "outputs": [],
   "source": [
    "from typing import List\n",
    "\n",
    "class Solution:\n",
    "    def findMissingRanges(self, nums: List[int], lower: int, upper: int) -> List[List[int]]:\n",
    "        def add_range(start: int, end: int) -> None:\n",
    "            if start <= end:\n",
    "                missing_ranges.append([start, end])\n",
    "\n",
    "        missing_ranges = []\n",
    "        next_expected = lower\n",
    "\n",
    "        for num in nums:\n",
    "            add_range(next_expected, num - 1)\n",
    "            next_expected = num + 1\n",
    "\n",
    "        add_range(next_expected, upper)\n",
    "        return missing_ranges"
   ]
  },
  {
   "cell_type": "markdown",
   "metadata": {},
   "source": [
    "* Cleaner: the intent (\"add range if valid\") is abstracted, so the main loop is easier to follow.\n",
    "\n",
    "---\n",
    "\n",
    "### 📌 Summary of Recommendations\n",
    "\n",
    "1. Rename `answers` → `missing_ranges` and `cur_lower` → `next_expected` for clarity.\n",
    "2. Extract repeated logic into a helper (`add_range`).\n",
    "3. Keep your one-pass, O(n) solution—it’s already optimal.\n",
    "\n",
    "---\n",
    "\n",
    "👉 Do you want me to **refactor your notebook** so it shows both the “first working draft” and the “polished refactored solution,” or do you prefer a **single final version** for interview use?"
   ]
  }
 ],
 "metadata": {
  "kernelspec": {
   "display_name": "Python 3 (ipykernel)",
   "language": "python",
   "name": "python3"
  },
  "language_info": {
   "codemirror_mode": {
    "name": "ipython",
    "version": 3
   },
   "file_extension": ".py",
   "mimetype": "text/x-python",
   "name": "python",
   "nbconvert_exporter": "python",
   "pygments_lexer": "ipython3",
   "version": "3.10.3"
  }
 },
 "nbformat": 4,
 "nbformat_minor": 4
}
