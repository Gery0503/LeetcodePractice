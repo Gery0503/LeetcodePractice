{
 "cells": [
  {
   "cell_type": "code",
   "execution_count": 46,
   "metadata": {},
   "outputs": [],
   "source": [
    "# LeetCode 217: Contains Duplicate\n",
    "# https://leetcode.com/problems/contains-duplicate/\n",
    "# Time Complexity: O(n)\n",
    "# Space Complexity: O(n)"
   ]
  },
  {
   "cell_type": "markdown",
   "metadata": {},
   "source": [
    "# 217. Contains Duplicate\n",
    "\n",
    "[Link to Problem](https://leetcode.com/problems/contains-duplicate/description/)\n",
    "\n",
    "### Description\n",
    "Given an integer array `nums`, return `true` if any value appears **at least twice** in the array, and return `false` if every element is distinct.\n",
    "\n",
    "---\n",
    "**Example 1:**\n",
    "\n",
    "Input: `nums = [1,2,3,1]`\n",
    "Output: `true`\n",
    "\n",
    "**Example 2:**\n",
    "\n",
    "Input: `nums = [1,2,3,4]`\n",
    "Output: `false`\n",
    "\n",
    "**Example 3:**\n",
    "\n",
    "Input: `nums = [1,1,1,3,3,4,3,2,4,2]`\n",
    "Output: `true`\n",
    "\n",
    "---\n",
    "**Constraints:**\n",
    "- `1 <= nums.length <= 10^5`\n",
    "- `-10^9 <= nums[i] <= 10^9`"
   ]
  },
  {
   "cell_type": "markdown",
   "metadata": {},
   "source": [
    "### My intuition:\n",
    "Create list to store seen number, Time is O(n).  \n",
    "Any second approach? \"exclusive or\" could help? No. XOR is for solving practices like find missing element in second array."
   ]
  },
  {
   "cell_type": "code",
   "execution_count": null,
   "metadata": {},
   "outputs": [],
   "source": [
    "from typing import List"
   ]
  },
  {
   "cell_type": "code",
   "execution_count": 35,
   "metadata": {},
   "outputs": [],
   "source": [
    "# Bad for big input size\n",
    "class Solution:\n",
    "    def containsDuplicate(self, nums: List[int]) -> bool:\n",
    "        seen = []\n",
    "        for n in nums:\n",
    "            if n in seen:\n",
    "                return True\n",
    "            else:\n",
    "                seen.append(n)\n",
    "        return False\n",
    "# Time: not O(n) -> O(n²)\n",
    "# Space: O(n)"
   ]
  },
  {
   "cell_type": "code",
   "execution_count": 36,
   "metadata": {},
   "outputs": [],
   "source": [
    "class Solution:\n",
    "    def containsDuplicate(self, nums: List[int]) -> bool:\n",
    "        from collections import Counter\n",
    "        c = Counter(nums)\n",
    "        for counts in c.values():\n",
    "            if counts > 1:\n",
    "                return True\n",
    "        return False\n",
    "# Time: O(n)\n",
    "# Space: O(n)"
   ]
  },
  {
   "cell_type": "markdown",
   "metadata": {},
   "source": [
    "Think twice: use set"
   ]
  },
  {
   "cell_type": "code",
   "execution_count": 42,
   "metadata": {},
   "outputs": [],
   "source": [
    "class Solution:\n",
    "    def containsDuplicate(self, nums: List[int]) -> bool:\n",
    "        return len(set(nums)) < len(nums)\n",
    "# Time: O(n)\n",
    "# Space: O(n)"
   ]
  },
  {
   "cell_type": "markdown",
   "metadata": {},
   "source": [
    "## ✅ Overall Evaluation\n",
    "\n",
    "You've done a great job exploring multiple approaches:\n",
    "\n",
    "* A naive list approach.\n",
    "* `collections.Counter` use.\n",
    "* An efficient `set`-based one-liner.\n",
    "\n",
    "The test cases cover a wide range of scenarios. Well done!\n",
    "\n",
    "---\n",
    "\n",
    "## 🧠 Code Review & Suggestions\n",
    "### ❌ \\[Code Block] `seen = []` Approach\n",
    "\n",
    "**🔴 Issues:**\n",
    "\n",
    "* `in seen` is **O(n)** for each lookup — total time is **O(n²)**.\n",
    "* This will time out on large inputs.\n",
    "\n",
    "**🟢 Suggest replacing `seen = []` with a set:**\n",
    "\n",
    "This brings it down to **O(n)** time and **O(n)** space.\n",
    "\n",
    "---\n",
    "\n",
    "### ✅ \\[Code Block] `Counter` Approach\n",
    "\n",
    "**✅ Correctness:**\n",
    "\n",
    "* Works fine.\n",
    "\n",
    "**⚠️ Slight Overkill:**\n",
    "\n",
    "* You're counting **all** occurrences but only care about **first duplicate**.\n",
    "* Slightly less efficient in memory & performance than using a set.\n",
    "\n",
    "---\n",
    "\n",
    "### ✅ \\[Code Block] `set` Length Comparison\n",
    "\n",
    "**✅ Excellent:**\n",
    "\n",
    "* Very Pythonic.\n",
    "* Fast: Set construction is **O(n)**, and comparison is **O(1)**.\n",
    "\n",
    "## ✅ Summary Scorecard\n",
    "\n",
    "| Section                    | Feedback                     |\n",
    "| -------------------------- | ---------------------------- |\n",
    "| Naive List Approach        | ⚠️ Correctly flagged as slow |\n",
    "| Counter Approach           | ✅ Valid, slight overkill     |\n",
    "| Set Length Comparison      | ✅ Elegant & Pythonic         |\n",
    "| Best Approach (Set + Loop) | 🔥 Should be highlighted     |"
   ]
  },
  {
   "cell_type": "code",
   "execution_count": 45,
   "metadata": {},
   "outputs": [],
   "source": [
    "# Best approach\n",
    "class Solution:\n",
    "    def containsDuplicate(self, nums: List[int]) -> bool:\n",
    "        seen = set()\n",
    "        for n in nums:\n",
    "            if n in seen:\n",
    "                return True\n",
    "            seen.add(n)\n",
    "        return False\n",
    "# Time: O(n)\n",
    "# Space: O(n)"
   ]
  },
  {
   "cell_type": "markdown",
   "metadata": {},
   "source": [
    "### ✅ Best Practice Version:\n",
    "* Avoids unnecessary full counting (`Counter`).\n",
    "* Avoids full set creation (`len(set(...))`).\n",
    "* Short-circuits early once a duplicate is found."
   ]
  },
  {
   "cell_type": "markdown",
   "metadata": {},
   "source": [
    "## Why set brings it down to O(n)?"
   ]
  },
  {
   "cell_type": "markdown",
   "metadata": {},
   "source": [
    "## ⏱ Time Complexity: **O(n)**\n",
    "\n",
    "Let’s analyze step-by-step:\n",
    "\n",
    "* The loop runs once for each element in `nums` → **`n` iterations**.\n",
    "* `num in seen` is an average-case **O(1)** operation because `set` in Python is implemented as a **hash table**.\n",
    "* `seen.add(num)` is also average-case **O(1)**.\n",
    "\n",
    "So for each of the `n` elements:\n",
    "\n",
    "* You do **one O(1) lookup** and **one O(1) insertion**.\n",
    "\n",
    "Therefore:\n",
    "\n",
    "> Total time = **O(n × (1 + 1)) = O(n)**\n",
    "\n",
    "💡 *Note:* Worst-case lookup in a hash set can degrade to O(n), but that's extremely rare due to good hash functions and Python’s internal optimizations.\n",
    "\n",
    "✅ Using a `set` is both efficient and simple when checking for duplicates."
   ]
  },
  {
   "cell_type": "code",
   "execution_count": 40,
   "metadata": {},
   "outputs": [],
   "source": [
    "assert Solution().containsDuplicate([1,2,3,1]) == True\n",
    "assert Solution().containsDuplicate([1,2,3,4]) == False\n",
    "assert Solution().containsDuplicate([1,1,1,3,3,4,3,2,4,2]) == True\n",
    "assert Solution().containsDuplicate([]) == False\n",
    "assert Solution().containsDuplicate([1]) == False\n",
    "assert Solution().containsDuplicate([1,1]) == True"
   ]
  }
 ],
 "metadata": {
  "kernelspec": {
   "display_name": "Python 3 (ipykernel)",
   "language": "python",
   "name": "python3"
  },
  "language_info": {
   "codemirror_mode": {
    "name": "ipython",
    "version": 3
   },
   "file_extension": ".py",
   "mimetype": "text/x-python",
   "name": "python",
   "nbconvert_exporter": "python",
   "pygments_lexer": "ipython3",
   "version": "3.10.3"
  }
 },
 "nbformat": 4,
 "nbformat_minor": 4
}
