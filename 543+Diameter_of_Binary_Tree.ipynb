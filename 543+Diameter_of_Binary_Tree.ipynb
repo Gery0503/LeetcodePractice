{
 "cells": [
  {
   "cell_type": "code",
   "execution_count": 20,
   "metadata": {},
   "outputs": [],
   "source": [
    "# LeetCode 543. Diameter of Binary Tree\n",
    "# Time Complexity: O(n)\n",
    "# Space Complexity: O(h)"
   ]
  },
  {
   "cell_type": "markdown",
   "metadata": {},
   "source": [
    "# 543. Diameter of Binary Tree\n",
    "\n",
    "[Link to Problem](https://leetcode.com/problems/diameter-of-binary-tree/description/)\n",
    "\n",
    "### Description\n",
    "Given the `root` of a binary tree, return *the length of the diameter* of the tree.\n",
    "\n",
    "The **diameter** of a binary tree is the length of the longest path between any two nodes in a tree. This path may or may not pass through the root.\n",
    "\n",
    "The length of a path between two nodes is represented by the number of edges between them.\n",
    "\n",
    "---\n",
    "**Example 1:**\n",
    "\n",
    "Input: `root = [1,2,3,4,5]`\n",
    "Output: `3`\n",
    "Explanation: The longest path is [4,2,1,3] or [5,2,1,3], and its length is 3.\n",
    "\n",
    "**Example 2:**\n",
    "\n",
    "Input: `root = [1,2]`\n",
    "Output: `1`\n",
    "\n",
    "---\n",
    "**Constraints:**\n",
    "- The number of nodes in the tree is in the range `[1, 10^4]`\n",
    "- `-100 <= Node.val <= 100`"
   ]
  },
  {
   "cell_type": "markdown",
   "metadata": {},
   "source": [
    "My intuition: Caculate each subtree depth. Max( left subtree depth + right subtree depth) is the anwser."
   ]
  },
  {
   "cell_type": "code",
   "execution_count": 14,
   "metadata": {},
   "outputs": [],
   "source": [
    "# Definition for a binary tree node.\n",
    "class TreeNode:\n",
    "    def __init__(self, val=0, left=None, right=None):\n",
    "        self.val = val\n",
    "        self.left = left\n",
    "        self.right = right\n",
    "\n",
    "class Solution:\n",
    "    def diameterOfBinaryTree(self, root: TreeNode) -> int:\n",
    "        def dfs(node: TreeNode) -> (int, int):  # return depth, diameter      \n",
    "            if not node:\n",
    "                return -1, -1\n",
    "            left_dep, left_diam = dfs(node.left)\n",
    "            right_dep, right_diam = dfs(node.right)\n",
    "            left_dep += 1\n",
    "            right_dep += 1\n",
    "            dep = max(left_dep, right_dep)\n",
    "            diam = max(left_diam, right_diam, left_dep + right_dep)\n",
    "            return dep, diam\n",
    "        return dfs(root)[1]\n",
    "# Time: O(n)\n",
    "# Space: O(h)"
   ]
  },
  {
   "cell_type": "markdown",
   "metadata": {},
   "source": [
    "## ✅ Code Review Summary\n",
    "\n",
    "| Aspect           | Rating | Comments                                                                                                  |\n",
    "| ---------------- | ------ | --------------------------------------------------------------------------------------------------------- |\n",
    "| **Correctness**  | ✅      | Your solution correctly computes the diameter using DFS.                                                  |\n",
    "| **Efficiency**   | ✅      | Runs in O(n) time and O(h) space.                                                                         |\n",
    "| **Code Quality** | ✅      | Clear, logical, and well-structured.                                                                      |\n",
    "| **Readability**  | ⚠️     | Slightly verbose `dfs()` return format and variable naming could be cleaner.                              |\n",
    "| **Improvements** | ⚠️     | You could simplify by tracking the diameter as a class or nonlocal variable instead of returning a tuple. |\n",
    "\n",
    "---\n",
    "\n",
    "## 🧠 Understanding the Approach\n",
    "\n",
    "* You use **post-order DFS**: compute left/right subtree depths recursively.\n",
    "* For each node, update the **maximum diameter** as the sum of left and right depths.\n",
    "* This ensures you capture the longest path **not necessarily through root**.\n",
    "\n",
    "---\n",
    "\n",
    "## ✅ Code Works Well\n",
    "\n",
    "But let’s improve readability and performance slightly.\n",
    "\n",
    "---\n",
    "\n",
    "## ✅ Suggested Improvements\n",
    "\n",
    "### 🔁 1. Use Class/Nonlocal Variable Instead of Tuple\n",
    "\n",
    "This avoids tuple unpacking and returns cleaner code:"
   ]
  },
  {
   "cell_type": "code",
   "execution_count": 18,
   "metadata": {},
   "outputs": [],
   "source": [
    "class Solution:\n",
    "    def diameterOfBinaryTree(self, root: TreeNode) -> int:\n",
    "        self.diameter = 0\n",
    "\n",
    "        def dfs(node: TreeNode) -> int:  # return depth only\n",
    "            if not node:\n",
    "                return -1\n",
    "            left = dfs(node.left)\n",
    "            right = dfs(node.right)\n",
    "            self.diameter = max(self.diameter, left + right + 2)\n",
    "            return max(left, right) + 1\n",
    "\n",
    "        dfs(root)\n",
    "        return self.diameter\n",
    "# Time: O(n)\n",
    "# Space: O(h)"
   ]
  },
  {
   "cell_type": "markdown",
   "metadata": {},
   "source": [
    "### 💡 Why This is Better:\n",
    "\n",
    "* Eliminates double return and redundant `diam` vs `dep` logic.\n",
    "* More natural to update `self.diameter` in place.\n",
    "* Easier to debug and extend.\n",
    "\n",
    "---\n",
    "\n",
    "## 🧪 Test Coverage\n",
    "\n",
    "✅ You tested:\n",
    "\n",
    "* Balanced tree\n",
    "* Minimal tree\n",
    "* Correct depth and diameter values\n",
    "\n",
    "✅ Good use of printed intermediate values for manual verification.\n",
    "\n",
    "---\n",
    "\n",
    "## 🧠 Time and Space Complexity\n",
    "\n",
    "| Metric    | Value  |                                       |\n",
    "| --------- | ------ | ------------------------------------- |\n",
    "| **Time**  | `O(n)` | Each node visited once.               |\n",
    "| **Space** | `O(h)` | Call stack depth (worst-case `O(n)`). |\n",
    "\n",
    "---\n",
    "\n",
    "## ✅ Final Notes\n",
    "\n",
    "* This is a strong implementation.\n",
    "* Switch to a class or closure variable to enhance readability."
   ]
  },
  {
   "cell_type": "code",
   "execution_count": 19,
   "metadata": {},
   "outputs": [],
   "source": [
    "assert Solution().diameterOfBinaryTree(\n",
    "    TreeNode(1, TreeNode(2, TreeNode(4, None, None), TreeNode(5, None, None)), TreeNode(3, None, None))\n",
    ") == 3\n",
    "\n",
    "assert Solution().diameterOfBinaryTree(\n",
    "    TreeNode(1, TreeNode(2), None)\n",
    ") == 1"
   ]
  }
 ],
 "metadata": {
  "kernelspec": {
   "display_name": "Python 3 (ipykernel)",
   "language": "python",
   "name": "python3"
  },
  "language_info": {
   "codemirror_mode": {
    "name": "ipython",
    "version": 3
   },
   "file_extension": ".py",
   "mimetype": "text/x-python",
   "name": "python",
   "nbconvert_exporter": "python",
   "pygments_lexer": "ipython3",
   "version": "3.10.3"
  }
 },
 "nbformat": 4,
 "nbformat_minor": 4
}
