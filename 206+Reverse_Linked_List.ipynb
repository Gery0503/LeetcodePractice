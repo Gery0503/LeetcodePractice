{
 "cells": [
  {
   "cell_type": "code",
   "execution_count": 151,
   "metadata": {},
   "outputs": [],
   "source": [
    "# LeetCode 206: Reverse Linked List\n",
    "# https://leetcode.com/problems/reverse-linked-list\n",
    "# Time Complexity: O(n)\n",
    "# Space Complexity: O(1)"
   ]
  },
  {
   "cell_type": "markdown",
   "metadata": {},
   "source": [
    "# 206. Reverse Linked List\n",
    "\n",
    "[Link to Problem](https://leetcode.com/problems/reverse-linked-list/description/)\n",
    "\n",
    "### Description\n",
    "Given the `head` of a singly linked list, reverse the list, and return the reversed list.\n",
    "\n",
    "---\n",
    "**Example 1:**\n",
    "\n",
    "Input: `head = [1,2,3,4,5]`\n",
    "\n",
    "Output: `[5,4,3,2,1]`\n",
    "\n",
    "**Example 2:**\n",
    "\n",
    "Input: `head = [1,2]`\n",
    "\n",
    "Output: `[2,1]`\n",
    "\n",
    "**Example 3:**\n",
    "\n",
    "Input: `head = []`\n",
    "\n",
    "Output: `[]`\n",
    "\n",
    "---\n",
    "**Constraints:**\n",
    "- The number of nodes in the list is the range `[0, 5000]`\n",
    "- `-5000 <= Node.val <= 5000`\n",
    "\n",
    "**Follow up:**\n",
    "A linked list can be reversed either iteratively or recursively. Could you implement both?\n"
   ]
  },
  {
   "cell_type": "code",
   "execution_count": 121,
   "metadata": {
    "editable": true,
    "slideshow": {
     "slide_type": ""
    },
    "tags": []
   },
   "outputs": [],
   "source": [
    "# Definition for singly-linked list.\n",
    "class ListNode:\n",
    "    def __init__(self, val=0, next=None):\n",
    "        self.val = val\n",
    "        self.next = next\n",
    "\n",
    "class Solution:\n",
    "    # Iterative approach\n",
    "    def reverseList(self, head: ListNode) -> ListNode:           \n",
    "        prev = None\n",
    "        \n",
    "        while head:\n",
    "            next_node = head.next\n",
    "            head.next = prev\n",
    "            prev = head\n",
    "            head = next_node\n",
    "            \n",
    "        return prev\n",
    "        \n",
    "    # Time: O(n)\n",
    "    # Space: O(1)"
   ]
  },
  {
   "cell_type": "code",
   "execution_count": 123,
   "metadata": {},
   "outputs": [],
   "source": [
    "# Define functions for test\n",
    "def create_node(arr):\n",
    "    if len(arr) == 0:\n",
    "        return None\n",
    "    node = ListNode(arr[0])\n",
    "    first = node\n",
    "    for num in arr[1:]:\n",
    "        new = ListNode(num)\n",
    "        node.next = new\n",
    "        node = node.next\n",
    "    return first\n",
    "\n",
    "def node_to_lst(node):\n",
    "    lst = []\n",
    "    while node:\n",
    "        lst.append(node.val)\n",
    "        node = node.next\n",
    "    return lst"
   ]
  },
  {
   "cell_type": "code",
   "execution_count": 124,
   "metadata": {},
   "outputs": [],
   "source": [
    "assert node_to_lst(Solution().reverseList(create_node([1, 2, 3, 4, 5]))) == [5, 4, 3, 2, 1]\n",
    "assert node_to_lst(Solution().reverseList(create_node([1, 2]))) == [2, 1]\n",
    "assert node_to_lst(Solution().reverseList(create_node([]))) == []"
   ]
  },
  {
   "cell_type": "code",
   "execution_count": 149,
   "metadata": {},
   "outputs": [],
   "source": [
    "class Solution:\n",
    "    # recursive approach\n",
    "    def reverseList(self, head: ListNode) -> ListNode:\n",
    "        if not head or not head.next:\n",
    "            return head\n",
    "\n",
    "        new_head = self.reverseList(head.next)\n",
    "        head.next.next = head\n",
    "        head.next = None\n",
    "\n",
    "        return new_head\n",
    "        \n",
    "    # Time: O(n)\n",
    "    # Space: O(n)"
   ]
  },
  {
   "cell_type": "code",
   "execution_count": 150,
   "metadata": {},
   "outputs": [],
   "source": [
    "assert node_to_lst(Solution().reverseList(create_node([1, 2, 3, 4, 5]))) == [5, 4, 3, 2, 1]\n",
    "assert node_to_lst(Solution().reverseList(create_node([1, 2]))) == [2, 1]\n",
    "assert node_to_lst(Solution().reverseList(create_node([]))) == []"
   ]
  }
 ],
 "metadata": {
  "kernelspec": {
   "display_name": "Python 3 (ipykernel)",
   "language": "python",
   "name": "python3"
  },
  "language_info": {
   "codemirror_mode": {
    "name": "ipython",
    "version": 3
   },
   "file_extension": ".py",
   "mimetype": "text/x-python",
   "name": "python",
   "nbconvert_exporter": "python",
   "pygments_lexer": "ipython3",
   "version": "3.10.3"
  }
 },
 "nbformat": 4,
 "nbformat_minor": 4
}
