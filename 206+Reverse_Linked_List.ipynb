{
  "cells": [
    {
      "cell_type": "markdown",
      "metadata": {},
      "source": [
        "# 206. Reverse Linked List\n",
        "\n",
        "[Link to Problem](https://leetcode.com/problems/reverse-linked-list/description/)\n",
        "\n",
        "### Description\n",
        "Given the `head` of a singly linked list, reverse the list, and return the reversed list.\n",
        "\n",
        "---\n",
        "**Example 1:**\n",
        "\n",
        "Input: `head = [1,2,3,4,5]`\n",
        "\n",
        "Output: `[5,4,3,2,1]`\n",
        "\n",
        "**Example 2:**\n",
        "\n",
        "Input: `head = [1,2]`\n",
        "\n",
        "Output: `[2,1]`\n",
        "\n",
        "**Example 3:**\n",
        "\n",
        "Input: `head = []`\n",
        "\n",
        "Output: `[]`\n",
        "\n",
        "---\n",
        "**Constraints:**\n",
        "- The number of nodes in the list is the range `[0, 5000]`\n",
        "- `-5000 <= Node.val <= 5000`\n",
        "\n",
        "**Follow up:**\n",
        "A linked list can be reversed either iteratively or recursively. Could you implement both?\n"
      ]
    },
    {
      "cell_type": "code",
      "execution_count": null,
      "metadata": {},
      "outputs": [],
      "source": [
        "# Definition for singly-linked list.\n",
        "class ListNode:\n",
        "    def __init__(self, val=0, next=None):\n",
        "        self.val = val\n",
        "        self.next = next\n",
        "\n",
        "class Solution:\n",
        "    def reverseList(self, head: ListNode) -> ListNode:\n",
        "        pass"
      ]
    }
  ],
  "metadata": {
    "kernelspec": {
      "display_name": "Python 3",
      "language": "python",
      "name": "python3"
    },
    "language_info": {
      "name": "python",
      "version": "3.x"
    }
  },
  "nbformat": 4,
  "nbformat_minor": 2
}
