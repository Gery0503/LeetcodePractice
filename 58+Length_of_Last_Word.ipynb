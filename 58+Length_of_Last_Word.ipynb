{
 "cells": [
  {
   "cell_type": "code",
   "execution_count": 11,
   "metadata": {},
   "outputs": [],
   "source": [
    "# LeetCode 58: Length of Last Word\n",
    "# https://leetcode.com/problems/length-of-last-word/\n",
    "# Time Complexity: O(n)\n",
    "# Space Complexity: O(1)"
   ]
  },
  {
   "cell_type": "markdown",
   "metadata": {},
   "source": [
    "# 58. Length of Last Word\n",
    "\n",
    "[Link to Problem](https://leetcode.com/problems/length-of-last-word/description/)\n",
    "\n",
    "### Description\n",
    "Given a string `s` consisting of words and spaces, return the length of the **last** word in the string.\n",
    "\n",
    "A **word** is a maximal substring consisting of non-space characters only.\n",
    "\n",
    "---\n",
    "**Example 1:**\n",
    "\n",
    "Input: `s = \"Hello World\"`\n",
    "Output: `5`\n",
    "Explanation: The last word is \"World\" with length 5.\n",
    "\n",
    "**Example 2:**\n",
    "\n",
    "Input: `s = \"   fly me   to   the moon  \"`\n",
    "Output: `4`\n",
    "Explanation: The last word is \"moon\" with length 4.\n",
    "\n",
    "**Example 3:**\n",
    "\n",
    "Input: `s = \"luffy is still joyboy\"`\n",
    "Output: `6`\n",
    "Explanation: The last word is \"joyboy\" with length 6.\n",
    "\n",
    "---\n",
    "**Constraints:**\n",
    "- `1 <= s.length <= 10^4`\n",
    "- `s` consists of only English letters and spaces `' '`.\n",
    "- There will be at least one word in `s`."
   ]
  },
  {
   "cell_type": "markdown",
   "metadata": {},
   "source": [
    "My intuition: Just count from the end."
   ]
  },
  {
   "cell_type": "code",
   "execution_count": 4,
   "metadata": {},
   "outputs": [],
   "source": [
    "class Solution:\n",
    "    def lengthOfLastWord(self, s: str) -> int:\n",
    "        i = len(s)\n",
    "        count = 0\n",
    "        while i > 0:\n",
    "            i -= 1\n",
    "            if s[i] == ' ' and count > 0:\n",
    "                return count\n",
    "            if s[i] != ' ':\n",
    "                count += 1\n",
    "        return count\n",
    "# Time: O(n)\n",
    "# Space: O(1)            "
   ]
  },
  {
   "cell_type": "markdown",
   "metadata": {},
   "source": [
    "### ✅ Overall Assessment\n",
    "\n",
    "Your implementation is **correct**, **efficient**, and **space optimal**. It handles trailing spaces and loops from the end to count the characters in the last word.\n",
    "\n",
    "---\n",
    "\n",
    "### 🔍 Code Review\n",
    "\n",
    "#### ✅ Pros:\n",
    "\n",
    "| Strength                     | Notes                                                              |\n",
    "| ---------------------------- | ------------------------------------------------------------------ |\n",
    "| **Efficiency**               | `O(n)` time and `O(1)` space – perfect for input size up to `10⁴`. |\n",
    "| **No extra data structures** | You avoid string splitting or slicing, which saves memory.         |\n",
    "| **Handles edge cases**       | Leading/trailing/multiple spaces are all handled.                  |\n",
    "| **Good readability**         | Code is clear and follows a linear scan logic.                     |\n",
    "\n",
    "---\n",
    "\n",
    "### 🛠 Minor Improvements\n",
    "\n",
    "#### 🔹 Rename variable `i` to `index` or `pos`\n",
    "\n",
    "More descriptive names improve readability.\n",
    "\n",
    "```python\n",
    "index = len(s)\n",
    "```\n",
    "\n",
    "#### 🔹 Use a `for` loop with `range(len(s) - 1, -1, -1)`\n",
    "\n",
    "This avoids manual decrementing and is more Pythonic:"
   ]
  },
  {
   "cell_type": "code",
   "execution_count": 9,
   "metadata": {},
   "outputs": [],
   "source": [
    "# for loop version\n",
    "class Solution:\n",
    "    def lengthOfLastWord(self, s: str) -> int:\n",
    "        count = 0\n",
    "        for i in range(len(s) - 1, -1, -1):\n",
    "            if s[i] == ' ' and count > 0:\n",
    "                return count\n",
    "            if s[i] != ' ':\n",
    "                count += 1\n",
    "        return count\n",
    "# Time: O(n)\n",
    "# Space: O(1)"
   ]
  },
  {
   "cell_type": "markdown",
   "metadata": {},
   "source": [
    "### ✅ Optional Pythonic Alternative\n",
    "\n",
    "```python\n",
    "class Solution:\n",
    "    def lengthOfLastWord(self, s: str) -> int:\n",
    "        return len(s.strip().split()[-1])\n",
    "```\n",
    "\n",
    "| ✅ Pros               | ❌ Cons                                                   |\n",
    "| -------------------- | -------------------------------------------------------- |\n",
    "| Concise and readable | Creates temporary lists and copies — `O(n)` space        |\n",
    "| One-liner            | Not ideal for interviews where space optimality is asked |\n",
    "\n",
    "---\n",
    "\n",
    "### ✅ Summary\n",
    "\n",
    "| Metric               | Value                                                              |\n",
    "| -------------------- | ------------------------------------------------------------------ |\n",
    "| **Time Complexity**  | `O(n)`                                                             |\n",
    "| **Space Complexity** | `O(1)` (your version)                                              |\n",
    "| **Final Verdict**    | ✅ Great job! Just add a minor variable name improvement if needed. |"
   ]
  },
  {
   "cell_type": "code",
   "execution_count": 10,
   "metadata": {},
   "outputs": [],
   "source": [
    "assert Solution().lengthOfLastWord(\"Hello World\") == 5\n",
    "assert Solution().lengthOfLastWord(\"   fly me   to   the moon  \") == 4\n",
    "assert Solution().lengthOfLastWord(\"luffy is still joyboy\") == 6\n",
    "assert Solution().lengthOfLastWord(\"a\") == 1"
   ]
  }
 ],
 "metadata": {
  "kernelspec": {
   "display_name": "Python 3 (ipykernel)",
   "language": "python",
   "name": "python3"
  },
  "language_info": {
   "codemirror_mode": {
    "name": "ipython",
    "version": 3
   },
   "file_extension": ".py",
   "mimetype": "text/x-python",
   "name": "python",
   "nbconvert_exporter": "python",
   "pygments_lexer": "ipython3",
   "version": "3.10.3"
  }
 },
 "nbformat": 4,
 "nbformat_minor": 4
}
