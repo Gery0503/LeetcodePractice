{
 "cells": [
  {
   "cell_type": "markdown",
   "metadata": {},
   "source": [
    "# 3. Longest Substring Without Repeating Characters\n",
    "\n",
    "[Link to Problem](https://leetcode.com/problems/longest-substring-without-repeating-characters/description/)\n",
    "\n",
    "### Description\n",
    "Given a string `s`, find the length of the **longest substring** without repeating characters.\n",
    "\n",
    "---\n",
    "**Example 1:**\n",
    "\n",
    "Input: `s = \"abcabcbb\"`\n",
    "Output: `3`\n",
    "Explanation: The answer is \"abc\", with the length of `3`.\n",
    "\n",
    "**Example 2:**\n",
    "\n",
    "Input: `s = \"bbbbb\"`\n",
    "Output: `1`\n",
    "Explanation: The answer is \"b\", with the length of `1`.\n",
    "\n",
    "**Example 3:**\n",
    "\n",
    "Input: `s = \"pwwkew\"`\n",
    "Output: `3`\n",
    "Explanation: The answer is \"wke\", with the length of `3`.\n",
    "Notice that the answer must be a **substring**, \"pwke\" is a subsequence and not a substring.\n",
    "\n",
    "---\n",
    "**Constraints:**\n",
    "- `0 <= s.length <= 5 * 10^4`\n",
    "- `s` consists of English letters, digits, symbols, and spaces."
   ]
  },
  {
   "cell_type": "markdown",
   "metadata": {},
   "source": [
    "## My intuition:\n",
    " - Use deque\n",
    " - popleft until no repeating characters\n",
    " - Read next characters and record the longest length"
   ]
  },
  {
   "cell_type": "code",
   "execution_count": 1,
   "metadata": {},
   "outputs": [],
   "source": [
    "from collections import deque"
   ]
  },
  {
   "cell_type": "code",
   "execution_count": 27,
   "metadata": {},
   "outputs": [],
   "source": [
    "class Solution:\n",
    "    def lengthOfLongestSubstring(self, s: str) -> int:\n",
    "        longest_len = 0\n",
    "        start_idx = 0\n",
    "        seen = {}\n",
    "        q = deque([])\n",
    "        for i in range(len(s)):\n",
    "            char = s[i]\n",
    "            if char not in seen.keys():\n",
    "                seen[char] = i\n",
    "                longest_len = max(longest_len,i - start_idx + 1)\n",
    "            else:\n",
    "                char_idx = seen[char]\n",
    "                while q and q[0][0] <= char_idx:\n",
    "                    old = q.popleft()\n",
    "                    seen.pop(old[1])\n",
    "                start_idx = char_idx + 1\n",
    "                seen[char] = i\n",
    "            q.append((i, char))\n",
    "        return longest_len\n",
    "# Time: O(n)\n",
    "# Space: O(n)"
   ]
  },
  {
   "cell_type": "markdown",
   "metadata": {},
   "source": [
    "Your approach works correctly, but it’s a bit more complicated than necessary because of the `deque`. Let me walk through it and then suggest a simpler constant-space sliding window version.\n",
    "\n",
    "---\n",
    "\n",
    "### 🔍 Walkthrough of your approach\n",
    "\n",
    "* `seen`: dictionary storing each character’s most recent index.\n",
    "* `deque q`: keeps a queue of `(index, char)` pairs to know which characters to pop when duplicates appear.\n",
    "* On each new character:\n",
    "\n",
    "  * If it’s not in `seen`, extend the window and update `longest_len`.\n",
    "  * If it **is** in `seen`, you pop from `q` until you remove everything up to the duplicate’s last index, then move `start_idx` forward.\n",
    "* Complexity is `O(n)`, space `O(n)` (dictionary + deque).\n",
    "\n",
    "This is correct, but the **deque is redundant** — the dictionary + `start_idx` is already enough to maintain the sliding window.\n",
    "\n",
    "---\n",
    "\n",
    "### ⚡ Simpler Constant-Space Sliding Window\n"
   ]
  },
  {
   "cell_type": "code",
   "execution_count": 28,
   "metadata": {},
   "outputs": [],
   "source": [
    "class Solution:\n",
    "    def lengthOfLongestSubstring(self, s: str) -> int:\n",
    "        seen = {}\n",
    "        longest_len = 0\n",
    "        start_idx = 0  # left boundary of sliding window\n",
    "\n",
    "        for i, char in enumerate(s):\n",
    "            if char in seen and seen[char] >= start_idx:\n",
    "                # Move start right past the last duplicate\n",
    "                start_idx = seen[char] + 1\n",
    "            seen[char] = i\n",
    "            longest_len = max(longest_len, i - start_idx + 1)\n",
    "\n",
    "        return longest_len\n",
    "# Time: O(n)\n",
    "# Space: O(min(n, charset))  ~ O(1) if charset is bounded (ASCII/Unicode)"
   ]
  },
  {
   "cell_type": "markdown",
   "metadata": {},
   "source": [
    "### ✅ Why this is better\n",
    "\n",
    "| Approach                   | Time  | Space | Notes                                  |\n",
    "| -------------------------- | ----- | ----- | -------------------------------------- |\n",
    "| Your deque + dict          | O(n)  | O(n)  | Works, but deque is redundant          |\n",
    "| Sliding window (dict only) | O(n)  | O(1)  | Cleaner and more efficient             |\n",
    "| Brute force (check all)    | O(n³) | O(1)  | Too slow for n = 50k                   |\n",
    "| Expand/shrink set window   | O(n)  | O(1)  | Common alternative (uses set, no dict) |\n",
    "\n",
    "---\n",
    "\n",
    "👉 Do you want me to **rewrite your notebook** so it has both your deque version *and* this optimized sliding window version (side-by-side with test cases)? That way you’ll have a clean comparison inside one notebook."
   ]
  },
  {
   "cell_type": "code",
   "execution_count": 30,
   "metadata": {},
   "outputs": [],
   "source": [
    "# Test\n",
    "assert Solution().lengthOfLongestSubstring(\"abcabcbb\") == 3\n",
    "assert Solution().lengthOfLongestSubstring(\"bbbb\") == 1\n",
    "assert Solution().lengthOfLongestSubstring(\"pwwkew\") == 3\n",
    "assert Solution().lengthOfLongestSubstring(\"\") == 0\n",
    "assert Solution().lengthOfLongestSubstring(\"abcabcddabd\") == 4\n",
    "assert Solution().lengthOfLongestSubstring(\"a a\") == 2\n",
    "assert Solution().lengthOfLongestSubstring(\"tmmzuxt\") == 5\n",
    "assert Solution().lengthOfLongestSubstring(\"ggububgvfk\") == 6"
   ]
  }
 ],
 "metadata": {
  "kernelspec": {
   "display_name": "Python 3 (ipykernel)",
   "language": "python",
   "name": "python3"
  },
  "language_info": {
   "codemirror_mode": {
    "name": "ipython",
    "version": 3
   },
   "file_extension": ".py",
   "mimetype": "text/x-python",
   "name": "python",
   "nbconvert_exporter": "python",
   "pygments_lexer": "ipython3",
   "version": "3.10.3"
  }
 },
 "nbformat": 4,
 "nbformat_minor": 4
}
