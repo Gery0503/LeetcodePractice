{
 "cells": [
  {
   "cell_type": "markdown",
   "metadata": {},
   "source": [
    "# 2248. Intersection of Multiple Arrays\n",
    "\n",
    "[Link to Problem](https://leetcode.com/problems/intersection-of-multiple-arrays/description/)\n",
    "\n",
    "### Description\n",
    "Given a 2D integer array `nums` where `nums[i]` is a non-empty array of **distinct positive integers**, return the list of integers that are **present in each array** of `nums`, sorted in ascending order.\n",
    "\n",
    "---\n",
    "**Example 1:**\n",
    "\n",
    "Input: `nums = [[3,1,2,4,5],[1,2,3,4],[3,4,5,6]]`\n",
    "Output: `[3,4]`\n",
    "Explanation: Only 3 and 4 are present in all subarrays.\n",
    "\n",
    "**Example 2:**\n",
    "\n",
    "Input: `nums = [[1,2,3],[4,5,6]]`\n",
    "Output: `[]`\n",
    "Explanation: There are no common elements across all arrays.\n",
    "\n",
    "---\n",
    "**Constraints:**\n",
    "- `1 <= nums.length <= 1000`\n",
    "- `1 <= sum(nums[i].length) <= 1000`\n",
    "- `1 <= nums[i][j] <= 1000`\n",
    "- All elements in `nums[i]` are unique.\n"
   ]
  },
  {
   "cell_type": "markdown",
   "metadata": {},
   "source": [
    "### My intuition\n",
    " - use set"
   ]
  },
  {
   "cell_type": "code",
   "execution_count": 14,
   "metadata": {},
   "outputs": [],
   "source": [
    "from typing import List\n",
    "\n",
    "class Solution:\n",
    "    def intersection(self, nums: List[List[int]]) -> List[int]:\n",
    "        result = set(nums[0])\n",
    "        for i in range(1, len(nums)):\n",
    "            result = result & set(nums[i])\n",
    "        return sorted(result)\n",
    "# Time: O(klogk),  k = size of intersection\n",
    "# Space: max(nums[i])"
   ]
  },
  {
   "cell_type": "code",
   "execution_count": 16,
   "metadata": {},
   "outputs": [],
   "source": [
    "from typing import List\n",
    "\n",
    "class Solution:\n",
    "    def intersection(self, nums: List[List[int]]) -> List[int]:\n",
    "        return sorted(set(nums[0]).intersection(*map(set, nums[1:])))\n",
    "# Time: O(klogk),  k = size of intersection\n",
    "# Space: max(nums[i])"
   ]
  },
  {
   "cell_type": "code",
   "execution_count": 17,
   "metadata": {},
   "outputs": [],
   "source": [
    "# Test\n",
    "assert Solution().intersection([[3,1,2,4,5],[1,2,3,4],[3,4,5,6]]) == [3, 4]\n",
    "assert Solution().intersection([[1,2,3],[4,5,6]]) == []"
   ]
  }
 ],
 "metadata": {
  "kernelspec": {
   "display_name": "Python 3 (ipykernel)",
   "language": "python",
   "name": "python3"
  },
  "language_info": {
   "codemirror_mode": {
    "name": "ipython",
    "version": 3
   },
   "file_extension": ".py",
   "mimetype": "text/x-python",
   "name": "python",
   "nbconvert_exporter": "python",
   "pygments_lexer": "ipython3",
   "version": "3.10.3"
  }
 },
 "nbformat": 4,
 "nbformat_minor": 4
}
