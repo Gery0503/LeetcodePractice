{
 "cells": [
  {
   "cell_type": "code",
   "execution_count": null,
   "metadata": {},
   "outputs": [],
   "source": [
    "# LeetCode 104: Maximum Depth of Binary Tree\n",
    "# https://leetcode.com/problems/maximum-depth-of-binary-tree/\n",
    "# Time Complexity: O(n)\n",
    "# Space Complexity: O(h) or O(w) depend on using DFS of BFS "
   ]
  },
  {
   "cell_type": "markdown",
   "metadata": {},
   "source": [
    "# 104. Maximum Depth of Binary Tree\n",
    "\n",
    "[Link to Problem](https://leetcode.com/problems/maximum-depth-of-binary-tree/description/)\n",
    "\n",
    "### Description\n",
    "Given the `root` of a binary tree, return *its maximum depth*.\n",
    "\n",
    "A binary tree's **maximum depth** is the number of nodes along the longest path from the root node down to the farthest leaf node.\n",
    "\n",
    "---\n",
    "**Example 1:**\n",
    "\n",
    "Input: `root = [3,9,20,null,null,15,7]`\n",
    "Output: `3`\n",
    "\n",
    "**Example 2:**\n",
    "\n",
    "Input: `root = [1,null,2]`\n",
    "Output: `2`\n",
    "\n",
    "---\n",
    "**Constraints:**\n",
    "- The number of nodes in the tree is in the range `[0, 10^4]`.\n",
    "- `-100 <= Node.val <= 100`"
   ]
  },
  {
   "cell_type": "markdown",
   "metadata": {},
   "source": [
    "My intuition: DFS or BFS"
   ]
  },
  {
   "cell_type": "code",
   "execution_count": 9,
   "metadata": {},
   "outputs": [],
   "source": [
    "# Definition for a binary tree node.\n",
    "class TreeNode:\n",
    "    def __init__(self, val=0, left=None, right=None):\n",
    "        self.val = val\n",
    "        self.left = left\n",
    "        self.right = right\n",
    "# DFS \n",
    "class Solution:\n",
    "    def maxDepth(self, root: TreeNode) -> int:\n",
    "        def dfs(node, max_depth):\n",
    "            if node is None:\n",
    "                return max_depth\n",
    "            left = dfs(node.left, max_depth+1)\n",
    "            right = dfs(node.right, max_depth+1)\n",
    "            return max(left, right)\n",
    "        \n",
    "        return dfs(root, 0)\n",
    "# Time: O(n)\n",
    "# Space: not O(n), correction: O(h) for recursion stack (h = tree height)"
   ]
  },
  {
   "cell_type": "markdown",
   "metadata": {},
   "source": [
    "### ✅ High-Level Summary\n",
    "\n",
    "You're solving this using a **recursive depth-first search (DFS)**, which is an ideal approach for this problem. The recursive function correctly tracks depth as it traverses left and right subtrees.\n",
    "\n",
    "---\n",
    "\n",
    "### ✅ What You Did Well\n",
    "\n",
    "| Area                      | Feedback                                                      |\n",
    "| ------------------------- | ------------------------------------------------------------- |\n",
    "| ✅ Correctness             | All test cases pass, including edge cases like an empty tree. |\n",
    "| ✅ Approach                | DFS recursion is optimal here.                                |\n",
    "| ✅ Time & Space Complexity | Both are correctly noted as O(n).                             |\n",
    "| ✅ Readability             | Clear and consistent naming and structure.                    |\n",
    "| ✅ Testing                 | Great variety of assertions including edge and normal cases.  |\n",
    "\n",
    "---\n",
    "\n",
    "### 🛠 Suggestions for Improvement\n",
    "\n",
    "#### 1. **Simplify the DFS logic**\n",
    "\n",
    "You’re passing the depth manually, but it’s simpler to let recursion stack track the depth:"
   ]
  },
  {
   "cell_type": "code",
   "execution_count": 10,
   "metadata": {},
   "outputs": [],
   "source": [
    "class Solution:\n",
    "    def maxDepth(self, root: TreeNode) -> int:\n",
    "        if not root:\n",
    "            return 0\n",
    "        return 1 + max(self.maxDepth(root.left), self.maxDepth(root.right))"
   ]
  },
  {
   "cell_type": "markdown",
   "metadata": {},
   "source": [
    "This is more concise and avoids the extra parameter.\n",
    "\n",
    "---\n",
    "\n",
    "### 🔁 Optional Alternative: **Iterative BFS**\n",
    "\n",
    "If you were asked in an interview to avoid recursion (e.g., stack overflow risk on deep trees), a BFS with a queue is a good alternative:"
   ]
  },
  {
   "cell_type": "code",
   "execution_count": 11,
   "metadata": {},
   "outputs": [],
   "source": [
    "from collections import deque\n",
    "class Solution:\n",
    "    def maxDepth(self, root: TreeNode) -> int:\n",
    "        if not root:\n",
    "            return 0\n",
    "        queue = deque([root])\n",
    "        depth = 0\n",
    "        while queue:\n",
    "            for _ in range(len(queue)):\n",
    "                node = queue.popleft()\n",
    "                if node.left:\n",
    "                    queue.append(node.left)\n",
    "                if node.right:\n",
    "                    queue.append(node.right)\n",
    "            depth += 1\n",
    "        return depth\n",
    "# Time: O(n)\n",
    "# Space: O(w) where w = max width of tree"
   ]
  },
  {
   "cell_type": "markdown",
   "metadata": {},
   "source": [
    "### A hybrid approach (e.g., iterative DFS using a stack)"
   ]
  },
  {
   "cell_type": "code",
   "execution_count": null,
   "metadata": {},
   "outputs": [],
   "source": [
    "# Iterative DFS Using Stack\n",
    "class Solution:\n",
    "    def maxDepth(self, root: TreeNode) -> int:\n",
    "        if not root:\n",
    "            return 0\n",
    "\n",
    "        stack = [(root, 1)]\n",
    "        max_depth = 0\n",
    "\n",
    "        while stack:\n",
    "            node, depth = stack.pop()\n",
    "            if node:\n",
    "                max_depth = max(max_depth, depth)\n",
    "                stack.append((node.right, depth + 1))\n",
    "                stack.append((node.left, depth + 1))\n",
    "\n",
    "        return max_depth\n",
    "# Time: O(n)\n",
    "# Space: O(h) (h = tree height)"
   ]
  },
  {
   "cell_type": "markdown",
   "metadata": {},
   "source": [
    "### ✅ Summary Table\n",
    "| Approach                    | Code Style      | Time Complexity | Space Complexity | Notes                                                         |\n",
    "| --------------------------- | --------------- | --------------- | ---------------- | ------------------------------------------------------------- |\n",
    "| **Recursive DFS**           | Clean & classic | O(n)            | O(h)             | Simple; uses call stack; risk of stack overflow in deep trees |\n",
    "| **DFS with Explicit Stack** | Iterative DFS   | O(n)            | O(h)             | Safer for deep trees; manually manages call stack             |\n",
    "| **BFS with Queue**          | Level-order     | O(n)            | O(w)             | Tracks depth level-by-level; `w` = max width of the tree      |\n"
   ]
  },
  {
   "cell_type": "markdown",
   "metadata": {},
   "source": [
    "### 🧪 Use Cases\n",
    "| Tree Depth | Use BFS?       | Use Iterative DFS? | Use Recursive DFS?        |\n",
    "| ---------- | -------------- | ------------------ | ------------------------- |\n",
    "| Small      | ✅ Simple       | ✅ Simple           | ✅ Very clean              |\n",
    "| Deep       | ✅ Safe         | ✅ Avoids recursion | ⚠️ Risk of stack overflow |\n",
    "| Wide       | ⚠️ High memory | ✅ Safer            | ✅ Safe                    |\n"
   ]
  },
  {
   "cell_type": "code",
   "execution_count": 12,
   "metadata": {},
   "outputs": [],
   "source": [
    "assert Solution().maxDepth(\n",
    "    TreeNode(\n",
    "        3,\n",
    "        TreeNode(9),\n",
    "        TreeNode(\n",
    "            20,\n",
    "            TreeNode(15),\n",
    "            TreeNode(7)\n",
    "        )\n",
    "    )\n",
    ") == 3\n",
    "\n",
    "assert Solution().maxDepth(\n",
    "    TreeNode(\n",
    "        1,\n",
    "        None,\n",
    "        TreeNode(2)\n",
    "    )\n",
    ") == 2\n",
    "\n",
    "assert Solution().maxDepth(None) == 0\n",
    "assert Solution().maxDepth(TreeNode(1)) == 1"
   ]
  }
 ],
 "metadata": {
  "kernelspec": {
   "display_name": "Python 3 (ipykernel)",
   "language": "python",
   "name": "python3"
  },
  "language_info": {
   "codemirror_mode": {
    "name": "ipython",
    "version": 3
   },
   "file_extension": ".py",
   "mimetype": "text/x-python",
   "name": "python",
   "nbconvert_exporter": "python",
   "pygments_lexer": "ipython3",
   "version": "3.10.3"
  }
 },
 "nbformat": 4,
 "nbformat_minor": 4
}
