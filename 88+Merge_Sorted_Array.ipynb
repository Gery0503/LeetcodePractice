{
 "cells": [
  {
   "cell_type": "markdown",
   "metadata": {},
   "source": [
    "# 88. Merge Sorted Array\n",
    "\n",
    "[Link to Problem](https://leetcode.com/problems/merge-sorted-array/description/)\n",
    "\n",
    "### Description\n",
    "You are given two integer arrays `nums1` and `nums2`, sorted in **non-decreasing order**, and two integers `m` and `n`,   \n",
    "representing the number of elements in `nums1` and `nums2` respectively.  \n",
    "\n",
    "Merge `nums1` and `nums2` into a single array sorted in **non-decreasing order**.  \n",
    "\n",
    "The final sorted array should not be returned by the function, but instead be stored inside the array `nums1`.  \n",
    "To accommodate this, `nums1` has a length of `m + n`, where the first `m` elements denote the elements that should be merged,  \n",
    "and the last `n` elements are set to `0` and should be ignored. `nums2` has a length of `n`.  \n",
    "\n",
    "---\n",
    "**Example 1:**\n",
    "\n",
    "Input: `nums1 = [1,2,3,0,0,0]`, `m = 3`, `nums2 = [2,5,6]`, `n = 3`\n",
    "\n",
    "Output: `nums1 = [1,2,2,3,5,6]`\n",
    "\n",
    "**Example 2:**\n",
    "\n",
    "Input: `nums1 = [1]`, `m = 1`, `nums2 = []`, `n = 0`\n",
    "\n",
    "Output: `nums1 = [1]`\n",
    "\n",
    "**Example 3:**\n",
    "\n",
    "Input: `nums1 = [0]`, `m = 0`, `nums2 = [1]`, `n = 1`\n",
    "\n",
    "Output: `nums1 = [1]`\n",
    "\n",
    "---\n",
    "**Constraints:**\n",
    "- `nums1.length == m + n`\n",
    "- `nums2.length == n`\n",
    "- `0 <= m, n <= 200`\n",
    "- `1 <= m + n <= 200`\n",
    "- `-10^9 <= nums1[i], nums2[j] <= 10^9`\n",
    "\n",
    "**Follow up:** Can you come up with an algorithm that runs in `O(m + n)` time?\n"
   ]
  },
  {
   "cell_type": "markdown",
   "metadata": {},
   "source": [
    "My intuition: Do like insertion sort? but insertion sort is time O(nlogn). I think just iterate over nums1 and compare to nums2 at the same time."
   ]
  },
  {
   "cell_type": "code",
   "execution_count": 33,
   "metadata": {},
   "outputs": [],
   "source": [
    "from typing import List\n",
    "\n",
    "class Solution:\n",
    "    def merge(self, nums1: List[int], m: int, nums2: List[int], n: int) -> None:\n",
    "\n",
    "        if n == 0:\n",
    "            return nums1\n",
    "        if m == 0:\n",
    "            for i in range(n):\n",
    "                nums1[i] = nums2[i]\n",
    "            return nums1\n",
    "        \n",
    "        i = 0\n",
    "        j = 0\n",
    "        while i < m+n and j < n:\n",
    "            if nums2[j] < nums1[i] :\n",
    "                nums1[i+1:] = nums1[i:-1]\n",
    "                nums1[i] = nums2[j]\n",
    "                j += 1\n",
    "\n",
    "            if i == m+j:\n",
    "                nums1[i] = nums2[j]\n",
    "                j += 1\n",
    "                \n",
    "            i += 1\n",
    "\n",
    "        return nums1\n",
    "        \n",
    "# Time: not O(m + n) --> worst case: O(n²)\n",
    "# Space: O(1)"
   ]
  },
  {
   "cell_type": "code",
   "execution_count": 31,
   "metadata": {},
   "outputs": [
    {
     "data": {
      "text/plain": [
       "[1, 2, 2, 3, 5, 6]"
      ]
     },
     "execution_count": 31,
     "metadata": {},
     "output_type": "execute_result"
    }
   ],
   "source": [
    "arr1 = [1,2,3,0,0,0]\n",
    "Solution().merge(arr1, 3, [2,5,6], 3)\n",
    "arr1"
   ]
  },
  {
   "cell_type": "code",
   "execution_count": 32,
   "metadata": {},
   "outputs": [],
   "source": [
    "assert Solution().merge([1,2,3,0,0,0], 3, [2,5,6], 3) == [1,2,2,3,5,6]\n",
    "assert Solution().merge([1], 1, [], 0) == [1]\n",
    "assert Solution().merge([0], 0, [1], 1) == [1]"
   ]
  },
  {
   "cell_type": "markdown",
   "metadata": {},
   "source": [
    "## 🔎 Your Implementation Review\n",
    "## ✅ What’s Good\n",
    "\n",
    "* 👍 **Covers edge cases** when `m == 0` or `n == 0`\n",
    "* 👍 Attempts to perform in-place modification of `nums1`\n",
    "* 👍 Tests validate correctness on common examples\n",
    "\n",
    "---\n",
    "\n",
    "## ⚠️ Issues / Suggestions\n",
    "\n",
    "### 1. ❌ Incorrect use of slice assignment:\n",
    "\n",
    "```python\n",
    "nums1[i+1:] = nums1[i:-1]\n",
    "```\n",
    "\n",
    "This attempts to shift the array right — but it behaves unpredictably when `i` is near the end. For instance:\n",
    "\n",
    "* This may truncate elements or insert `0`s incorrectly.\n",
    "* It assumes enough room for shifting but doesn't handle it cleanly.\n",
    "\n",
    "### 2. ❌ Time Complexity is not truly `O(m + n)`:\n",
    "\n",
    "* The `nums1[i+1:] = nums1[i:-1]` operation is **not constant time** — it can be `O(n)` for each insertion due to slicing and copying.\n",
    "* This means in worst-case scenarios, the overall time is **`O(n²)`**, not `O(m + n)`.\n",
    "\n",
    "### 3. ❌ Return value is unnecessary:\n",
    "\n",
    "The problem requires in-place mutation. Returning `nums1` is redundant and could be misleading.\n",
    "\n",
    "---\n",
    "\n",
    "## ✅ Optimal Approach (Two Pointers from End)\n",
    "\n",
    "We can solve this in true `O(m + n)` time and `O(1)` space:\n",
    "\n",
    "### 💡 Why this is better:\n",
    "\n",
    "* ✅ In-place with no slicing\n",
    "* ✅ Efficient and elegant\n",
    "* ✅ Truly `O(m + n)` time and `O(1)` space"
   ]
  },
  {
   "cell_type": "code",
   "execution_count": null,
   "metadata": {},
   "outputs": [],
   "source": [
    "### ✅ Recommended Implementation:\n",
    "\n",
    "class Solution:\n",
    "    def merge(self, nums1: List[int], m: int, nums2: List[int], n: int) -> None:\n",
    "        # Start from the end\n",
    "        i = m - 1\n",
    "        j = n - 1\n",
    "        k = m + n - 1\n",
    "\n",
    "        while i >= 0 and j >= 0:\n",
    "            if nums1[i] > nums2[j]:\n",
    "                nums1[k] = nums1[i]\n",
    "                i -= 1\n",
    "            else:\n",
    "                nums1[k] = nums2[j]\n",
    "                j -= 1\n",
    "            k -= 1\n",
    "\n",
    "        # If nums2 is still not exhausted\n",
    "        while j >= 0:\n",
    "            nums1[k] = nums2[j]\n",
    "            j -= 1\n",
    "            k -= 1\n"
   ]
  },
  {
   "cell_type": "code",
   "execution_count": null,
   "metadata": {},
   "outputs": [],
   "source": [
    "## 🧪 Updated Test Cases\n",
    "\n",
    "nums = [1, 2, 3, 0, 0, 0]\n",
    "Solution().merge(nums, 3, [2, 5, 6], 3)\n",
    "assert nums == [1, 2, 2, 3, 5, 6]\n",
    "\n",
    "nums = [1]\n",
    "Solution().merge(nums, 1, [], 0)\n",
    "assert nums == [1]\n",
    "\n",
    "nums = [0]\n",
    "Solution().merge(nums, 0, [1], 1)\n",
    "assert nums == [1]"
   ]
  }
 ],
 "metadata": {
  "kernelspec": {
   "display_name": "Python 3 (ipykernel)",
   "language": "python",
   "name": "python3"
  },
  "language_info": {
   "codemirror_mode": {
    "name": "ipython",
    "version": 3
   },
   "file_extension": ".py",
   "mimetype": "text/x-python",
   "name": "python",
   "nbconvert_exporter": "python",
   "pygments_lexer": "ipython3",
   "version": "3.10.3"
  }
 },
 "nbformat": 4,
 "nbformat_minor": 4
}
