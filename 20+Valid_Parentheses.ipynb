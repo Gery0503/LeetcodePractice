{
 "cells": [
  {
   "cell_type": "code",
   "execution_count": 10,
   "metadata": {},
   "outputs": [],
   "source": [
    "# LeetCode 20: Valid Parentheses\n",
    "# https://leetcode.com/problems/valid-parentheses/\n",
    "# Time Complexity: O(n)\n",
    "# Space Complexity: O(n)"
   ]
  },
  {
   "cell_type": "markdown",
   "metadata": {},
   "source": [
    "# 20. Valid Parentheses\n",
    "\n",
    "### Problem Link\n",
    "[LeetCode 20 – Valid Parentheses](https://leetcode.com/problems/valid-parentheses/description/)\n",
    "\n",
    "### Difficulty\n",
    "**Easy**\n",
    "\n",
    "### Description\n",
    "Given a string `s` containing just the characters `'('`, `')'`, `'{'`, `'}'`, `'['`, and `']'`, determine if the input string is valid.\n",
    "\n",
    "An input string is valid if:\n",
    "1. Open brackets must be closed by the same type of brackets.\n",
    "2. Open brackets must be closed in the correct order.\n",
    "3. Every close bracket has a corresponding open bracket of the same type.\n",
    "\n",
    "### Examples\n",
    "**Example 1:**\n",
    "- Input: `s = \"()\"`\n",
    "- Output: `true`\n",
    "\n",
    "**Example 2:**\n",
    "- Input: `s = \"()[]{}\"`\n",
    "- Output: `true`\n",
    "\n",
    "**Example 3:**\n",
    "- Input: `s = \"(]\"`\n",
    "- Output: `false`\n",
    "\"()\"\n",
    "### Constraints\n",
    "- `1 <= s.length <= 10^4`\n",
    "- `s` consists of parentheses only: `()[]{}`"
   ]
  },
  {
   "cell_type": "markdown",
   "metadata": {},
   "source": [
    "My intuition: obviously stack"
   ]
  },
  {
   "cell_type": "code",
   "execution_count": 1,
   "metadata": {},
   "outputs": [],
   "source": [
    "# Write your Python solution here\n",
    "class Solution:\n",
    "    def isValid(self, s: str) -> bool:\n",
    "        p_dict = {\n",
    "            '(': ')', \n",
    "            '{': '}', \n",
    "            '[': ']'\n",
    "        }\n",
    "        stack = []\n",
    "        for paren in s:\n",
    "            if paren in p_dict:\n",
    "                stack.append(paren)\n",
    "            else:\n",
    "                if len(stack) == 0:\n",
    "                    return False\n",
    "                    \n",
    "                if paren != p_dict[stack.pop()]:\n",
    "                    return False\n",
    "                    \n",
    "        if len(stack) != 0:\n",
    "            return False\n",
    "            \n",
    "        return True\n",
    "# Time: O(n)\n",
    "# Space: O(n)                "
   ]
  },
  {
   "cell_type": "code",
   "execution_count": 6,
   "metadata": {},
   "outputs": [],
   "source": [
    "assert Solution().isValid(\"()\") == True\n",
    "assert Solution().isValid(\"()[]{}\") == True\n",
    "assert Solution().isValid(\"(]\") == False\n",
    "assert Solution().isValid(\"][\") == False"
   ]
  },
  {
   "cell_type": "markdown",
   "metadata": {},
   "source": [
    "## 🛠 Suggested Version"
   ]
  },
  {
   "cell_type": "code",
   "execution_count": 9,
   "metadata": {},
   "outputs": [],
   "source": [
    "class Solution:\n",
    "    def isValid(self, s: str) -> bool:\n",
    "        pair = {'(': ')', '{': '}', '[': ']'}\n",
    "        stack = []\n",
    "\n",
    "        for char in s:\n",
    "            if char in pair:\n",
    "                stack.append(char)\n",
    "            else:\n",
    "                if not stack or char != pair[stack.pop()]:\n",
    "                    return False\n",
    "\n",
    "        return not stack\n",
    "# Time: O(n)\n",
    "# Space: O(n)"
   ]
  },
  {
   "cell_type": "markdown",
   "metadata": {},
   "source": [
    "### 🔍 Key Improvements:\n",
    "\n",
    "* `if not stack` instead of `len(stack) == 0`\n",
    "* `return not stack` instead of `if len(stack) != 0: return False`"
   ]
  }
 ],
 "metadata": {
  "kernelspec": {
   "display_name": "Python 3 (ipykernel)",
   "language": "python",
   "name": "python3"
  },
  "language_info": {
   "codemirror_mode": {
    "name": "ipython",
    "version": 3
   },
   "file_extension": ".py",
   "mimetype": "text/x-python",
   "name": "python",
   "nbconvert_exporter": "python",
   "pygments_lexer": "ipython3",
   "version": "3.10.3"
  }
 },
 "nbformat": 4,
 "nbformat_minor": 4
}
