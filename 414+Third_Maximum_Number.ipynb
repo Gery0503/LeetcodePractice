{
 "cells": [
  {
   "cell_type": "markdown",
   "metadata": {},
   "source": [
    "# 414. Third Maximum Number\n",
    "\n",
    "[Link to Problem](https://leetcode.com/problems/third-maximum-number/description/)\n",
    "\n",
    "### Description\n",
    "Given an integer array `nums`, return the **third distinct maximum** number in this array. If the third maximum does not exist, return the **maximum** number.\n",
    "\n",
    "---\n",
    "**Example 1:**\n",
    "\n",
    "Input: `nums = [3, 2, 1]`\n",
    "Output: `1`\n",
    "Explanation: The third maximum is `1`.\n",
    "\n",
    "**Example 2:**\n",
    "\n",
    "Input: `nums = [1, 2]`\n",
    "Output: `2`\n",
    "Explanation: The third maximum does not exist, so return the maximum `2`.\n",
    "\n",
    "**Example 3:**\n",
    "\n",
    "Input: `nums = [2, 2, 3, 1]`\n",
    "Output: `1`\n",
    "Explanation: The distinct values are [3, 2, 1]. The third maximum distinct is `1`.\n",
    "\n",
    "---\n",
    "**Constraints:**\n",
    "- `1 <= nums.length <= 10^4`\n",
    "- `-2^31 <= nums[i] <= 2^31 - 1`\n"
   ]
  },
  {
   "cell_type": "markdown",
   "metadata": {},
   "source": [
    "### My intuition:\n",
    " - Greedy approach\n",
    " - Record first_distinct_num, second_distinct_num"
   ]
  },
  {
   "cell_type": "code",
   "execution_count": 32,
   "metadata": {},
   "outputs": [],
   "source": [
    "# Too long\n",
    "from typing import List\n",
    "class Solution:\n",
    "    def thirdMax(self, nums: List[int]) -> int:\n",
    "        if len(nums) == 1:\n",
    "            return nums[0]\n",
    "        if len(set(nums)) <= 2:\n",
    "            return max(set(nums))\n",
    "        first = None\n",
    "        second = None\n",
    "        third = None\n",
    "        for i in range(len(nums)):\n",
    "            if (nums[i] == first) or (nums[i] == second) or (nums[i] == third):\n",
    "                continue\n",
    "\n",
    "            if first is None:\n",
    "                first = nums[i]\n",
    "            elif nums[i] > first:\n",
    "                third, second, first = second, first, nums[i]\n",
    "            elif second is None:\n",
    "                second = nums[i]\n",
    "            elif nums[i] > second:\n",
    "                third, second = second, nums[i]\n",
    "            elif third is None:\n",
    "                third = nums[i]\n",
    "            elif nums[i] > third:\n",
    "                third = nums[i]\n",
    "        return third\n",
    "# Time: O(n)\n",
    "# Space: O(1)"
   ]
  },
  {
   "cell_type": "code",
   "execution_count": 2,
   "metadata": {},
   "outputs": [],
   "source": [
    "# Too slow\n",
    "from typing import List\n",
    "class Solution:\n",
    "    def thirdMax(self, nums: List[int]) -> int:\n",
    "        nums = sorted(list(set(nums)))\n",
    "        if len(nums) == 1:\n",
    "            return nums[-1]\n",
    "        if len(nums) == 2:\n",
    "            return nums[-1]\n",
    "        return nums[-3]\n",
    "# Time: O(nlogn)\n",
    "# Space: O(n)"
   ]
  },
  {
   "cell_type": "markdown",
   "metadata": {},
   "source": [
    "### **Review**\n",
    "\n",
    "* ✅ Correctly handles distinct numbers by converting to a `set`.\n",
    "* ✅ Code is clean and easy to read.\n",
    "* ⚠️ Time complexity is **O(n log n)** because of sorting; for `n = 10^4`, this is fine but not optimal.\n",
    "* ⚠️ The two `if` checks for length 1 and 2 can be simplified:\n",
    "\n",
    "  ```python\n",
    "  return nums[-1] if len(nums) < 3 else nums[-3]\n",
    "  ```\n",
    "* Space complexity is **O(n)** because of `set` and `sorted()`."
   ]
  },
  {
   "cell_type": "markdown",
   "metadata": {},
   "source": [
    "## **5. Suggested Optimal O(n) Implementation**\n",
    "\n",
    "If you want true **O(n) time** and **O(1) space**:"
   ]
  },
  {
   "cell_type": "code",
   "execution_count": 36,
   "metadata": {},
   "outputs": [],
   "source": [
    "class Solution:\n",
    "    def thirdMax(self, nums: List[int]) -> int:\n",
    "        first = second = third = None\n",
    "        for num in nums:\n",
    "            if num in (first, second, third):\n",
    "                continue\n",
    "            if first is None or num > first:\n",
    "                first, second, third = num, first, second\n",
    "            elif second is None or num > second:\n",
    "                second, third = num, second\n",
    "            elif third is None or num > third:\n",
    "                third = num\n",
    "        return third if third is not None else first"
   ]
  },
  {
   "cell_type": "markdown",
   "metadata": {},
   "source": [
    "## **6. Summary Table**\n",
    "\n",
    "| Version                | Time Complexity | Space Complexity | Handles Duplicates? | Optimal? |\n",
    "| ---------------------- | --------------- | ---------------- | ------------------- | -------- |\n",
    "| Set + Sort             | O(n log n)      | O(n)             | ✅                   | ❌        |\n",
    "| One-pass O(1) space    | O(n)            | O(1)             | ✅                   | ✅        |\n",
    "\n",
    "---\n",
    "\n",
    "If you’d like, I can rewrite your **first greedy version** so it’s correct while keeping the `O(1)` space and `O(n)` time. That would make it both **optimal and clean**.\n"
   ]
  },
  {
   "cell_type": "code",
   "execution_count": 37,
   "metadata": {},
   "outputs": [
    {
     "data": {
      "text/plain": [
       "1"
      ]
     },
     "execution_count": 37,
     "metadata": {},
     "output_type": "execute_result"
    }
   ],
   "source": [
    "Solution().thirdMax([3, 2, 1])"
   ]
  },
  {
   "cell_type": "code",
   "execution_count": 35,
   "metadata": {},
   "outputs": [],
   "source": [
    "# Test\n",
    "assert Solution().thirdMax([3, 2, 1]) == 1\n",
    "assert Solution().thirdMax([1,2]) == 2\n",
    "assert Solution().thirdMax([2, 2, 3, 1]) == 1\n",
    "assert Solution().thirdMax([1,1,1]) == 1\n",
    "assert Solution().thirdMax([1,2,2,5,3,5]) == 2"
   ]
  }
 ],
 "metadata": {
  "kernelspec": {
   "display_name": "Python 3 (ipykernel)",
   "language": "python",
   "name": "python3"
  },
  "language_info": {
   "codemirror_mode": {
    "name": "ipython",
    "version": 3
   },
   "file_extension": ".py",
   "mimetype": "text/x-python",
   "name": "python",
   "nbconvert_exporter": "python",
   "pygments_lexer": "ipython3",
   "version": "3.10.3"
  }
 },
 "nbformat": 4,
 "nbformat_minor": 4
}
