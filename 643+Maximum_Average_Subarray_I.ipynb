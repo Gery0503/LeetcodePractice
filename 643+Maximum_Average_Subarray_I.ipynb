{
 "cells": [
  {
   "cell_type": "markdown",
   "metadata": {},
   "source": [
    "# 643. Maximum Average Subarray I\n",
    "\n",
    "[Link to Problem](https://leetcode.com/problems/maximum-average-subarray-i/description/)\n",
    "\n",
    "### Description\n",
    "Given an integer array `nums` of length `n`, and an integer `k`, find a contiguous subarray whose length is equal to `k` that has the **maximum average value**, and return this value. Any answer with a calculation error less than `10^-5` is acceptable.\n",
    "\n",
    "---\n",
    "**Example 1:**\n",
    "\n",
    "Input: `nums = [1,12,-5,-6,50,3]`, `k = 4`\n",
    "Output: `12.75`\n",
    "\n",
    "**Example 2:**\n",
    "\n",
    "Input: `nums = [5]`, `k = 1`\n",
    "Output: `5.0`\n",
    "\n",
    "---\n",
    "**Constraints:**\n",
    "- `1 <= k <= n <= 30000`\n",
    "- `-10000 <= nums[i] <= 10000`\n",
    "\n",
    "---\n",
    "**Follow up / Hint:**\n",
    "- Consider using a **sliding window** to achieve an efficient O(n) solution.\n",
    "- Be mindful of floating-point precision requirements (error < 10^-5)."
   ]
  },
  {
   "cell_type": "markdown",
   "metadata": {},
   "source": [
    "### My intuition:\n",
    " - Greedy algorithm (X) --> Sliding window (O)"
   ]
  },
  {
   "cell_type": "code",
   "execution_count": 28,
   "metadata": {},
   "outputs": [],
   "source": [
    "from typing import List\n",
    "\n",
    "class Solution:\n",
    "    def findMaxAverage(self, nums: List[int], k: int) -> float:\n",
    "        left = 0\n",
    "        right = k\n",
    "        max_val = sum(nums[left:right])\n",
    "        current_val = max_val\n",
    "        step = len(nums) - k\n",
    "        for _ in range(step):\n",
    "            current_val -= nums[left]\n",
    "            current_val += nums[right]\n",
    "            max_val = max(max_val, current_val)\n",
    "            left += 1\n",
    "            right += 1\n",
    "        return max_val / k\n",
    "# Time: O(n)\n",
    "# Space: O(n)"
   ]
  },
  {
   "cell_type": "markdown",
   "metadata": {},
   "source": [
    "Here’s a thorough **code review** for your LeetCode **643. Maximum Average Subarray I** solution:\n",
    "\n",
    "---\n",
    "\n",
    "### ✅ Strengths\n",
    "\n",
    "1. **Correctness**:\n",
    "\n",
    "   * Your solution passes the provided test cases and adheres to the sliding window idea.\n",
    "   * Handles negative numbers and floating-point division properly.\n",
    "\n",
    "2. **Clarity**:\n",
    "\n",
    "   * Code is easy to follow with descriptive variable names (`left`, `right`, `current_val`, `max_val`).\n",
    "   * Separate initialization for `max_val` and `current_val` is clean.\n",
    "\n",
    "3. **Efficiency**:\n",
    "\n",
    "   * Runs in **O(n)** time, which is optimal.\n",
    "   * Only a single pass over the array after the initial sum.\n",
    "\n",
    "---\n",
    "\n",
    "### ⚠️ Issues / Improvements\n",
    "\n",
    "1. **Space Complexity Comment**:\n",
    "\n",
    "   ```python\n",
    "   # Space: O(n)\n",
    "   ```\n",
    "\n",
    "   This is inaccurate. You don’t store extra arrays; only a few integers.\n",
    "   ➝ Should be **`# Space: O(1)`**.\n",
    "\n",
    "2. **Unnecessary variable (`step`)**:\n",
    "\n",
    "   ```python\n",
    "   step = len(nums) - k\n",
    "   for _ in range(step):\n",
    "   ```\n",
    "\n",
    "   You could directly loop with `while right < len(nums):` or a `for` loop with `range(k, len(nums))`. This removes extra clutter.\n",
    "\n",
    "3. **Greedy Intuition Mislabel**:\n",
    "   In your markdown you wrote:\n",
    "\n",
    "   ```markdown\n",
    "   ### My intuition:\n",
    "   - Greedy algorithm\n",
    "   ```\n",
    "\n",
    "   But this isn’t really *greedy*. It’s a **sliding window** technique. \"Greedy\" usually means making local optimal choices without re-evaluation, while here you’re maintaining a moving sum. Better to rename this to **Sliding Window Intuition**.\n",
    "\n",
    "4. **Test precision**:\n",
    "   LeetCode accepts small floating-point errors. Instead of `==` in tests, safer is:\n",
    "\n",
    "   ```python\n",
    "   assert abs(Solution().findMaxAverage([1,12,-5,-6,50,3],4) - 12.75) < 1e-5\n",
    "   ```\n",
    "\n",
    "---\n",
    "\n",
    "### 💡 Suggested Refactor\n",
    "\n",
    "Here’s a slightly cleaner version:"
   ]
  },
  {
   "cell_type": "code",
   "execution_count": 32,
   "metadata": {},
   "outputs": [],
   "source": [
    "class Solution:\n",
    "    def findMaxAverage(self, nums: List[int], k: int) -> float:\n",
    "        current_sum = sum(nums[:k])\n",
    "        max_sum = current_sum\n",
    "        \n",
    "        for i in range(k, len(nums)):\n",
    "            current_sum += nums[i] - nums[i - k]\n",
    "            max_sum = max(max_sum, current_sum)\n",
    "        \n",
    "        return max_sum / k\n",
    "# Time: O(n)\n",
    "# Space: O(k)"
   ]
  },
  {
   "cell_type": "markdown",
   "metadata": {},
   "source": [
    "* Removed `left`, `right`, and `step` to simplify.\n",
    "* Sliding window shift done with `nums[i] - nums[i-k]`.\n",
    "\n",
    "---\n",
    "\n",
    "👉 Do you want me to also **suggest how to implement this solution using n8n workflow nodes** (since you like mapping problems into n8n workflows)?"
   ]
  },
  {
   "cell_type": "code",
   "execution_count": 33,
   "metadata": {},
   "outputs": [],
   "source": [
    "# Test\n",
    "assert Solution().findMaxAverage([5],1) == 5.0\n",
    "assert Solution().findMaxAverage([1,12,-5,-6,50,3],4) == 12.75\n",
    "assert Solution().findMaxAverage([7,4,5,8,8,3,9,8,7,6],7) == 7"
   ]
  }
 ],
 "metadata": {
  "kernelspec": {
   "display_name": "Python 3 (ipykernel)",
   "language": "python",
   "name": "python3"
  },
  "language_info": {
   "codemirror_mode": {
    "name": "ipython",
    "version": 3
   },
   "file_extension": ".py",
   "mimetype": "text/x-python",
   "name": "python",
   "nbconvert_exporter": "python",
   "pygments_lexer": "ipython3",
   "version": "3.10.3"
  }
 },
 "nbformat": 4,
 "nbformat_minor": 4
}
