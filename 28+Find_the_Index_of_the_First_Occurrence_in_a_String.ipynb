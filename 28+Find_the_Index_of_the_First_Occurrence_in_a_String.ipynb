{
 "cells": [
  {
   "cell_type": "code",
   "execution_count": null,
   "metadata": {},
   "outputs": [],
   "source": [
    "# LeetCode 28: Find the Index of the First Occurrence in a String\n",
    "# https://leetcode.com/problems/find-the-index-of-the-first-occurrence-in-a-string/\n",
    "# Time Complexity: O(m+n)\n",
    "# Space Complexity: O(n)"
   ]
  },
  {
   "cell_type": "markdown",
   "metadata": {},
   "source": [
    "# 28. Find the Index of the First Occurrence in a String\n",
    "\n",
    "[Link to Problem](https://leetcode.com/problems/find-the-index-of-the-first-occurrence-in-a-string/description/)\n",
    "\n",
    "### Description\n",
    "Given two strings `needle` and `haystack`, return the index of the first occurrence of `needle` in `haystack`, or `-1` if `needle` is not part of `haystack`.\n",
    "\n",
    "---\n",
    "**Example 1:**\n",
    "\n",
    "Input: `haystack = \"sadbutsad\"`, `needle = \"sad\"`\n",
    "Output: `0`\n",
    "Explanation: \"sad\" occurs at index 0 and 6. The first occurrence is at index 0.\n",
    "\n",
    "**Example 2:**\n",
    "\n",
    "Input: `haystack = \"leetcode\"`, `needle = \"leeto\"`\n",
    "Output: `-1`\n",
    "Explanation: \"leeto\" did not occur in \"leetcode\".\n",
    "\n",
    "---\n",
    "**Constraints:**\n",
    "- `1 <= haystack.length, needle.length <= 10^4`\n",
    "- `haystack` and `needle` consist of only lowercase English characters."
   ]
  },
  {
   "cell_type": "code",
   "execution_count": 7,
   "metadata": {},
   "outputs": [],
   "source": [
    "class Solution:\n",
    "    def strStr(self, haystack: str, needle: str) -> int:\n",
    "        haystack_len = len(haystack)\n",
    "        needle_len = len(needle)\n",
    "\n",
    "        if needle_len > haystack_len:\n",
    "            return -1\n",
    "\n",
    "        for i in range(haystack_len - needle_len + 1):\n",
    "            if haystack[i:i+needle_len] == needle:\n",
    "                return i\n",
    "        return -1\n",
    "# Time: O((m - n + 1) * n) worst case — Brute force\n",
    "# Space: O(1)"
   ]
  },
  {
   "cell_type": "code",
   "execution_count": 8,
   "metadata": {},
   "outputs": [],
   "source": [
    "assert Solution().strStr('sadbutsad','sad') == 0\n",
    "assert Solution().strStr('leetcode','leeto') == -1\n",
    "assert Solution().strStr('a','a') == 0"
   ]
  },
  {
   "cell_type": "markdown",
   "metadata": {},
   "source": [
    "### ✅ What You Did Well\n",
    "\n",
    "1. **Edge Case Handling**\n",
    "   You correctly handle the case where `haystack` is shorter than `needle` by returning `-1` early.\n",
    "\n",
    "2. **Sliding Window**\n",
    "   The main loop uses string slicing: `haystack[i:i+len_n] == needle`, which is readable and correct.\n",
    "\n",
    "3. **Correct Bounds in While Loop**\n",
    "   You iterate until `i <= len_h - len_n`, which avoids index out-of-bounds errors.\n",
    "\n",
    "\n",
    "#### 1. **Optimization Possibility**\n",
    "\n",
    "You could optionally mention that better algorithms like **KMP** (Knuth-Morris-Pratt) can reduce time to `O(m + n)` in the worst case.\n",
    "\n",
    "```python\n",
    "# Optimal: KMP algorithm with O(m + n) time and O(n) space\n",
    "```\n",
    "\n",
    "\n",
    "\n",
    "\n",
    "\n",
    "---\n",
    "\n",
    "### ✅ Final Verdict\n",
    "\n",
    "* ✅ Correct logic and behavior\n",
    "* ✅ Good test coverage\n",
    "* ⭐ Bonus: Mention or explore KMP or `str.find()` for built-in alternatives"
   ]
  },
  {
   "cell_type": "code",
   "execution_count": 9,
   "metadata": {},
   "outputs": [],
   "source": [
    "# KMP appraoch\n",
    "class Solution:\n",
    "    def strStr(self, haystack: str, needle: str) -> int:\n",
    "        if not needle:\n",
    "            return 0\n",
    "\n",
    "        # Step 1: Build the LPS array \n",
    "        def build_lps(pattern):\n",
    "            lps = [0] * len(pattern)\n",
    "            length = 0  # length of the previous longest prefix suffix\n",
    "            i = 1\n",
    "            while i < len(pattern):\n",
    "                if pattern[i] == pattern[length]:\n",
    "                    length += 1\n",
    "                    lps[i] = length\n",
    "                    i += 1\n",
    "                else:\n",
    "                    if length != 0:\n",
    "                        length = lps[length - 1]\n",
    "                    else:\n",
    "                        lps[i] = 0\n",
    "                        i += 1\n",
    "            return lps\n",
    "\n",
    "        lps = build_lps(needle)\n",
    "\n",
    "        # Step 2: Use the LPS array to search\n",
    "        i = j = 0  # i for haystack, j for needle\n",
    "        while i < len(haystack):\n",
    "            if haystack[i] == needle[j]:\n",
    "                i += 1\n",
    "                j += 1\n",
    "                if j == len(needle):\n",
    "                    return i - j  # match found\n",
    "            else:\n",
    "                if j != 0:\n",
    "                    j = lps[j - 1]\n",
    "                else:\n",
    "                    i += 1\n",
    "        return -1  # no match\n",
    "# Time: O(m+n)\n",
    "# Space: O(n)"
   ]
  },
  {
   "cell_type": "code",
   "execution_count": 1,
   "metadata": {},
   "outputs": [],
   "source": [
    "# built-in string methods\n",
    "class Solution(object):\n",
    "    def strStr(self, haystack, needle):\n",
    "        return haystack.find(needle)\n",
    "# Time: Average: O(n), Worst: O(m·n)\n",
    "# Space: O(1)"
   ]
  },
  {
   "cell_type": "markdown",
   "metadata": {},
   "source": [
    "| Aspect                  | `str.find()` (Built-in)                      | KMP Algorithm (Manual)                         |\n",
    "| ----------------------- | -------------------------------------------- | ---------------------------------------------- |\n",
    "| 🔧 **Implementation**   | One-liner using Python’s C-optimized code    | Manual string search with LPS preprocessing    |\n",
    "| ⏱ **Time Complexity**   | Average: O(n), Worst: O(m·n)\\*               | Always O(n + m)                                |\n",
    "| 💾 **Space Complexity** | O(1)                                         | O(m) (for `lps[]` array)                       |\n",
    "| ⚙️ **Use Case**         | Quick, simple problems                       | When consistent linear-time behavior is needed |\n",
    "| 🚀 **Performance**      | Very fast (C-based), great for general use   | Slightly slower due to Python loops            |\n",
    "| 📦 **Robustness**       | Handles edge cases well (empty string, etc.) | Needs careful handling                         |\n",
    "| 🧠 **Learning Value**   | Low (abstracted away)                        | High — teaches how string matching works       |\n",
    "| 🧪 **Testability**      | Hard to see internals                        | Easy to trace each step manually               |\n",
    "| 🛠 **Customizability**  | None — fully abstracted                      | High — can extend or tweak                     |\n",
    "| 📉 **Code Length**      | 1 line                                       | \\~20–30+ lines (with LPS logic)                |\n"
   ]
  },
  {
   "cell_type": "code",
   "execution_count": 2,
   "metadata": {},
   "outputs": [],
   "source": [
    "assert Solution().strStr('sadbutsad','sad') == 0\n",
    "assert Solution().strStr('leetcode','leeto') == -1\n",
    "assert Solution().strStr('a','a') == 0"
   ]
  }
 ],
 "metadata": {
  "kernelspec": {
   "display_name": "Python 3 (ipykernel)",
   "language": "python",
   "name": "python3"
  },
  "language_info": {
   "codemirror_mode": {
    "name": "ipython",
    "version": 3
   },
   "file_extension": ".py",
   "mimetype": "text/x-python",
   "name": "python",
   "nbconvert_exporter": "python",
   "pygments_lexer": "ipython3",
   "version": "3.10.3"
  }
 },
 "nbformat": 4,
 "nbformat_minor": 4
}
