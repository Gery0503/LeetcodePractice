{
 "cells": [
  {
   "cell_type": "markdown",
   "id": "002b73d1-2658-4c88-a7a5-d626f4b9fdcf",
   "metadata": {},
   "source": [
    "# 121. Best Time to Buy and Sell Stock\n",
    "\n",
    "## Description\n",
    "\n",
    "You are given an array `prices` where `prices[i]` is the price of a given stock on the `i`th day.\n",
    "\n",
    "You want to maximize your profit by choosing a single day to buy one stock and choosing a different day in the future to sell that stock.\n",
    "\n",
    "Return the maximum profit you can achieve from this transaction. If you cannot achieve any profit, return `0`.\n",
    "\n",
    "## Examples\n",
    "\n",
    "### Example 1\n",
    "\n",
    "```python\n",
    "prices = [7, 1, 5, 3, 6, 4]\n",
    "# Output: 5\n",
    "# Explanation: Buy on day 2 (price = 1) and sell on day 5 (price = 6), profit = 6 - 1 = 5.\n",
    "```\n",
    "\n",
    "## Constraints\n",
    "- 1 <= prices.length <= 10⁵\n",
    "\n",
    "- 0 <= prices[i] <= 10⁴"
   ]
  },
  {
   "cell_type": "markdown",
   "id": "cd123a09-03b2-4a7e-97b3-7654f5226626",
   "metadata": {},
   "source": [
    "# My solution"
   ]
  },
  {
   "cell_type": "markdown",
   "id": "45d9a821-de8c-4825-9877-fb76286fbdb4",
   "metadata": {},
   "source": [
    "First thought: greedy alogrithms"
   ]
  },
  {
   "cell_type": "code",
   "execution_count": 8,
   "id": "4f3e3c30-eff1-4832-be1a-f9d9c2690b19",
   "metadata": {},
   "outputs": [],
   "source": [
    "def maxProfit(prices):\n",
    "    min_price = prices[0]\n",
    "    max_profit = 0\n",
    "\n",
    "    for i, price in enumerate(prices[1:]):\n",
    "        min_price = min(min_price, price)\n",
    "        max_profit = max(max_profit, price-min_price)\n",
    "\n",
    "    return max_profit\n",
    "# Time: O(n)\n",
    "# Space: O(1)"
   ]
  },
  {
   "cell_type": "code",
   "execution_count": 7,
   "id": "1240821b-9b91-4495-81fd-cf2133b9d285",
   "metadata": {},
   "outputs": [
    {
     "data": {
      "text/plain": [
       "5"
      ]
     },
     "execution_count": 7,
     "metadata": {},
     "output_type": "execute_result"
    }
   ],
   "source": [
    "prices = [7, 1, 5, 3, 6, 4]\n",
    "maxProfit(prices)\n",
    "# Output: 5\n",
    "# Explanation: Buy on day 2 (price = 1) and sell on day 5 (price = 6), profit = 6 - 1 = 5."
   ]
  },
  {
   "cell_type": "code",
   "execution_count": 6,
   "id": "1e2dae29-6967-439e-a642-59c1ea107087",
   "metadata": {},
   "outputs": [
    {
     "data": {
      "text/plain": [
       "0"
      ]
     },
     "execution_count": 6,
     "metadata": {},
     "output_type": "execute_result"
    }
   ],
   "source": [
    "prices = [7, 6, 4, 3, 1]\n",
    "maxProfit(prices)\n",
    "# Output: 0\n",
    "# Explanation: In this case, no transactions are done and the max profit = 0."
   ]
  }
 ],
 "metadata": {
  "kernelspec": {
   "display_name": "Python 3 (ipykernel)",
   "language": "python",
   "name": "python3"
  },
  "language_info": {
   "codemirror_mode": {
    "name": "ipython",
    "version": 3
   },
   "file_extension": ".py",
   "mimetype": "text/x-python",
   "name": "python",
   "nbconvert_exporter": "python",
   "pygments_lexer": "ipython3",
   "version": "3.10.3"
  }
 },
 "nbformat": 4,
 "nbformat_minor": 5
}
