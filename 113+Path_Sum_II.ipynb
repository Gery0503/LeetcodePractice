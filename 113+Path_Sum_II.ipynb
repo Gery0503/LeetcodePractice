{
 "cells": [
  {
   "cell_type": "code",
   "execution_count": 11,
   "metadata": {},
   "outputs": [],
   "source": [
    "# LeetCode 113. Path Sum II\n",
    "# Time Complexity: O(n)\n",
    "# Space Complexity: O(h)"
   ]
  },
  {
   "cell_type": "markdown",
   "metadata": {},
   "source": [
    "# 113. Path Sum II\n",
    "\n",
    "[Link to Problem](https://leetcode.com/problems/path-sum-ii/description/)\n",
    "\n",
    "### Description\n",
    "Given the `root` of a binary tree and an integer `targetSum`, return all **root-to-leaf** paths where the sum of the node values in the path equals `targetSum`.\n",
    "\n",
    "Each path should be returned as a list of the node values, **not** node references.\n",
    "\n",
    "A **leaf** is a node with no children.\n",
    "\n",
    "---\n",
    "**Example 1:**\n",
    "\n",
    "Input: `root = [5,4,8,11,null,13,4,7,2,null,null,5,1]`, `targetSum = 22`\n",
    "Output: `[[5,4,11,2],[5,8,4,5]]`"
   ]
  },
  {
   "cell_type": "markdown",
   "metadata": {},
   "source": [
    "![example1](pathsumii1.jpg)"
   ]
  },
  {
   "cell_type": "markdown",
   "metadata": {},
   "source": [
    "**Example 2:**\n",
    "\n",
    "Input: `root = [1,2,3]`, `targetSum = 5`\n",
    "Output: `[]`"
   ]
  },
  {
   "cell_type": "markdown",
   "metadata": {},
   "source": [
    "![example2](pathsum2.jpg)"
   ]
  },
  {
   "cell_type": "markdown",
   "metadata": {},
   "source": [
    "\n",
    "**Example 3:**\n",
    "\n",
    "Input: `root = [1,2]`, `targetSum = 0`\n",
    "Output: `[]`\n",
    "\n",
    "---\n",
    "**Constraints:**\n",
    "- The number of nodes in the tree is in the range `[0, 5000]`\n",
    "- `-1000 <= Node.val <= 1000`\n",
    "- `-1000 <= targetSum <= 1000`"
   ]
  },
  {
   "cell_type": "markdown",
   "metadata": {},
   "source": [
    "My intuition: DFS, BFS"
   ]
  },
  {
   "cell_type": "code",
   "execution_count": 12,
   "metadata": {},
   "outputs": [],
   "source": [
    "# Definition for a binary tree node.\n",
    "class TreeNode:\n",
    "    def __init__(self, val=0, left=None, right=None):\n",
    "        self.val = val\n",
    "        self.left = left\n",
    "        self.right = right\n",
    "\n",
    "from typing import List\n",
    "class Solution:\n",
    "    def pathSum(self, root: TreeNode, targetSum: int) -> List[List[int]]:\n",
    "        result = []\n",
    "        def dfs(node: TreeNode, targetSum: int, path: List[int]) -> (None):\n",
    "            if not node:\n",
    "                return\n",
    "            if not node.left and not node.right:\n",
    "                if targetSum == node.val:\n",
    "                    result.append(path + [node.val])\n",
    "                return\n",
    "\n",
    "            targetSum -= node.val\n",
    "            dfs(node.left, targetSum, path + [node.val])\n",
    "            dfs(node.right, targetSum, path + [node.val])\n",
    "            return\n",
    "        dfs(root, targetSum, [])\n",
    "        return result\n",
    "# Time: O(n)\n",
    "# Space: O(n*nlogn) larger due to each node create a list"
   ]
  },
  {
   "cell_type": "code",
   "execution_count": 13,
   "metadata": {},
   "outputs": [],
   "source": [
    "# Calculate Space complexity:\n",
    "# 1\n",
    "# 2 2\n",
    "# 3 3 3 3\n",
    "# ........\n",
    "\n",
    "# array elements = 1*2**0 + 2*2**1 + 3*2**2... + d*(2**(d-1))   # d: depth\n",
    "# d*(2**(d-1)) = ((logn)+1)*2**(logn)                           # d = floor((logn)+1) \n",
    "#              = (logn+1)*(n)\n",
    "#              = nlogn + n\n",
    "# array elements = 1*2**0 + 2*2**1 + 3*2**2... + d*(2**(d-1))\n",
    "#                = O(nlogn + nlogn +...+nlogn)\n",
    "#                = O(n*nlogn)\n",
    "# Space: O(n*nlogn)"
   ]
  },
  {
   "cell_type": "code",
   "execution_count": 14,
   "metadata": {},
   "outputs": [],
   "source": [
    "from typing import List\n",
    "from collections import deque\n",
    "class Solution:\n",
    "    def pathSum(self, root: TreeNode, targetSum: int) -> List[List[int]]:\n",
    "        def dfs(root: TreeNode, targetSum: int) -> List[List[int]]:\n",
    "            if not root:\n",
    "                return []\n",
    "            if not root.left and not root.right:\n",
    "                if targetSum == root.val:\n",
    "                    return [deque([root.val])]\n",
    "                return []\n",
    "            targetSum -= root.val\n",
    "            path = dfs(root.left, targetSum)\n",
    "            path.extend(dfs(root.right, targetSum))\n",
    "            for queue in path:\n",
    "                queue.appendleft(root.val)\n",
    "            return path\n",
    "        return [list(queue) for queue in dfs(root, targetSum)]\n",
    "# Time: O(n)\n",
    "# Space: O(nlogn) due to d*(2**(d-1)) = nlogn + n"
   ]
  },
  {
   "cell_type": "markdown",
   "metadata": {},
   "source": [
    "## ✅ Code Quality & Readability\n",
    "\n",
    "### Strengths:\n",
    "\n",
    "* Clear problem definition and test cases included.\n",
    "* Good use of recursion (DFS) to traverse the binary tree.\n",
    "* Correct functional logic for identifying root-to-leaf paths that match the `targetSum`.\n",
    "* Excellent use of `deque` in the optimized DFS version to prepend efficiently.\n",
    "* Concise base cases (`if not root.left and not root.right`) to detect leaf nodes.\n",
    "\n",
    "---\n",
    "\n",
    "## ⚙️ Efficiency Review\n",
    "\n",
    "### Time Complexity:\n",
    "\n",
    "* **Both versions (list-based and deque-based)** are `O(n)` time where `n = number of nodes`, because each node is visited once.\n",
    "\n",
    "### Space Complexity:\n",
    "\n",
    "* **Recursive call stack**: `O(h)`, where `h` is the height of the tree.\n",
    "* **Path storage**:\n",
    "\n",
    "  * The original version creates new `path + [node.val]` lists at each recursive call, leading to **`O(n^2)` total auxiliary space** in the worst case (many deep copies).\n",
    "  * The `deque` version is more memory-efficient with **mutable structures and fewer allocations**, but still ends up with `O(n log n)` due to the number of paths and the average path length in a balanced tree.\n",
    "\n",
    "---\n",
    "\n",
    "## 🔍 Detailed Suggestions for Improvement\n",
    "\n",
    "| Aspect                 | Comments                                                                                    |\n",
    "| ---------------------- | ------------------------------------------------------------------------------------------- |\n",
    "| 🔄 `path + [node.val]` | Avoids mutation but causes multiple copies → **optimize with backtracking**.                |\n",
    "| 🧠 `deque` usage       | Good for prepend efficiency, but converting to list adds overhead.                          |\n",
    "| 🔁 Function Signature  | Returning `List[deque]` from recursion can be replaced with appending to `result` in-place. |\n",
    "| 📄 Naming              | `dfs` and `path` are generic; consider `collectPaths` or `currentPath` for clarity.         |\n",
    "| 📦 Modularity          | Could factor out `is_leaf` and `add_path_to_result` to improve clarity.                     |\n",
    "| 🧪 Edge Cases          | Nicely tested, including empty trees and no-match cases.                                    |\n",
    "\n",
    "---\n",
    "\n",
    "## 🧼 Cleaned-Up & Improved Version (Backtracking):"
   ]
  },
  {
   "cell_type": "code",
   "execution_count": 15,
   "metadata": {},
   "outputs": [],
   "source": [
    "class Solution:\n",
    "    def pathSum(self, root: TreeNode, targetSum: int) -> List[List[int]]:\n",
    "        result = []\n",
    "\n",
    "        def dfs(node: TreeNode, remaining: int, path: List[int]) -> None:\n",
    "            if not node:\n",
    "                return\n",
    "            path.append(node.val)\n",
    "\n",
    "            if not node.left and not node.right and remaining == node.val:\n",
    "                result.append(path[:])  # Make a copy\n",
    "            else:\n",
    "                dfs(node.left, remaining - node.val, path)\n",
    "                dfs(node.right, remaining - node.val, path)\n",
    "\n",
    "            path.pop()  # Backtrack\n",
    "\n",
    "        dfs(root, targetSum, [])\n",
    "        return result\n",
    "# Time: O(n)\n",
    "# Space: O(h)"
   ]
  },
  {
   "cell_type": "markdown",
   "metadata": {},
   "source": [
    "### ✅ Benefits:\n",
    "\n",
    "* No new list creation at every recursive level.\n",
    "* Uses backtracking with `path.pop()` to keep memory usage minimal.\n",
    "* Very readable; logic follows the flow of traversal naturally.\n",
    "\n",
    "---\n",
    "\n",
    "## 🔬 Optional: Iterative Version (if needed for interviews)"
   ]
  },
  {
   "cell_type": "code",
   "execution_count": 16,
   "metadata": {},
   "outputs": [],
   "source": [
    "from collections import deque\n",
    "\n",
    "class Solution:\n",
    "    def pathSum(self, root: TreeNode, targetSum: int) -> List[List[int]]:\n",
    "        if not root:\n",
    "            return []\n",
    "        \n",
    "        result = []\n",
    "        stack = [(root, [root.val], targetSum - root.val)]\n",
    "        \n",
    "        while stack:\n",
    "            node, path, rem = stack.pop()\n",
    "            if not node.left and not node.right and rem == 0:\n",
    "                result.append(path)\n",
    "            if node.right:\n",
    "                stack.append((node.right, path + [node.right.val], rem - node.right.val))\n",
    "            if node.left:\n",
    "                stack.append((node.left, path + [node.left.val], rem - node.left.val))\n",
    "        \n",
    "        return result\n",
    "# Time: O(n)\n",
    "# Space: O(n*n)"
   ]
  },
  {
   "cell_type": "markdown",
   "metadata": {},
   "source": [
    "## ✅ Final Notes\n",
    "\n",
    "| Category        | Rating                                                         |\n",
    "| --------------- | -------------------------------------------------------------- |\n",
    "| **Correctness** | ✅ Excellent                                                    |\n",
    "| **Readability** | ✅ Clear and clean                                              |\n",
    "| **Efficiency**  | ⚠️ Improved by backtracking                                    |\n",
    "| **Style**       | ✅ Consistent                                                   |\n",
    "| **Scalability** | ⚠️ Use mutable list with backtracking to avoid repeated copies |\n",
    "\n",
    "Would you like to compare space/time trade-offs of recursive vs. iterative versions visually (e.g., chart or table)?"
   ]
  },
  {
   "cell_type": "markdown",
   "metadata": {},
   "source": [
    "Here is a detailed comparison of the approaches used to solve the \"Path Sum II\" problem. The table show the time and space complexity trade-offs for different recursive and iterative strategies. If you’re aiming for optimal space usage, the **backtracking recursive approach** is generally preferred."
   ]
  },
  {
   "attachments": {},
   "cell_type": "markdown",
   "metadata": {},
   "source": [
    "| Approach                    | Time Complexity | Space Complexity         |\n",
    "|----------------------------|------------------|---------------------------|\n",
    "| Recursive (List Copy)          |  O(n)             | O(n²)  |\n",
    "| Recursive (Backtracking) |  O(n)             | O(h)             |\n",
    "| Recursive (deque)      |  O(n)             | O(n log n)               |\n",
    "| Iterative (Stack + Path Copy)     |  O(n)             | O(n²)              |"
   ]
  },
  {
   "cell_type": "code",
   "execution_count": 17,
   "metadata": {},
   "outputs": [],
   "source": [
    "assert Solution().pathSum(\n",
    "    TreeNode(5, TreeNode(4, TreeNode(11, TreeNode(7, None, None), TreeNode(2, None, None)), None), TreeNode(8, TreeNode(13, None, None), TreeNode(4, TreeNode(5, None, None), TreeNode(1, None, None)))),\n",
    "    22\n",
    ") == [[5,4,11,2],[5,8,4,5]]\n",
    "assert Solution().pathSum(\n",
    "    TreeNode(1, TreeNode(2, None, None), TreeNode(3, None, None)),\n",
    "    5\n",
    ") == []\n",
    "assert Solution().pathSum(\n",
    "    TreeNode(1, TreeNode(2, None, None), None),\n",
    "    0\n",
    ") == []\n",
    "assert Solution().pathSum(\n",
    "    TreeNode(1, TreeNode(2, None, None), None),\n",
    "    3\n",
    ") == [[1,2]]"
   ]
  }
 ],
 "metadata": {
  "kernelspec": {
   "display_name": "Python 3 (ipykernel)",
   "language": "python",
   "name": "python3"
  },
  "language_info": {
   "codemirror_mode": {
    "name": "ipython",
    "version": 3
   },
   "file_extension": ".py",
   "mimetype": "text/x-python",
   "name": "python",
   "nbconvert_exporter": "python",
   "pygments_lexer": "ipython3",
   "version": "3.10.3"
  }
 },
 "nbformat": 4,
 "nbformat_minor": 4
}
