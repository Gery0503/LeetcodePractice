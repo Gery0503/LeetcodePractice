{
 "cells": [
  {
   "cell_type": "code",
   "execution_count": null,
   "metadata": {},
   "outputs": [],
   "source": [
    "# LeetCode 191: Number of 1 Bits\n",
    "# https://leetcode.com/problems/number-of-1-bits/\n",
    "# Time Complexity: O(1)\n",
    "# Space Complexity: O(1)"
   ]
  },
  {
   "cell_type": "markdown",
   "metadata": {},
   "source": [
    "# 191. Number of 1 Bits\n",
    "\n",
    "[Link to Problem](https://leetcode.com/problems/number-of-1-bits/description/)\n",
    "\n",
    "### Description\n",
    "Write a function that takes an unsigned integer and returns the number of '1' bits it has (also known as the **Hamming weight**).\n",
    "\n",
    "---\n",
    "**Example 1:**\n",
    "\n",
    "Input: `n = 11`\n",
    "Output: `3`\n",
    "Explanation: The input binary string has a total of three '1' bits.\n",
    "\n",
    "**Example 2:**\n",
    "\n",
    "Input: `n = 128`\n",
    "Output: `1`\n",
    "\n",
    "**Example 3:**\n",
    "\n",
    "Input: `n = 2147483645`\n",
    "Output: `30`\n",
    "\n",
    "---\n",
    "**Constraints:**\n",
    "- 1 <= n <= 2**31 - 1.\n",
    "\n",
    "**Follow up:**\n",
    "If this function is called many times, how would you optimize it?"
   ]
  },
  {
   "cell_type": "markdown",
   "metadata": {},
   "source": [
    "My intuition: use sum function"
   ]
  },
  {
   "cell_type": "code",
   "execution_count": 5,
   "metadata": {},
   "outputs": [],
   "source": [
    "class Solution:\n",
    "    def hammingWeight(self, n: int) -> int:\n",
    "        remain = 0\n",
    "        while n > 0:\n",
    "            remain += n % 2\n",
    "            n //= 2\n",
    "        return remain\n",
    "# Time: O(logn), or O(d), d: digits\n",
    "# Space: O(1)"
   ]
  },
  {
   "cell_type": "markdown",
   "metadata": {},
   "source": [
    "If I try binary search in this time: Upper bound = 32, Lower bound == 0"
   ]
  },
  {
   "cell_type": "code",
   "execution_count": 6,
   "metadata": {},
   "outputs": [],
   "source": [
    "# even slower\n",
    "class Solution:\n",
    "    def hammingWeight(self, n: int) -> int:\n",
    "        def rec(lower, upper, n):\n",
    "            if n == 0 :\n",
    "                return 0\n",
    "                \n",
    "            while lower < upper:\n",
    "                mid = (upper + lower) // 2 \n",
    "                if 2**mid == n:\n",
    "                    return 1\n",
    "                if 2**mid < n:\n",
    "                    lower = mid + 1\n",
    "                if 2**mid > n:\n",
    "                    upper = mid - 1\n",
    "\n",
    "            if n < 2**lower:\n",
    "                n = n - 2**(lower-1)\n",
    "                return 1 + rec(0, lower-1,n)\n",
    "            else:\n",
    "                n = n - 2**(lower)\n",
    "                return 1 + rec(0, lower, n)\n",
    "                \n",
    "        return rec(0, 32, n)\n",
    "        \n",
    "# Time: O(logn*logn?)\n",
    "# Space: O(logn?)"
   ]
  },
  {
   "cell_type": "markdown",
   "metadata": {},
   "source": [
    "### ✅ Summary\n",
    "\n",
    "You provided two implementations:\n",
    "\n",
    "1. **Division by 2 and modulo check (bit count)** – Simple and efficient.\n",
    "2. **Recursive power-of-2 binary search** – Creative but suboptimal.\n",
    "\n",
    "Let’s review both.\n",
    "\n",
    "---\n",
    "\n",
    "## 🔍 Code Review\n",
    "\n",
    "### ✅ Version 1: Count with `% 2` and `// 2`\n",
    "#### ✅ Pros:\n",
    "\n",
    "| Category          | Notes                                        |\n",
    "| ----------------- | -------------------------------------------- |\n",
    "| ✅ Correctness     | Works for all valid 32-bit unsigned integers |\n",
    "| ✅ Time Complexity | `O(log n)` – one iteration per bit           |\n",
    "| ✅ Space           | `O(1)`                                       |\n",
    "| ✅ Readability     | Straightforward, easy to follow              |\n",
    "\n",
    "#### 🛠 Minor Improvements:\n",
    "\n",
    "* Use bitwise operations for better clarity and performance in bit-level tasks:\n",
    "\n",
    "```python\n",
    "remain += n & 1  # bitwise AND is faster than modulus\n",
    "n >>= 1          # right shift instead of floor divide\n",
    "```\n",
    "\n",
    "Updated version:"
   ]
  },
  {
   "cell_type": "code",
   "execution_count": 6,
   "metadata": {},
   "outputs": [],
   "source": [
    "class Solution:\n",
    "    def hammingWeight(self, n: int) -> int:\n",
    "        remain = 0\n",
    "        while n:\n",
    "            remain += n & 1\n",
    "            n >>= 1\n",
    "        return remain\n",
    "# Time: O(1)\n",
    "# Space: O(1)"
   ]
  },
  {
   "cell_type": "markdown",
   "metadata": {},
   "source": [
    "### ⚠️ Version 2: Recursive + Binary Search Approach\n",
    "\n",
    "```python\n",
    "class Solution:\n",
    "    def hammingWeight(self, n: int) -> int:\n",
    "        def rec(lower, upper, n):\n",
    "            ...\n",
    "        return rec(0, 32, n)\n",
    "```\n",
    "\n",
    "#### ❌ Cons:\n",
    "\n",
    "| Issue                | Explanation                                               |\n",
    "| -------------------- | --------------------------------------------------------- |\n",
    "| ❌ Over-engineered    | Problem doesn’t benefit from binary search on powers of 2 |\n",
    "| ❌ Less efficient     | Adds unnecessary recursive overhead                       |\n",
    "| ❌ Hard to read       | Recursion for this bit counting task makes logic obscure  |\n",
    "| ❌ Slower in practice | `O(log² n)` vs `O(log n)` for bitwise count               |\n",
    "\n",
    "---\n",
    "\n",
    "## 💡 Optimal Solution: Brian Kernighan’s Algorithm\n",
    "\n",
    "A classic bit-manipulation trick:\n",
    "\n",
    "---"
   ]
  },
  {
   "cell_type": "code",
   "execution_count": 5,
   "metadata": {},
   "outputs": [],
   "source": [
    "class Solution:\n",
    "    def hammingWeight(self, n: int) -> int:\n",
    "        count = 0\n",
    "        while n:\n",
    "            n &= n - 1  # drops the lowest set bit\n",
    "            count += 1\n",
    "        return count\n",
    "# Time: O(1)\n",
    "# Space: O(1)"
   ]
  },
  {
   "cell_type": "markdown",
   "metadata": {},
   "source": [
    "\n",
    "### 🏆 Why It's Best\n",
    "\n",
    "| Metric               | Value                                           |\n",
    "| -------------------- | ----------------------------------------------- |\n",
    "| **Time Complexity**  | O(k), where `k` = number of set bits (≤ 32)     |\n",
    "| **Space Complexity** | O(1)                                            |\n",
    "| **Performance**      | Faster than checking all bits if `n` has few 1s |\n",
    "| **Elegance**         | Minimal logic, no modulo, no recursion          |\n",
    "\n",
    "## 📌 Final Recommendation\n",
    "\n",
    "| Version                 | Verdict           | Why                           |\n",
    "| ----------------------- | ----------------- | ----------------------------- |\n",
    "| `% 2` and `// 2`        | ✅ Acceptable      | Simple, educational           |\n",
    "| `& 1` and `>> 1`        | ✅ Slightly better | Pure bit manipulation         |\n",
    "| Recursive binary search | ❌ Overkill        | Slower and harder to maintain |\n",
    "| `n &= n - 1`            | ✅✅ Best           | Clean and fast                |"
   ]
  },
  {
   "cell_type": "code",
   "execution_count": 8,
   "metadata": {},
   "outputs": [],
   "source": [
    "assert Solution().hammingWeight(11) == 3\n",
    "assert Solution().hammingWeight(128) == 1\n",
    "assert Solution().hammingWeight(2147483645) == 30\n",
    "assert Solution().hammingWeight(2**31 - 1) == 31  # Max 32-bit signed int"
   ]
  }
 ],
 "metadata": {
  "kernelspec": {
   "display_name": "Python 3 (ipykernel)",
   "language": "python",
   "name": "python3"
  },
  "language_info": {
   "codemirror_mode": {
    "name": "ipython",
    "version": 3
   },
   "file_extension": ".py",
   "mimetype": "text/x-python",
   "name": "python",
   "nbconvert_exporter": "python",
   "pygments_lexer": "ipython3",
   "version": "3.10.3"
  }
 },
 "nbformat": 4,
 "nbformat_minor": 4
}
