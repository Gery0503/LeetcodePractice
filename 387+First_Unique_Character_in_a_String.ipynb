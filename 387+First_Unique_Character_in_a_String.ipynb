{
 "cells": [
  {
   "cell_type": "code",
   "execution_count": null,
   "metadata": {},
   "outputs": [],
   "source": [
    "# LeetCode 387: First Unique Character in a String\n",
    "# https://leetcode.com/problems/first-unique-character-in-a-string\n",
    "# Time Complexity: O(n)\n",
    "# Space Complexity: O(1)"
   ]
  },
  {
   "cell_type": "markdown",
   "metadata": {},
   "source": [
    "# 387. First Unique Character in a String\n",
    "\n",
    "[Link to Problem](https://leetcode.com/problems/first-unique-character-in-a-string/description/)\n",
    "\n",
    "### Description\n",
    "Given a string `s`, find the first non-repeating character in it and return its index. If it does not exist, return `-1`.\n",
    "\n",
    "---\n",
    "**Example 1:**\n",
    "\n",
    "Input: `s = \"leetcode\"`\n",
    "\n",
    "Output: `0`\n",
    "\n",
    "**Example 2:**\n",
    "\n",
    "Input: `s = \"loveleetcode\"`\n",
    "\n",
    "Output: `2`\n",
    "\n",
    "**Example 3:**\n",
    "\n",
    "Input: `s = \"aabb\"`\n",
    "\n",
    "Output: `-1`\n",
    "\n",
    "---\n",
    "**Constraints:**\n",
    "- `1 <= s.length <= 10^5`\n",
    "- `s` consists of only lowercase English letters.\n"
   ]
  },
  {
   "cell_type": "markdown",
   "metadata": {},
   "source": [
    "My intuition: two loop"
   ]
  },
  {
   "cell_type": "code",
   "execution_count": 11,
   "metadata": {},
   "outputs": [],
   "source": [
    "class Solution:\n",
    "    def firstUniqChar(self, s: str) -> int:\n",
    "        char_dict = {}\n",
    "        for char in s:\n",
    "            if char not in char_dict:\n",
    "                char_dict[char] = 1\n",
    "            else:\n",
    "                char_dict[char] = 0\n",
    "        for i, char in enumerate(s):\n",
    "            if char_dict[char] == 1:\n",
    "                return i\n",
    "        \n",
    "        return -1\n",
    "# Time: O(n)\n",
    "# Space: O(1) since only 26 lowercase letters"
   ]
  },
  {
   "cell_type": "code",
   "execution_count": 14,
   "metadata": {},
   "outputs": [],
   "source": [
    "assert Solution().firstUniqChar('a') == 0              # Single char\n",
    "assert Solution().firstUniqChar('aa') == -1            # All same\n",
    "assert Solution().firstUniqChar('abcabc') == -1        # No unique\n",
    "assert Solution().firstUniqChar('loveleetcode') == 2        # No unique"
   ]
  },
  {
   "cell_type": "markdown",
   "metadata": {},
   "source": [
    "## ✍️ Style & Code Quality\n",
    "\n",
    "### ✅ Pros:\n",
    "\n",
    "* Clean and readable\n",
    "* Good use of dictionary\n",
    "* Well-separated logic\n",
    "* Clear variable naming\n",
    "\n",
    "### ⚠️ Improvements Suggested:\n",
    "\n",
    "#### 1. 💡 Use `collections.Counter` for conciseness\n",
    "\n",
    "Same logic, shorter, and slightly more idiomatic.\n",
    "\n",
    "#### 2. ❌ Bug Risk in Your Count Logic:\n",
    "\n",
    "This line:\n",
    "\n",
    "```python\n",
    "char_dict[char] = 0\n",
    "```\n",
    "\n",
    "makes repeated characters get value 0, which ignores cases where characters occur more than twice. While this works for this problem, it's **not robust**. Better to increment counts directly:\n",
    "\n",
    "```python\n",
    "char_dict[char] = char_dict.get(char, 0) + 1\n",
    "```\n",
    "\n",
    "So, your original version can be fixed like this:\n",
    "\n",
    "```python\n",
    "class Solution:\n",
    "    def firstUniqChar(self, s: str) -> int:\n",
    "        char_dict = {}\n",
    "        for char in s:\n",
    "            char_dict[char] = char_dict.get(char, 0) + 1\n",
    "        for i, char in enumerate(s):\n",
    "            if char_dict[char] == 1:\n",
    "                return i\n",
    "        return -1\n",
    "```"
   ]
  },
  {
   "cell_type": "code",
   "execution_count": 9,
   "metadata": {},
   "outputs": [],
   "source": [
    "# better one\n",
    "from collections import Counter\n",
    "\n",
    "class Solution:\n",
    "    def firstUniqChar(self, s: str) -> int:\n",
    "        count = Counter(s)\n",
    "        for i, char in enumerate(s):\n",
    "            if count[char] == 1:\n",
    "                return i\n",
    "        return -1"
   ]
  }
 ],
 "metadata": {
  "kernelspec": {
   "display_name": "Python 3 (ipykernel)",
   "language": "python",
   "name": "python3"
  },
  "language_info": {
   "codemirror_mode": {
    "name": "ipython",
    "version": 3
   },
   "file_extension": ".py",
   "mimetype": "text/x-python",
   "name": "python",
   "nbconvert_exporter": "python",
   "pygments_lexer": "ipython3",
   "version": "3.10.3"
  }
 },
 "nbformat": 4,
 "nbformat_minor": 4
}
