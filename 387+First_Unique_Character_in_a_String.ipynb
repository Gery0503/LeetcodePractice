{
  "cells": [
    {
      "cell_type": "markdown",
      "metadata": {},
      "source": [
        "# 387. First Unique Character in a String\n",
        "\n",
        "[Link to Problem](https://leetcode.com/problems/first-unique-character-in-a-string/description/)\n",
        "\n",
        "### Description\n",
        "Given a string `s`, find the first non-repeating character in it and return its index. If it does not exist, return `-1`.\n",
        "\n",
        "---\n",
        "**Example 1:**\n",
        "\n",
        "Input: `s = \"leetcode\"`\n",
        "\n",
        "Output: `0`\n",
        "\n",
        "**Example 2:**\n",
        "\n",
        "Input: `s = \"loveleetcode\"`\n",
        "\n",
        "Output: `2`\n",
        "\n",
        "**Example 3:**\n",
        "\n",
        "Input: `s = \"aabb\"`\n",
        "\n",
        "Output: `-1`\n",
        "\n",
        "---\n",
        "**Constraints:**\n",
        "- `1 <= s.length <= 10^5`\n",
        "- `s` consists of only lowercase English letters.\n"
      ]
    },
    {
      "cell_type": "code",
      "execution_count": null,
      "metadata": {},
      "outputs": [],
      "source": [
        "class Solution:\n",
        "    def firstUniqChar(self, s: str) -> int:\n",
        "        pass"
      ]
    }
  ],
  "metadata": {
    "kernelspec": {
      "display_name": "Python 3",
      "language": "python",
      "name": "python3"
    },
    "language_info": {
      "name": "python",
      "version": "3.x"
    }
  },
  "nbformat": 4,
  "nbformat_minor": 2
}
