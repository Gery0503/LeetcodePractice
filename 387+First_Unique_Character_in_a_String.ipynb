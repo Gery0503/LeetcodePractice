{
 "cells": [
  {
   "cell_type": "code",
   "execution_count": null,
   "metadata": {},
   "outputs": [],
   "source": [
    "# LeetCode 387: First Unique Character in a String\n",
    "# https://leetcode.com/problems/first-unique-character-in-a-string\n",
    "# Time Complexity: O()\n",
    "# Space Complexity: O()"
   ]
  },
  {
   "cell_type": "markdown",
   "metadata": {},
   "source": [
    "# 387. First Unique Character in a String\n",
    "\n",
    "[Link to Problem](https://leetcode.com/problems/first-unique-character-in-a-string/description/)\n",
    "\n",
    "### Description\n",
    "Given a string `s`, find the first non-repeating character in it and return its index. If it does not exist, return `-1`.\n",
    "\n",
    "---\n",
    "**Example 1:**\n",
    "\n",
    "Input: `s = \"leetcode\"`\n",
    "\n",
    "Output: `0`\n",
    "\n",
    "**Example 2:**\n",
    "\n",
    "Input: `s = \"loveleetcode\"`\n",
    "\n",
    "Output: `2`\n",
    "\n",
    "**Example 3:**\n",
    "\n",
    "Input: `s = \"aabb\"`\n",
    "\n",
    "Output: `-1`\n",
    "\n",
    "---\n",
    "**Constraints:**\n",
    "- `1 <= s.length <= 10^5`\n",
    "- `s` consists of only lowercase English letters.\n"
   ]
  },
  {
   "cell_type": "markdown",
   "metadata": {},
   "source": [
    "My intuition: two loop"
   ]
  },
  {
   "cell_type": "code",
   "execution_count": 7,
   "metadata": {},
   "outputs": [],
   "source": [
    "class Solution:\n",
    "    def firstUniqChar(self, s: str) -> int:\n",
    "        char_dict = {}\n",
    "        for char in s:\n",
    "            if char not in char_dict:\n",
    "                char_dict[char] = 1\n",
    "            else:\n",
    "                char_dict[char] = 0\n",
    "        for i, char in enumerate(s):\n",
    "            if char_dict[char] == 1:\n",
    "                return i\n",
    "        \n",
    "        return -1\n",
    "# Time: O(n)\n",
    "# Space: O(n)"
   ]
  },
  {
   "cell_type": "code",
   "execution_count": 8,
   "metadata": {},
   "outputs": [],
   "source": [
    "assert Solution().firstUniqChar('leetcode') == 0\n",
    "assert Solution().firstUniqChar('loveleetcode') == 2\n",
    "assert Solution().firstUniqChar('aabb') == -1"
   ]
  },
  {
   "cell_type": "code",
   "execution_count": null,
   "metadata": {},
   "outputs": [],
   "source": []
  }
 ],
 "metadata": {
  "kernelspec": {
   "display_name": "Python 3 (ipykernel)",
   "language": "python",
   "name": "python3"
  },
  "language_info": {
   "codemirror_mode": {
    "name": "ipython",
    "version": 3
   },
   "file_extension": ".py",
   "mimetype": "text/x-python",
   "name": "python",
   "nbconvert_exporter": "python",
   "pygments_lexer": "ipython3",
   "version": "3.10.3"
  }
 },
 "nbformat": 4,
 "nbformat_minor": 4
}
