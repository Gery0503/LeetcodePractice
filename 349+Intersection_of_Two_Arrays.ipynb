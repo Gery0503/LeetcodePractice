{
 "cells": [
  {
   "cell_type": "code",
   "execution_count": 29,
   "metadata": {},
   "outputs": [],
   "source": [
    "# LeetCode 349: Intersection of Two Arrays\n",
    "# https://leetcode.com/problems/intersection-of-two-arrays\n",
    "# Time Complexity: O(n + m)\n",
    "# Space Complexity: O(n + m)"
   ]
  },
  {
   "cell_type": "markdown",
   "metadata": {},
   "source": [
    "# 349. Intersection of Two Arrays\n",
    "\n",
    "### Problem Link\n",
    "[LeetCode 349 – Intersection of Two Arrays](https://leetcode.com/problems/intersection-of-two-arrays/description/)\n",
    "\n",
    "### Difficulty\n",
    "**Easy**\n",
    "\n",
    "### Description\n",
    "Given two integer arrays `nums1` and `nums2`, return an array of their intersection.  \n",
    "Each element in the result must be unique and you may return the result in any order.\n",
    "\n",
    "### Examples\n",
    "**Example 1:**\n",
    "- Input: `nums1 = [1,2,2,1], nums2 = [2,2]`\n",
    "- Output: `[2]`\n",
    "\n",
    "**Example 2:**\n",
    "- Input: `nums1 = [4,9,5], nums2 = [9,4,9,8,4]`\n",
    "- Output: `[9,4]` (or `[4,9]`)\n",
    "\n",
    "### Constraints\n",
    "- `1 <= nums1.length, nums2.length <= 1000`\n",
    "- `0 <= nums1[i], nums2[i] <= 1000`\n"
   ]
  },
  {
   "cell_type": "code",
   "execution_count": 10,
   "metadata": {},
   "outputs": [],
   "source": [
    "# Write your Python solution here\n",
    "from typing import List\n",
    "\n",
    "class Solution:\n",
    "    def intersection(self, nums1: List[int], nums2: List[int]) -> List[int]:\n",
    "        set_1 = set(nums1)\n",
    "        set_2 = set(nums2)\n",
    "        output = []\n",
    "        for num in set_2:\n",
    "            if num in set_1:\n",
    "                output.append(num)\n",
    "        return output\n",
    "# Time: O(n + m)\n",
    "# Space: O(n + m)"
   ]
  },
  {
   "cell_type": "code",
   "execution_count": 12,
   "metadata": {},
   "outputs": [],
   "source": [
    "assert Solution().intersection([1, 2, 2, 1], [2, 2]) == [2]\n",
    "assert Solution().intersection([4, 9, 5], [9, 4, 9, 8, 4]) == [4, 9] or [9, 4]"
   ]
  },
  {
   "cell_type": "markdown",
   "metadata": {},
   "source": [
    "## ✅ Refactored Version (Optional)"
   ]
  },
  {
   "cell_type": "code",
   "execution_count": 17,
   "metadata": {},
   "outputs": [],
   "source": [
    "from typing import List\n",
    "\n",
    "class Solution:\n",
    "    def intersection(self, nums1: List[int], nums2: List[int]) -> List[int]:\n",
    "        \"\"\"\n",
    "        Returns the intersection of two arrays as a list of unique elements.\n",
    "        \"\"\"\n",
    "        return list(set(nums1) & set(nums2))\n",
    "# Time: O(n + m)\n",
    "# Space: O(n + m)"
   ]
  },
  {
   "cell_type": "code",
   "execution_count": 18,
   "metadata": {},
   "outputs": [],
   "source": [
    "# Tests\n",
    "assert set(Solution().intersection([1, 2, 2, 1], [2, 2])) == {2}\n",
    "assert set(Solution().intersection([4, 9, 5], [9, 4, 9, 8, 4])) == {4, 9}"
   ]
  },
  {
   "cell_type": "code",
   "execution_count": 27,
   "metadata": {},
   "outputs": [
    {
     "data": {
      "text/plain": [
       "{2}"
      ]
     },
     "execution_count": 27,
     "metadata": {},
     "output_type": "execute_result"
    }
   ],
   "source": [
    "set([1, 2, 2, 1]) & set([2, 2])\n",
    "set([1, 2, 2, 1]) and set([2, 2])"
   ]
  },
  {
   "cell_type": "code",
   "execution_count": 28,
   "metadata": {},
   "outputs": [
    {
     "data": {
      "text/plain": [
       "{1, 2}"
      ]
     },
     "execution_count": 28,
     "metadata": {},
     "output_type": "execute_result"
    }
   ],
   "source": [
    "set([1, 2, 2, 1]) | set([2, 2])\n",
    "set([1, 2, 2, 1]) or set([2, 2])"
   ]
  }
 ],
 "metadata": {
  "kernelspec": {
   "display_name": "Python 3 (ipykernel)",
   "language": "python",
   "name": "python3"
  },
  "language_info": {
   "codemirror_mode": {
    "name": "ipython",
    "version": 3
   },
   "file_extension": ".py",
   "mimetype": "text/x-python",
   "name": "python",
   "nbconvert_exporter": "python",
   "pygments_lexer": "ipython3",
   "version": "3.10.3"
  }
 },
 "nbformat": 4,
 "nbformat_minor": 4
}
