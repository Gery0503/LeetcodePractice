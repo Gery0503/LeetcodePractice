{
 "cells": [
  {
   "cell_type": "code",
   "execution_count": null,
   "metadata": {},
   "outputs": [],
   "source": [
    "# LeetCode 160: Intersection of Two Linked Lists\n",
    "# https://leetcode.com/problems/intersection-of-two-linked-lists\n",
    "# Time Complexity: O(n+m)\n",
    "# Space Complexity: O(1)"
   ]
  },
  {
   "cell_type": "markdown",
   "metadata": {},
   "source": [
    "# 160. Intersection of Two Linked Lists\n",
    "\n",
    "[Link to Problem](https://leetcode.com/problems/intersection-of-two-linked-lists/description/)\n",
    "\n",
    "### Description\n",
    "Given the heads of two singly linked-lists `headA` and `headB`, return the node at which the two lists intersect.  \n",
    "If the two linked lists have no intersection at all, return `null`.\n",
    "\n",
    "For example, the following two linked lists begin to intersect at node `c1`:\n",
    "\n",
    "`A: a1 → a2\n",
    "           ↘\n",
    "             c1 → c2 → c3\n",
    "           ↗\n",
    "B: b1 → b2`\n",
    "\n",
    "The test cases are generated such that there are no cycles anywhere in the entire linked structure.\n",
    "\n",
    "Note that the linked lists must retain their original structure after the function returns.\n",
    "\n",
    "Custom Judge:\n",
    "The inputs to the judge are given as follows (your program is not given these inputs):\n",
    "- `intersectVal` - The value of the node where the intersection occurs. This is `0` if there is no intersected node.\n",
    "- `listA` - The first linked list.\n",
    "- `listB` - The second linked list.\n",
    "- `skipA` - The number of nodes to skip ahead in `listA` (starting from the head) to get to the intersected node.\n",
    "- `skipB` - The number of nodes to skip ahead in `listB` (starting from the head) to get to the intersected node.\n",
    "\n",
    "The judge will then create the linked structure based on these inputs and pass the two heads to your program.\n",
    "\n",
    "---\n",
    "**Example 1:**\n",
    "\n",
    "Input: `intersectVal = 8`, `listA = [4,1,8,4,5]`, `listB = [5,6,1,8,4,5]`, `skipA = 2`, `skipB = 3`\n",
    "Output: `Intersected at '8'`\n",
    "\n",
    "**Example 2:**\n",
    "\n",
    "Input: `intersectVal = 2`, `listA = [1,9,1,2,4]`, `listB = [3,2,4]`, `skipA = 3`, `skipB = 1`\n",
    "Output: `Intersected at '2'`\n",
    "\n",
    "**Example 3:**\n",
    "\n",
    "Input: `intersectVal = 0`, `listA = [2,6,4]`, `listB = [1,5]`, `skipA = 3`, `skipB = 2`\n",
    "Output: `No intersection`\n",
    "\n",
    "---\n",
    "**Constraints:**\n",
    "- The number of nodes of `listA` is in the `m`.\n",
    "- The number of nodes of `listB` is in the `n`.\n",
    "- `1 <= m, n <= 3 * 10^4`\n",
    "- `1 <= Node.val <= 10^5`\n",
    "- `0 <= skipA < m`\n",
    "- `0 <= skipB < n`\n",
    "- `intersectVal` is `0` if `listA` and `listB` do not intersect.\n",
    "- `intersectVal == listA[skipA] == listB[skipB]` if `listA` and `listB` intersect.\n"
   ]
  },
  {
   "cell_type": "markdown",
   "metadata": {},
   "source": [
    "### Two-Pointer Approach"
   ]
  },
  {
   "cell_type": "markdown",
   "metadata": {},
   "source": [
    "◽️ Question\n",
    "\n",
    "How can we make the two lists the same length?  \n",
    "Strategy is to connect both lists with each other.  \n",
    "\n",
    "A: 4 → 1 → 8 → 5 → 6 → 1 → 8  \n",
    "B: 5 → 6 → 1 → 8 → 4 → 1 → 8  \n",
    "\n",
    "This is based on the same principle as 3 + 2 = 5 and 2 + 3 = 5."
   ]
  },
  {
   "cell_type": "code",
   "execution_count": 4,
   "metadata": {},
   "outputs": [],
   "source": [
    "class ListNode:\n",
    "    def __init__(self, x):\n",
    "        self.val = x\n",
    "        self.next = None\n",
    "        \n",
    "class Solution:\n",
    "    def getIntersectionNode(self, headA: ListNode, headB: ListNode) -> ListNode:\n",
    "        lista, listb = headA, headB\n",
    "\n",
    "        while lista is not listb:\n",
    "            lista = lista.next if lista else headB\n",
    "            listb = listb.next if listb else headA\n",
    "\n",
    "        return lista\n",
    "# Time: O(m + n)\n",
    "# Space: O(1)"
   ]
  },
  {
   "cell_type": "markdown",
   "metadata": {},
   "source": [
    "### Thinking\n",
    "In the future problems, maybe the case like to find the first same parent can use this approach.  \n",
    "In my experience in MTK company, different IPs find same domain could use this method.  \n",
    "Power supply circuit diagram path: \n",
    " - battery -> PMIC -> powerball -> IP"
   ]
  },
  {
   "cell_type": "markdown",
   "metadata": {},
   "source": [
    "### History solutions below (not the best, should not use)"
   ]
  },
  {
   "cell_type": "code",
   "execution_count": 1,
   "metadata": {
    "jupyter": {
     "source_hidden": true
    }
   },
   "outputs": [],
   "source": [
    "# Definition for singly-linked list.\n",
    "class ListNode:\n",
    "    def __init__(self, x):\n",
    "        self.val = x\n",
    "        self.next = None\n",
    "\n",
    "class Solution:\n",
    "    def getIntersectionNode(self, headA: ListNode, headB: ListNode) -> ListNode:\n",
    "\n",
    "        a_lst = []\n",
    "        while headA:\n",
    "            a_lst.append(headA)\n",
    "            headA = headA.next\n",
    "\n",
    "        while headB:\n",
    "            if headB in a_lst:\n",
    "                return headB\n",
    "            headB = headB.next\n",
    "\n",
    "        return None\n",
    "# Time: O(m + n)\n",
    "# Space: O(m + n)"
   ]
  },
  {
   "cell_type": "code",
   "execution_count": 2,
   "metadata": {
    "jupyter": {
     "source_hidden": true
    }
   },
   "outputs": [],
   "source": [
    "# Can I add attribut check like below?\n",
    "class ListNode:\n",
    "    def __init__(self, x):\n",
    "        self.val = x\n",
    "        self.next = None\n",
    "        self.check = False\n",
    "\n",
    "class Solution:\n",
    "    def getIntersectionNode(self, headA: ListNode, headB: ListNode) -> ListNode:\n",
    "\n",
    "        while headA.next:\n",
    "            headA.check = True\n",
    "            headA = headA.next\n",
    "\n",
    "        while headB.next:\n",
    "            if headB.check:\n",
    "                return headB\n",
    "            headB = headB.next\n",
    "\n",
    "        return None\n",
    "# Time: O(m + n)\n",
    "# Space: O(m + n)"
   ]
  },
  {
   "cell_type": "code",
   "execution_count": 3,
   "metadata": {
    "jupyter": {
     "source_hidden": true
    }
   },
   "outputs": [],
   "source": [
    "# Due to the modification of linked structure, this approach is not right for the solution.\n",
    "class ListNode:\n",
    "    def __init__(self, x):\n",
    "        self.val = x\n",
    "        self.next = None\n",
    "        \n",
    "class Solution:\n",
    "    def getIntersectionNode(self, headA: ListNode, headB: ListNode) -> ListNode:\n",
    "\n",
    "        last_A = headA\n",
    "        while last_A.next:\n",
    "            last_A = last_A.next\n",
    "\n",
    "        last_B = headB\n",
    "        while last_B.next:\n",
    "            last_B = last_B.next\n",
    "\n",
    "        if last_A != last_B:\n",
    "            return None\n",
    "            \n",
    "        while headA.next:\n",
    "            next_node = headA.next\n",
    "            headA.next = None\n",
    "            headA = next_node\n",
    "\n",
    "        while headB.next:\n",
    "            headB = headB.next\n",
    "\n",
    "        return headB\n",
    "# Time: O(m + n)\n",
    "# Space: O(1)"
   ]
  }
 ],
 "metadata": {
  "kernelspec": {
   "display_name": "Python 3 (ipykernel)",
   "language": "python",
   "name": "python3"
  },
  "language_info": {
   "codemirror_mode": {
    "name": "ipython",
    "version": 3
   },
   "file_extension": ".py",
   "mimetype": "text/x-python",
   "name": "python",
   "nbconvert_exporter": "python",
   "pygments_lexer": "ipython3",
   "version": "3.10.3"
  }
 },
 "nbformat": 4,
 "nbformat_minor": 4
}
