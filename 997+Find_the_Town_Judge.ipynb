{
 "cells": [
  {
   "cell_type": "markdown",
   "metadata": {},
   "source": [
    "# 997. Find the Town Judge\n",
    "\n",
    "[Link to Problem](https://leetcode.com/problems/find-the-town-judge/)\n",
    "\n",
    "### Description\n",
    "In a town, there are `n` people labeled from `1` to `n`. There is a rumor that one of these people is secretly the town judge.\n",
    "\n",
    "If the town judge exists, then:\n",
    "1. The town judge trusts nobody.\n",
    "2. Everybody (except for the town judge) trusts the town judge.\n",
    "3. There is exactly one person that satisfies properties 1 and 2.\n",
    "\n",
    "You are given an array `trust` where `trust[i] = [a, b]` representing that the person labeled `a` trusts the person labeled `b`.\n",
    "\n",
    "Return the label of the town judge if the town judge exists and can be identified, or return `-1` otherwise.\n",
    "\n",
    "---\n",
    "**Example 1:**\n",
    "\n",
    "Input: `n = 2, trust = [[1,2]]`\n",
    "Output: `2`\n",
    "\n",
    "**Example 2:**\n",
    "\n",
    "Input: `n = 3, trust = [[1,3],[2,3]]`\n",
    "Output: `3`\n",
    "\n",
    "**Example 3:**\n",
    "\n",
    "Input: `n = 3, trust = [[1,3],[2,3],[3,1]]`\n",
    "Output: `-1`\n",
    "\n",
    "---\n",
    "**Constraints:**\n",
    "- `1 <= n <= 1000`\n",
    "- `0 <= trust.length <= 10^4`\n",
    "- `trust[i].length == 2`\n",
    "- All the trust relationships are unique.\n",
    "- `a != b`\n",
    "- `1 <= a, b <= n`"
   ]
  },
  {
   "cell_type": "code",
   "execution_count": 2,
   "metadata": {},
   "outputs": [],
   "source": [
    "# ChatGPT answer\n",
    "from typing import List\n",
    "class Solution:\n",
    "    def findJudge(self, n: int, trust: List[List[int]]) -> int:\n",
    "        trust_score = [0] * (n + 1)\n",
    "    \n",
    "        for a, b in trust:\n",
    "            trust_score[a] -= 1  # a trusts someone → not a judge\n",
    "            trust_score[b] += 1  # b is trusted → possible judge\n",
    "    \n",
    "        for i in range(1, n + 1):\n",
    "            if trust_score[i] == n - 1:\n",
    "                return i\n",
    "    \n",
    "        return -1\n",
    "# Time: O(T + N), where T is length of trust, N is number of people\n",
    "# Space: O(N), for the trust score array."
   ]
  },
  {
   "cell_type": "markdown",
   "metadata": {},
   "source": [
    "Intuition:  \n",
    "Consider trust as a graph, all pairs are directed edge.  \n",
    "The point with in-degree - out-degree = N - 1 become the judge.\n",
    "\n",
    "Explanation:  \n",
    "Count the degree, and check at the end."
   ]
  },
  {
   "cell_type": "code",
   "execution_count": 4,
   "metadata": {},
   "outputs": [],
   "source": [
    "# Test\n",
    "assert Solution().findJudge(2, [[1,2]]) == 2\n",
    "assert Solution().findJudge(3, [[1,3], [2,3]]) == 3\n",
    "assert Solution().findJudge(3, [[1,3], [2,3], [3,1]]) == -1"
   ]
  }
 ],
 "metadata": {
  "kernelspec": {
   "display_name": "Python 3 (ipykernel)",
   "language": "python",
   "name": "python3"
  },
  "language_info": {
   "codemirror_mode": {
    "name": "ipython",
    "version": 3
   },
   "file_extension": ".py",
   "mimetype": "text/x-python",
   "name": "python",
   "nbconvert_exporter": "python",
   "pygments_lexer": "ipython3",
   "version": "3.10.3"
  }
 },
 "nbformat": 4,
 "nbformat_minor": 4
}
