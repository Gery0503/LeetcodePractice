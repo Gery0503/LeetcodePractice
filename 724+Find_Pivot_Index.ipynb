{
 "cells": [
  {
   "cell_type": "markdown",
   "metadata": {},
   "source": [
    "# 724. Find Pivot Index\n",
    "\n",
    "[Link to Problem](https://leetcode.com/problems/find-pivot-index/description/)\n",
    "\n",
    "### Description\n",
    "Given an array of integers `nums`, return the *pivot index*.\n",
    "\n",
    "The pivot index is the index where the sum of all the numbers strictly to the left of the index is equal to the sum of all the numbers strictly to the right of the index. If the index is on the left edge, the left sum is 0, and similarly, if it’s on the right edge, the right sum is 0.\n",
    "\n",
    "Return the **leftmost pivot index** if it exists. If no such index exists, return `-1`.\n",
    "\n",
    "---\n",
    "**Example 1:**\n",
    "\n",
    "Input: `nums = [1,7,3,6,5,6]`\n",
    "Output: `3`\n",
    "\n",
    "**Example 2:**\n",
    "\n",
    "Input: `nums = [1,2,3]`\n",
    "Output: `-1`\n",
    "\n",
    "**Example 3:**\n",
    "\n",
    "Input: `nums = [2,1,-1]`\n",
    "Output: `0`\n",
    "\n",
    "---\n",
    "**Constraints:**\n",
    "- `1 <= nums.length <= 10^4`\n",
    "- `-1000 <= nums[i] <= 1000`\n"
   ]
  },
  {
   "cell_type": "markdown",
   "metadata": {},
   "source": [
    "## My intuition\n",
    " - start from middle index, if left sum more than right sum, then index go to left, else go to right"
   ]
  },
  {
   "cell_type": "code",
   "execution_count": 6,
   "metadata": {},
   "outputs": [],
   "source": [
    "# First try (won't work in the approach)\n",
    "class Solution:\n",
    "    def pivotIndex(self, nums: list[int]) -> int:\n",
    "        pivot_idx = (len(nums)-1)//2\n",
    "        go_left = None\n",
    "        while 0 <= pivot_idx < len(nums):\n",
    "            if sum(nums[:pivot_idx]) == sum(nums[pivot_idx+1:]):\n",
    "                return pivot_idx\n",
    "            elif sum(nums[:pivot_idx]) > sum(nums[pivot_idx+1:]):\n",
    "                if go_left is False:\n",
    "                    return -1\n",
    "                pivot_idx -= 1\n",
    "                go_left = True\n",
    "            else:\n",
    "                if go_left is True:\n",
    "                    return -1\n",
    "                pivot_idx += 1\n",
    "                go_left = False\n",
    "        return -1\n",
    "            \n",
    "# Time: O(n**2)\n",
    "# Space: O(n)"
   ]
  },
  {
   "cell_type": "markdown",
   "metadata": {},
   "source": [
    "## Oberservation\n",
    "Can't pass this test:  \n",
    "```\n",
    "assert Solution().pivotIndex([-1,-1,-1,-1,0,1]) == 1\n",
    "```\n",
    "Next idea: Expected leftmost idx so maybe we should loop from left to check one by one"
   ]
  },
  {
   "cell_type": "code",
   "execution_count": 7,
   "metadata": {},
   "outputs": [],
   "source": [
    "# Second try: just loop from index 0\n",
    "class Solution:\n",
    "    def pivotIndex(self, nums: list[int]) -> int:\n",
    "        left_sum = 0\n",
    "        right_sum = sum(nums)\n",
    "        for pivot_idx in range(len(nums)):\n",
    "            if pivot_idx == 0:\n",
    "                right_sum -= nums[pivot_idx]\n",
    "            else:\n",
    "                left_sum += nums[pivot_idx-1]\n",
    "                right_sum -= nums[pivot_idx]\n",
    "            if left_sum == right_sum:\n",
    "                return pivot_idx\n",
    "        return -1\n",
    "            \n",
    "# Time: O(n)\n",
    "# Space: O(1)"
   ]
  },
  {
   "cell_type": "markdown",
   "metadata": {},
   "source": [
    "Here’s a structured **code review** of your notebook and solution attempts:\n",
    "\n",
    "---\n",
    "\n",
    "### ✅ Strengths\n",
    "\n",
    "1. **Clear documentation**:\n",
    "   You included the problem description, intuition, and tests. This makes it easy for others to follow your thought process. Good practice.\n",
    "\n",
    "2. **Progressive refinement**:\n",
    "   You started with an intuitive (though inefficient) approach, identified its shortcomings, and then refactored to an optimal **O(n), O(1)** solution. Excellent problem-solving methodology.\n",
    "\n",
    "3. **Thorough testing**:\n",
    "   You tested against problem examples and custom tricky cases (`[-1,-1,-1,-1,0,1]`, single-element arrays, etc.). That’s exactly how edge cases should be validated.\n",
    "\n",
    "---\n",
    "\n",
    "### ⚠️ Issues and Suggestions\n",
    "\n",
    "#### 1. **First Attempt (`O(n^2)`)**\n",
    "\n",
    "* **Bug**: The logic assumes a binary-search-like narrowing (go left/right), but pivot index doesn’t behave monotonically, so skipping indices risks missing the answer.\n",
    "* **Performance issue**: Using `sum(nums[:pivot_idx])` and `sum(nums[pivot_idx+1:])` recalculates sums on every iteration → **O(n²)**. This is infeasible for large input (up to 10⁴ elements).\n",
    "* **Readability**: The `go_left` flag makes the code harder to follow, and doesn’t solve the core inefficiency.\n",
    "\n",
    "💡 **Suggestion**: If you wanted to keep a middle-starting approach, precompute prefix sums and suffix sums in **O(n)**, then compare in constant time. But the simpler linear scan (your second try) is better.\n",
    "\n",
    "---\n",
    "\n",
    "#### 2. **Second Attempt (`O(n), O(1)`)**\n",
    "\n",
    "* **Correctness**: This solution is correct and efficient. 👍\n",
    "* **Readability**:\n",
    "\n",
    "  * You treat the first index (`pivot_idx == 0`) as a special case. This is fine, but you can unify the logic to make it cleaner.\n",
    "  * Variable updates (`left_sum`, `right_sum`) could be more intuitive if you update both at the same place.\n",
    "\n",
    "💡 **Cleaner alternative implementation**:"
   ]
  },
  {
   "cell_type": "code",
   "execution_count": 11,
   "metadata": {},
   "outputs": [],
   "source": [
    "class Solution:\n",
    "    def pivotIndex(self, nums: list[int]) -> int:\n",
    "        total = sum(nums)\n",
    "        left_sum = 0\n",
    "        for i, num in enumerate(nums):\n",
    "            if left_sum == total - left_sum - num:\n",
    "                return i\n",
    "            left_sum += num\n",
    "        return -1\n",
    "# Time: O(n)\n",
    "# Space: O(1)"
   ]
  },
  {
   "cell_type": "markdown",
   "metadata": {},
   "source": [
    "* This removes special-casing and keeps the logic straightforward:\n",
    "\n",
    "  * `total - left_sum - num` is the right sum.\n",
    "  * Update `left_sum` after checking pivot condition.\n",
    "\n",
    "---\n",
    "\n",
    "#### 3. **General Best Practices**\n",
    "\n",
    "* **Typing**: You used `list[int]`, which is Python 3.9+ syntax. If aiming for broader compatibility, prefer `List[int]` from `typing`.\n",
    "* **Testing**: You used `assert`, which is fine for quick checks. For production or interview readiness, wrapping in a simple test function (or using `unittest/pytest`) makes results clearer.\n",
    "* **Notebook hygiene**: Including failed attempts is great for learning, but if this were a shared repo, you might want to move them to a “notes” section or separate notebook.\n",
    "\n",
    "---\n",
    "\n",
    "### 📌 Summary of Recommendations\n",
    "\n",
    "1. Drop the `O(n²)` attempt or clearly mark it as “exploratory / not efficient.”\n",
    "2. Use the cleaner **O(n), O(1)** one-pass solution with `total - left_sum - num`.\n",
    "3. Simplify control flow (remove special cases).\n",
    "4. Use `List[int]` typing for compatibility if needed.\n",
    "5. Consider wrapping tests in functions for clarity.\n",
    "\n",
    "---\n",
    "\n",
    "👉 Do you want me to **refactor your notebook into a polished “final” version** (keeping the learning journey but highlighting the correct solution), or do you want me to focus only on the most optimal implementation for interviews?"
   ]
  },
  {
   "cell_type": "code",
   "execution_count": 8,
   "metadata": {},
   "outputs": [],
   "source": [
    "# Test\n",
    "assert Solution().pivotIndex([1,7,3,6,5,6]) == 3\n",
    "assert Solution().pivotIndex([1,2,3]) == -1\n",
    "assert Solution().pivotIndex([2,1,-1]) == 0\n",
    "assert Solution().pivotIndex([2]) == 0\n",
    "assert Solution().pivotIndex([-2,1,3,1,-2]) == 2\n",
    "assert Solution().pivotIndex([1,0]) == 0\n",
    "assert Solution().pivotIndex([0,0]) == 0\n",
    "assert Solution().pivotIndex([-1,-1,-1,-1,0,1]) == 1"
   ]
  }
 ],
 "metadata": {
  "kernelspec": {
   "display_name": "Python 3 (ipykernel)",
   "language": "python",
   "name": "python3"
  },
  "language_info": {
   "codemirror_mode": {
    "name": "ipython",
    "version": 3
   },
   "file_extension": ".py",
   "mimetype": "text/x-python",
   "name": "python",
   "nbconvert_exporter": "python",
   "pygments_lexer": "ipython3",
   "version": "3.10.3"
  }
 },
 "nbformat": 4,
 "nbformat_minor": 4
}
