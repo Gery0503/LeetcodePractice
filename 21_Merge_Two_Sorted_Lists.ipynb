{
 "cells": [
  {
   "cell_type": "code",
   "execution_count": 24,
   "id": "ed776e35-7f25-429a-9d1a-55081070a056",
   "metadata": {},
   "outputs": [],
   "source": [
    "# LeetCode 21: Merge Two Sorted Lists\n",
    "# https://leetcode.com/problems/merge-two-sorted-lists/\n",
    "# Time Complexity: O(n+m)\n",
    "# Space Complexity: O(1)"
   ]
  },
  {
   "cell_type": "markdown",
   "id": "44797a5d-e716-4bcc-86fb-619252e36181",
   "metadata": {},
   "source": [
    "# 21. Merge Two Sorted Lists\n",
    "\n",
    "## Description\n",
    "\n",
    "You are given the heads of two sorted linked lists `list1` and `list2`.\n",
    "\n",
    "Merge the two lists into one sorted list. The list should be made by splicing together the nodes of the first two lists.\n",
    "\n",
    "Return the head of the merged linked list.\n",
    "\n",
    "## Examples\n",
    "\n",
    "```python\n",
    "list1 = [1, 2, 4]\n",
    "list2 = [1, 3, 4]\n",
    "# Output: [1, 1, 2, 3, 4, 4]\n",
    "\n",
    "list1 = []\n",
    "list2 = []\n",
    "# Output: []\n",
    "\n",
    "list1 = []\n",
    "list2 = [0]\n",
    "# Output: [0]"
   ]
  },
  {
   "cell_type": "markdown",
   "id": "55efa03d-6143-411d-8b78-7bf5977be8a7",
   "metadata": {},
   "source": [
    "## Constraints\n",
    "\n",
    "- The number of nodes in both lists is in the range [0, 50].\n",
    "- -100 <= Node.val <= 100\n",
    "- Both list1 and list2 are sorted in non-decreasing order.\n",
    "---"
   ]
  },
  {
   "cell_type": "markdown",
   "id": "079e3489-2bd8-4be9-b579-bf5eb5997cba",
   "metadata": {},
   "source": [
    "# My solution"
   ]
  },
  {
   "cell_type": "code",
   "execution_count": 3,
   "id": "ada47f55-20e9-4fa1-a4b5-ff71fc1b25c3",
   "metadata": {},
   "outputs": [],
   "source": [
    "# Definition for singly-linked list.\n",
    "class ListNode:\n",
    "    def __init__(self, val=0, next=None):\n",
    "        self.val = val\n",
    "        self.next = next\n",
    "\n",
    "def mergeTwoLists(list1, list2):\n",
    "    node = ListNode()\n",
    "    if list1 or list2:\n",
    "        if list1 and list2:\n",
    "            if list1.val < list2.val:\n",
    "                node = ListNode(list1.val)\n",
    "                list1 = list1.next\n",
    "            else:\n",
    "                node = ListNode(list2.val)\n",
    "                list2 = list2.next\n",
    "      \n",
    "        elif list1:\n",
    "            node = ListNode(list1.val)\n",
    "            list1 = list1.next\n",
    "        \n",
    "        elif list2:\n",
    "            node = ListNode(list2.val)\n",
    "            list2 = list2.next\n",
    "            \n",
    "    else:\n",
    "        return None\n",
    "\n",
    "    new_list = node\n",
    "    \n",
    "    while list1 or list2:\n",
    "        if list1 and list2:\n",
    "            if list1.val < list2.val:\n",
    "                node.next = ListNode(list1.val)\n",
    "                list1 = list1.next\n",
    "            else:\n",
    "                node.next = ListNode(list2.val)\n",
    "                list2 = list2.next\n",
    "      \n",
    "        elif list1:\n",
    "            node.next = ListNode(list1.val)\n",
    "            list1 = list1.next\n",
    "        \n",
    "        elif list2:\n",
    "            node.next = ListNode(list2.val)\n",
    "            list2 = list2.next\n",
    "\n",
    "        node = node.next\n",
    "\n",
    "    return new_list\n",
    "\n",
    "# Time: O(n+m)\n",
    "# Space: O(n+m)"
   ]
  },
  {
   "cell_type": "code",
   "execution_count": 4,
   "id": "6adda10a-660c-48b0-9181-b4dab741e7c3",
   "metadata": {},
   "outputs": [
    {
     "name": "stdout",
     "output_type": "stream",
     "text": [
      "1\n",
      "1\n",
      "2\n",
      "3\n",
      "4\n",
      "4\n"
     ]
    }
   ],
   "source": [
    "# My Test\n",
    "# list1 = [1, 2, 4]\n",
    "# list2 = [1, 3, 4]\n",
    "a = ListNode(1)\n",
    "b = ListNode(2)\n",
    "c = ListNode(4)\n",
    "a.next = b\n",
    "b.next = c\n",
    "\n",
    "d = ListNode(1)\n",
    "e = ListNode(3)\n",
    "f = ListNode(4)\n",
    "d.next = e\n",
    "e.next = f\n",
    "\n",
    "\n",
    "g = mergeTwoLists(a, d)\n",
    "print(g.val)\n",
    "while g.next:\n",
    "    print(g.next.val)\n",
    "    g = g.next\n",
    "\n",
    "# Output: [1, 1, 2, 3, 4, 4]"
   ]
  },
  {
   "cell_type": "markdown",
   "id": "c090fdbd-5050-4e05-b879-d6375e65e528",
   "metadata": {},
   "source": [
    "# Enhancedment"
   ]
  },
  {
   "cell_type": "code",
   "execution_count": 50,
   "id": "397e01e6-8681-4c2e-9672-014f69b9e6b4",
   "metadata": {},
   "outputs": [],
   "source": [
    "def mergeSortedLists2(list1, list2):\n",
    "    if list1 is None and list2 is None:\n",
    "        return None\n",
    "        \n",
    "    if list1 is None:\n",
    "        return list2\n",
    "        \n",
    "    if list2 is None:\n",
    "        return list1\n",
    "\n",
    "    dummy = ListNode()\n",
    "    current = dummy\n",
    "    \n",
    "    while list1 and list2:\n",
    "        if list1.val < list2.val:\n",
    "            current.next = ListNode(list1.val)\n",
    "            list1 = list1.next\n",
    "        else:\n",
    "            current.next = ListNode(list2.val)\n",
    "            list2 = list2.next\n",
    "\n",
    "        current = current.next\n",
    "        \n",
    "    current.next = list1 if list1 else list2\n",
    "        \n",
    "    return dummy.next\n",
    "\n",
    "# Time: O(n+m)\n",
    "# Space: O(1)"
   ]
  },
  {
   "cell_type": "code",
   "execution_count": 51,
   "id": "087db077-c81d-43b5-82c8-77d50fcb6fac",
   "metadata": {},
   "outputs": [
    {
     "name": "stdout",
     "output_type": "stream",
     "text": [
      "b\n",
      "1-> 1-> 2-> 3-> 4-> 4-> None\n"
     ]
    }
   ],
   "source": [
    "# My Test\n",
    "# list1 = [1, 2, 4]\n",
    "# list2 = [1, 3, 4]\n",
    "a = ListNode(1)\n",
    "b = ListNode(2)\n",
    "c = ListNode(4)\n",
    "a.next = b\n",
    "b.next = c\n",
    "\n",
    "d = ListNode(1)\n",
    "e = ListNode(3)\n",
    "f = ListNode(4)\n",
    "d.next = e\n",
    "e.next = f\n",
    "\n",
    "\n",
    "g = mergeSortedLists2(a, d)\n",
    "\n",
    "def print_list(node):\n",
    "    while node:\n",
    "        print(node.val, end=\"-> \")\n",
    "        node = node.next\n",
    "    print(\"None\")\n",
    "\n",
    "print_list(g)\n",
    "# Output: [1, 1, 2, 3, 4, 4]"
   ]
  },
  {
   "cell_type": "code",
   "execution_count": 53,
   "id": "31b98c6e-185c-43db-a944-94f87903aeb0",
   "metadata": {},
   "outputs": [
    {
     "data": {
      "text/plain": [
       "<__main__.ListNode at 0x28452cf3850>"
      ]
     },
     "execution_count": 53,
     "metadata": {},
     "output_type": "execute_result"
    }
   ],
   "source": [
    "def to_list(node):\n",
    "    lst = []\n",
    "    while node:\n",
    "        lst.append(node.value)\n",
    "        node = node.next\n",
    "    return lst"
   ]
  },
  {
   "cell_type": "code",
   "execution_count": 55,
   "id": "9220790b-afb7-42f6-8164-6d9a286a2312",
   "metadata": {},
   "outputs": [
    {
     "name": "stdout",
     "output_type": "stream",
     "text": [
      "a\n"
     ]
    },
    {
     "ename": "NameError",
     "evalue": "name 'to_list' is not defined",
     "output_type": "error",
     "traceback": [
      "\u001b[1;31m---------------------------------------------------------------------------\u001b[0m",
      "\u001b[1;31mNameError\u001b[0m                                 Traceback (most recent call last)",
      "Cell \u001b[1;32mIn[55], line 3\u001b[0m\n\u001b[0;32m      1\u001b[0m \u001b[38;5;66;03m# Edge case\u001b[39;00m\n\u001b[0;32m      2\u001b[0m \u001b[38;5;28;01massert\u001b[39;00m mergeSortedLists2(\u001b[38;5;28;01mNone\u001b[39;00m, \u001b[38;5;28;01mNone\u001b[39;00m) \u001b[38;5;241m==\u001b[39m \u001b[38;5;28;01mNone\u001b[39;00m\n\u001b[1;32m----> 3\u001b[0m \u001b[38;5;28;01massert\u001b[39;00m \u001b[43mto_list\u001b[49m(mergeSortedLists2(\u001b[38;5;28;01mNone\u001b[39;00m, ListNode())) \u001b[38;5;241m==\u001b[39m [\u001b[38;5;241m0\u001b[39m]\n",
      "\u001b[1;31mNameError\u001b[0m: name 'to_list' is not defined"
     ]
    }
   ],
   "source": [
    "# Edge case\n",
    "assert mergeSortedLists2(None, None) == None\n",
    "assert to_list(mergeSortedLists2(None, ListNode())) == [0]"
   ]
  },
  {
   "cell_type": "code",
   "execution_count": null,
   "id": "556b9ab5-0ecf-4707-b31d-734761f1085c",
   "metadata": {},
   "outputs": [],
   "source": []
  }
 ],
 "metadata": {
  "kernelspec": {
   "display_name": "Python 3 (ipykernel)",
   "language": "python",
   "name": "python3"
  },
  "language_info": {
   "codemirror_mode": {
    "name": "ipython",
    "version": 3
   },
   "file_extension": ".py",
   "mimetype": "text/x-python",
   "name": "python",
   "nbconvert_exporter": "python",
   "pygments_lexer": "ipython3",
   "version": "3.10.3"
  }
 },
 "nbformat": 4,
 "nbformat_minor": 5
}
