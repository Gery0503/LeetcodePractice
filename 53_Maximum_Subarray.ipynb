{
 "cells": [
  {
   "cell_type": "code",
   "execution_count": 1,
   "id": "4ebf4fa4-f4cf-448a-af02-230d3e2b7bc3",
   "metadata": {},
   "outputs": [],
   "source": [
    "# LeetCode 53: Maximum Subarray\n",
    "# https://leetcode.com/problems/maximum-subarray/\n",
    "# Time Complexity: \n",
    "# Space Complexity:"
   ]
  },
  {
   "cell_type": "markdown",
   "id": "e0a46b19-47fb-4005-973c-816a52ebb4bf",
   "metadata": {},
   "source": [
    "### 🧩 Problem: Maximum Subarray\n",
    "\n",
    "**Difficulty**: Medium\n",
    "**Link**: [LeetCode 53 – Maximum Subarray](https://leetcode.com/problems/maximum-subarray/description/)\n",
    "\n",
    "#### 📄 Description\n",
    "\n",
    "Given an integer array `nums`, find the contiguous subarray (containing at least one number) which has the largest sum and return its sum.\n",
    "\n",
    "#### 🧪 Examples\n",
    "\n",
    "* **Example 1**\n",
    "  **Input**: `nums = [-2,1,-3,4,-1,2,1,-5,4]`\n",
    "  **Output**: `6`\n",
    "  **Explanation**: The subarray `[4,-1,2,1]` has the largest sum `6`.\n",
    "\n",
    "* **Example 2**\n",
    "  **Input**: `nums = [1]`\n",
    "  **Output**: `1`\n",
    "  **Explanation**: The subarray `[1]` has the largest sum `1`.\n",
    "\n",
    "* **Example 3**\n",
    "  **Input**: `nums = [5,4,-1,7,8]`\n",
    "  **Output**: `23`\n",
    "  **Explanation**: The subarray `[5,4,-1,7,8]` has the largest sum `23`.\n",
    "\n",
    "#### 📌 Constraints\n",
    "\n",
    "* `1 <= nums.length <= 10^5`\n",
    "* `-10^4 <= nums[i] <= 10^4`\n",
    "\n",
    "#### 🔍 Follow-up\n",
    "\n",
    "If you have figured out the O(n) solution, try coding another solution using the divide and conquer approach, which is more subtle."
   ]
  },
  {
   "cell_type": "markdown",
   "id": "ff6092fd-7efd-4aaf-9720-f7e3899e41c9",
   "metadata": {},
   "source": [
    "## My solution"
   ]
  },
  {
   "cell_type": "markdown",
   "id": "42fb765a-fd60-4043-90a1-e075fcc17690",
   "metadata": {},
   "source": [
    "First thought: greedy"
   ]
  },
  {
   "cell_type": "code",
   "execution_count": 21,
   "id": "c956706c-90bd-4e04-9c9e-406fcb48c065",
   "metadata": {},
   "outputs": [],
   "source": [
    "def maxSubArray(nums):\n",
    "    if len(nums) == 0:\n",
    "        return None\n",
    "        \n",
    "    current_sum = nums[0]\n",
    "    max_sum = nums[0]\n",
    "    \n",
    "    for num in nums[1:]:\n",
    "        current_sum = max(current_sum+num, num)\n",
    "        max_sum = max(max_sum, current_sum)\n",
    "        \n",
    "    return max_sum\n",
    "\n",
    "# Time: O(n)\n",
    "# Space: O(1)"
   ]
  },
  {
   "cell_type": "code",
   "execution_count": 22,
   "id": "9ce861ee-9b73-46fd-a6f6-1c9e90932aa4",
   "metadata": {},
   "outputs": [],
   "source": [
    "assert maxSubArray([-2,1,-3,4,-1,2,1,-5,4]) == 6\n",
    "assert maxSubArray([1]) == 1\n",
    "assert maxSubArray([5,4,-1,7,8]) == 23"
   ]
  },
  {
   "cell_type": "markdown",
   "id": "d227827c-ed2b-45b7-a3b1-93acaa6400ba",
   "metadata": {},
   "source": [
    "✅ 1. Kadane's Algorithm (Optimal Approach)"
   ]
  },
  {
   "cell_type": "markdown",
   "id": "0068de18-ac30-4173-b4a2-d23b395b5fbf",
   "metadata": {},
   "source": [
    "### What if I want to get the target array not the sum?"
   ]
  },
  {
   "cell_type": "code",
   "execution_count": 1,
   "id": "382fa79e-7892-40e4-8071-478c34912320",
   "metadata": {},
   "outputs": [],
   "source": [
    "def maxSubArray_array(nums):\n",
    "    if len(nums) == 0:\n",
    "        return []\n",
    "\n",
    "    current_sum = nums[0]\n",
    "    max_sum = nums[0]\n",
    "\n",
    "    cur_start_idx = 0\n",
    "    cur_length = 1\n",
    "    max_start_idx = 0\n",
    "    max_length = 1\n",
    "\n",
    "    for i, num in enumerate(nums[1:], start=1):\n",
    "        if current_sum + num > num:\n",
    "            current_sum += num\n",
    "            cur_length += 1\n",
    "        else:\n",
    "            current_sum = num\n",
    "            cur_start_idx = i\n",
    "            cur_length = 1\n",
    "\n",
    "        if current_sum > max_sum:\n",
    "            max_sum = current_sum\n",
    "            max_start_idx = cur_start_idx\n",
    "            max_length = cur_length\n",
    "            \n",
    "    return nums[max_start_idx : max_start_idx+max_length]"
   ]
  },
  {
   "cell_type": "code",
   "execution_count": 2,
   "id": "68581397-3ec6-466e-bc56-054eb6fbed72",
   "metadata": {},
   "outputs": [
    {
     "data": {
      "text/plain": [
       "[5, 4, -1, 7, 8]"
      ]
     },
     "execution_count": 2,
     "metadata": {},
     "output_type": "execute_result"
    }
   ],
   "source": [
    "maxSubArray_array([5,4,-1,7,8])"
   ]
  },
  {
   "cell_type": "code",
   "execution_count": 3,
   "id": "f5eb9722-dc01-4054-9703-c984f507b2a6",
   "metadata": {},
   "outputs": [],
   "source": [
    "assert maxSubArray_array([-2,1,-3,4,-1,2,1,-5,4]) == [4,-1,2,1]\n",
    "assert maxSubArray_array([1]) == [1]\n",
    "assert maxSubArray_array([5,4,-1,7,8]) == [5,4,-1,7,8]"
   ]
  },
  {
   "cell_type": "markdown",
   "id": "a1e38430-4b7f-4b1d-a8bb-6455039a1d5e",
   "metadata": {},
   "source": [
    "## Try Divide and conquer approach"
   ]
  },
  {
   "cell_type": "markdown",
   "id": "41a70fad-2f3b-48d6-962f-62d84dc8eb58",
   "metadata": {},
   "source": [
    "If we cut the list in half, max arry might lie in:\n",
    "1. left half\n",
    "2. right half\n",
    "3. cross"
   ]
  },
  {
   "cell_type": "code",
   "execution_count": 6,
   "id": "a98ed438-9d7a-4aee-a720-ad181e7c910e",
   "metadata": {},
   "outputs": [],
   "source": [
    "def solution(nums):\n",
    "    if len(nums) == 0:\n",
    "        return None\n",
    "    if len(nums) == 1:\n",
    "        return nums[0]\n",
    "\n",
    "    mid = len(nums) // 2\n",
    "    left = nums[:mid]\n",
    "    right = nums[mid:]\n",
    "    max_left = solution(left)\n",
    "    max_right = solution(right)\n",
    "    \n",
    "    # handle max cross\n",
    "    max_left_suffix = left[-1] \n",
    "    left_acc_sum = 0\n",
    "    for num in left[::-1]:\n",
    "        left_acc_sum += num\n",
    "        max_left_suffix = max(max_left_suffix, left_acc_sum)\n",
    "        \n",
    "    max_right_prefix = right[0] \n",
    "    right_acc_sum = 0\n",
    "    for num in right:\n",
    "        right_acc_sum += num\n",
    "        max_right_prefix = max(max_right_prefix, right_acc_sum)\n",
    "        \n",
    "    max_cross = max_left_suffix + max_right_prefix\n",
    "    \n",
    "    return max(max_left, max_right, max_cross)\n",
    "\n",
    "# Time: O(nlogn)\n",
    "# Space: O(n)"
   ]
  },
  {
   "cell_type": "code",
   "execution_count": 7,
   "id": "4b83dc98-d98a-417e-b3d2-610deb6d0535",
   "metadata": {},
   "outputs": [
    {
     "data": {
      "text/plain": [
       "6"
      ]
     },
     "execution_count": 7,
     "metadata": {},
     "output_type": "execute_result"
    }
   ],
   "source": [
    "solution([-2,1,-3,4,-1,2,1,-5,4])"
   ]
  },
  {
   "cell_type": "code",
   "execution_count": 8,
   "id": "447b8b49-f5df-4628-86d5-dbe24d6fc1dc",
   "metadata": {},
   "outputs": [],
   "source": [
    "assert solution([-2,1,-3,4,-1,2,1,-5,4]) == 6\n",
    "assert solution([1]) == 1\n",
    "assert solution([5,4,-1,7,8]) == 23"
   ]
  },
  {
   "cell_type": "markdown",
   "id": "d884b450-b717-499a-873c-dc62043917ad",
   "metadata": {},
   "source": [
    "Total time is:  T(n)=2T(n/2)+O(n)  \n",
    "This recurrence solves to:  T(n)=O(nlogn)"
   ]
  },
  {
   "cell_type": "markdown",
   "id": "fe79d2b4-2fd8-4b77-ab81-8e126dc97c05",
   "metadata": {},
   "source": [
    "| Approach                               | Time Complexity | Space Complexity | Returns Subarray? | Notes                           |\n",
    "| -------------------------------------- | --------------- | ---------------- | ----------------- | ------------------------------- |\n",
    "| **1. Kadane’s Algorithm**              | O(n)            | O(1)             | ❌ No              | Optimal for max sum only        |\n",
    "| **2. Kadane’s with Subarray Tracking** | O(n)            | O(1)             | ✅ Yes             | Tracks subarray indices         |\n",
    "| **3. Divide and Conquer**              | O(n log n)      | O(log n) or O(n) | ❌ No              | Less efficient; more conceptual |\n"
   ]
  },
  {
   "cell_type": "markdown",
   "id": "28ecea15-77fa-4b2e-9f1b-37d4b9ddb1ef",
   "metadata": {},
   "source": [
    "🧮 Divide and Conquer (Optimized version)"
   ]
  },
  {
   "cell_type": "code",
   "execution_count": 6,
   "id": "2c958483-7b21-42b2-adc0-f341b864a33a",
   "metadata": {},
   "outputs": [],
   "source": [
    "# To better the space complexity in Divide-and-Conquer approach\n",
    "def maxSubArrayDC(nums):\n",
    "    def helper(left, right):\n",
    "        if left == right:\n",
    "            return nums[left]\n",
    "\n",
    "        mid = (left + right) // 2\n",
    "\n",
    "        # Maximum subarray in left half\n",
    "        max_left = helper(left, mid)\n",
    "\n",
    "        # Maximum subarray in right half\n",
    "        max_right = helper(mid + 1, right)\n",
    "\n",
    "        # Max crossing subarray: includes elements from both halves\n",
    "        left_sum = float('-inf')\n",
    "        curr = 0\n",
    "        for i in range(mid, left-1, -1):\n",
    "            curr += nums[i]\n",
    "            left_sum = max(left_sum, curr)\n",
    "\n",
    "        right_sum = float('-inf')\n",
    "        curr = 0\n",
    "        for i in range(mid+1, right+1):\n",
    "            curr += nums[i]\n",
    "            right_sum = max(right_sum, curr)\n",
    "\n",
    "        max_cross = left_sum + right_sum\n",
    "\n",
    "        return max(max_left, max_right, max_cross)\n",
    "\n",
    "    if not nums:\n",
    "        return 0\n",
    "\n",
    "    return helper(0, len(nums)-1)\n",
    "\n",
    "# Time: O(nlogn)\n",
    "# Space: O(logn)"
   ]
  },
  {
   "cell_type": "code",
   "execution_count": 8,
   "id": "a1d4eac6-4b2b-4d40-99ac-28d869298f15",
   "metadata": {},
   "outputs": [],
   "source": [
    "assert maxSubArrayDC([-2,1,-3,4,-1,2,1,-5,4]) == 6\n",
    "assert maxSubArrayDC([1]) == 1\n",
    "assert maxSubArrayDC([5,4,-1,7,8]) == 23"
   ]
  },
  {
   "cell_type": "code",
   "execution_count": 10,
   "id": "404c60ca-94be-4e79-ac01-930c4a08dcc5",
   "metadata": {},
   "outputs": [
    {
     "name": "stdout",
     "output_type": "stream",
     "text": [
      "2\n",
      "1\n",
      "0\n"
     ]
    }
   ],
   "source": [
    "for i in range(2, -1, -1):\n",
    "    print(i)"
   ]
  },
  {
   "cell_type": "markdown",
   "id": "0147d193-0cd2-484e-ade4-90de28721917",
   "metadata": {},
   "source": [
    "### 🔍 What Changed?\n",
    "\n",
    "* Replaced slicing (`nums[:mid]`, `nums[mid:]`) with index boundaries `left` and `right`.\n",
    "* Reduced space complexity to **O(log n)** due to no list copies.\n",
    "* Still achieves the same **O(n log n)** time complexity."
   ]
  }
 ],
 "metadata": {
  "kernelspec": {
   "display_name": "Python 3 (ipykernel)",
   "language": "python",
   "name": "python3"
  },
  "language_info": {
   "codemirror_mode": {
    "name": "ipython",
    "version": 3
   },
   "file_extension": ".py",
   "mimetype": "text/x-python",
   "name": "python",
   "nbconvert_exporter": "python",
   "pygments_lexer": "ipython3",
   "version": "3.10.3"
  }
 },
 "nbformat": 4,
 "nbformat_minor": 5
}
