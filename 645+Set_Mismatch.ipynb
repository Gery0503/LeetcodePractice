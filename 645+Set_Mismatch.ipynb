{
 "cells": [
  {
   "cell_type": "markdown",
   "metadata": {},
   "source": [
    "# 645. Set Mismatch\n",
    "\n",
    "[Link to Problem](https://leetcode.com/problems/set-mismatch/)\n",
    "\n",
    "### Description\n",
    "You have a set of integers `s`, which originally contains all the numbers from `1` to `n`. Unfortunately, due to some error, one of the numbers in `s` got duplicated to another number in the set, which results in **repetition of one number** and **loss of another number**.\n",
    "\n",
    "You are given an integer array `nums` representing the data status of this set after the error.\n",
    "\n",
    "Find the number that occurs twice and the number that is missing and return **them in the form of an array**.\n",
    "\n",
    "---\n",
    "**Example 1:**\n",
    "```\n",
    "Input: nums = [1,2,2,4]\n",
    "Output: [2,3]\n",
    "```\n",
    "\n",
    "**Example 2:**\n",
    "```\n",
    "Input: nums = [1,1]\n",
    "Output: [1,2]\n",
    "```\n",
    "\n",
    "---\n",
    "**Constraints:**\n",
    "- `2 <= nums.length <= 10^4`\n",
    "- `1 <= nums[i] <= 10^4`"
   ]
  },
  {
   "cell_type": "markdown",
   "metadata": {},
   "source": [
    "My intuition: XOR, Sum"
   ]
  },
  {
   "cell_type": "code",
   "execution_count": 1,
   "metadata": {},
   "outputs": [],
   "source": [
    "# XOR appraoch\n",
    "from typing import List\n",
    "\n",
    "class Solution:\n",
    "    def findErrorNums(self, nums: List[int]) -> List[int]:\n",
    "        missing = 0\n",
    "        for num in list(set(nums))+list(range(1, len(nums)+1)):\n",
    "            missing ^= num\n",
    "        \n",
    "        nums.append(missing)\n",
    "        dup = 0\n",
    "        for num in list(nums)+list(range(1, len(nums))):\n",
    "            dup ^= num\n",
    "        return [dup,missing]\n",
    "# Time: O(n)\n",
    "# Space: O(n)"
   ]
  },
  {
   "cell_type": "code",
   "execution_count": 2,
   "metadata": {},
   "outputs": [],
   "source": [
    "# SUM appraoch\n",
    "from typing import List\n",
    "\n",
    "class Solution:\n",
    "    def findErrorNums(self, nums: List[int]) -> List[int]:\n",
    "        missing = (set(range(1, len(nums)+1)) - set(nums)).pop()\n",
    "        dup = sum(nums)+missing-sum(range(1, len(nums)+1))\n",
    "        return [dup,missing]\n",
    "# Time: O(n)\n",
    "# Space: O(n)"
   ]
  },
  {
   "cell_type": "markdown",
   "metadata": {},
   "source": [
    "Here’s a **code review** of your Jupyter notebook solution to **Leetcode 645: Set Mismatch**, covering both the **XOR** and **SUM** approaches:\n",
    "\n",
    "---\n",
    "\n",
    "## ✅ General Feedback\n",
    "\n",
    "* ✅ Clear structure and markdown documentation.\n",
    "* ✅ Two distinct algorithmic approaches implemented (XOR and SUM).\n",
    "* ✅ Correct use of Python built-ins like `set()`, `sum()`.\n",
    "* ✅ Good testing section with assertions.\n",
    "* ✅ Time and space complexity annotated.\n",
    "\n",
    "---\n",
    "\n",
    "## 🔍 Detailed Review\n",
    "\n",
    "### 1. 🧠 XOR Approach\n",
    "\n",
    "```python\n",
    "for num in list(set(nums)) + list(range(1, len(nums)+1)):\n",
    "    missing ^= num\n",
    "```\n",
    "\n",
    "* 🔧 **Clarity**: It’s not immediately obvious why XOR is used here unless the reader understands XOR properties.\n",
    "* ⚠️ **Edge Case Concern**: Appending `missing` to `nums` before the second loop is risky. If `nums` is reused later, this could cause side effects.\n",
    "* 📦 **Space Complexity**: Actually `O(n)` because `list(set(nums))`, `range`, and `nums + [...]` create new lists.\n",
    "* ✅ Works correctly due to XOR canceling out equal elements.\n",
    "\n",
    "### ✅ Suggested Refactor (Safer):\n"
   ]
  },
  {
   "cell_type": "code",
   "execution_count": 42,
   "metadata": {},
   "outputs": [],
   "source": [
    "# However this is slower\n",
    "class Solution:\n",
    "    def findErrorNums(self, nums: List[int]) -> List[int]:\n",
    "        n = len(nums)\n",
    "        xored = 0\n",
    "        for num in nums:\n",
    "            xored ^= num\n",
    "        for i in range(1, n + 1):\n",
    "            xored ^= i\n",
    "        \n",
    "        # Now xored = dup ^ missing\n",
    "        # Find which one is which by checking set membership\n",
    "        for num in nums:\n",
    "            if nums.count(num) > 1:\n",
    "                dup = num\n",
    "                break\n",
    "        missing = dup ^ xored\n",
    "        return [dup, missing]"
   ]
  },
  {
   "cell_type": "markdown",
   "metadata": {},
   "source": [
    "* ✅ Avoids mutation of original input.\n",
    "* ✅ Still `O(n)` time.\n",
    "\n",
    "---\n",
    "\n",
    "### 2. ➕ SUM Approach\n",
    "\n",
    "```python\n",
    "missing = (set(range(1, len(nums)+1)) - set(nums)).pop()\n",
    "dup = sum(nums)+missing-sum(range(1, len(nums)+1))\n",
    "```\n",
    "\n",
    "* ✅ Simple and elegant.\n",
    "* ⚠️ Slight inefficiency with double `sum()` calls and multiple `set()` constructions.\n",
    "* ✅ `missing` computation via set difference is clear and intuitive.\n",
    "\n",
    "### ✅ Suggested Refactor:\n"
   ]
  },
  {
   "cell_type": "code",
   "execution_count": 44,
   "metadata": {},
   "outputs": [],
   "source": [
    "class Solution:\n",
    "    def findErrorNums(self, nums: List[int]) -> List[int]:\n",
    "        n = len(nums)\n",
    "        set_nums = set(nums)\n",
    "        expected_sum = n * (n + 1) // 2\n",
    "        missing = expected_sum - sum(set_nums)\n",
    "        actual_sum = sum(nums)\n",
    "        dup = actual_sum + missing - expected_sum\n",
    "        return [dup, missing]\n",
    "# Time: O(n)\n",
    "# Space: O(n)"
   ]
  },
  {
   "cell_type": "markdown",
   "metadata": {},
   "source": [
    "## 📊 Comparison Table\n",
    "\n",
    "| Approach | Time Complexity | Space Complexity | Pros                     | Cons                           |\n",
    "| -------- | --------------- | ---------------- | ------------------------ | ------------------------------ |\n",
    "| XOR      | O(n)            | O(n)             | Clever, bit manipulation | Less readable, mutates input   |\n",
    "| SUM      | O(n)            | O(n)             | Clean and intuitive      | Multiple `sum` and `set` calls |\n",
    "\n",
    "---\n",
    "\n",
    "## ✅ Final Verdict\n",
    "\n",
    "Both solutions are **valid and performant**, but:\n",
    "\n",
    "* Prefer the **SUM approach** for readability and maintainability.\n",
    "* If memory usage is a concern and you're okay with a bit more complexity, **XOR** is fine (with input mutation avoided).\n",
    "\n",
    "Would you like to explore an **O(1) space solution using negative marking** or **counting arrays** as well?"
   ]
  },
  {
   "cell_type": "markdown",
   "metadata": {},
   "source": [
    "Great! Let's explore two **O(1) space** alternatives (excluding output space) that also run in **O(n) time** for the **Leetcode 645: Set Mismatch** problem:\n",
    "\n",
    "---\n",
    "\n",
    "## ✅ Approach 1: **Negative Marking (In-Place Detection)**\n",
    "\n",
    "### 🔧 Idea:\n",
    "\n",
    "* Iterate over each number `x` in `nums`.\n",
    "* For each `x`, mark the element at index `abs(x) - 1` as negative.\n",
    "* If it’s already negative, it means `x` is the **duplicate**.\n",
    "* After the loop, the index of the positive number corresponds to the **missing number**.\n",
    "\n",
    "### 💡 Code:"
   ]
  },
  {
   "cell_type": "code",
   "execution_count": 3,
   "metadata": {},
   "outputs": [],
   "source": [
    "from typing import List\n",
    "\n",
    "class Solution:\n",
    "    def findErrorNums(self, nums: List[int]) -> List[int]:\n",
    "        dup = -1\n",
    "        for x in nums:\n",
    "            if nums[abs(x) - 1] < 0:\n",
    "                dup = abs(x)\n",
    "            else:\n",
    "                nums[abs(x) - 1] *= -1\n",
    "\n",
    "        # Missing number: the index + 1 of the only positive number\n",
    "        for i, val in enumerate(nums):\n",
    "            if val > 0:\n",
    "                return [dup, i + 1]"
   ]
  },
  {
   "cell_type": "markdown",
   "metadata": {},
   "source": [
    "### ✅ Pros:\n",
    "\n",
    "* No extra space (O(1)), just modifies the input.\n",
    "* Efficient: O(n) time.\n",
    "\n",
    "### ⚠️ Cons:\n",
    "\n",
    "* Mutates `nums`, so only safe if you **don’t need to reuse it** later.\n",
    "\n",
    "---\n",
    "\n",
    "## ✅ Approach 2: **Counting Array**\n",
    "\n",
    "### 🔧 Idea:\n",
    "\n",
    "* Use a fixed-size array (since `nums[i] <= 10^4`) to count frequencies.\n",
    "* The number with count 2 is duplicate.\n",
    "* The number with count 0 is missing.\n",
    "\n",
    "### 💡 Code:"
   ]
  },
  {
   "cell_type": "code",
   "execution_count": 4,
   "metadata": {},
   "outputs": [],
   "source": [
    "from typing import List\n",
    "\n",
    "class Solution:\n",
    "    def findErrorNums(self, nums: List[int]) -> List[int]:\n",
    "        counts = [0] * (len(nums) + 1)\n",
    "        for num in nums:\n",
    "            counts[num] += 1\n",
    "\n",
    "        for i in range(1, len(counts)):\n",
    "            if counts[i] == 0:\n",
    "                missing = i\n",
    "            elif counts[i] == 2:\n",
    "                dup = i\n",
    "        return [dup, missing]"
   ]
  },
  {
   "cell_type": "markdown",
   "metadata": {},
   "source": [
    "### ✅ Pros:\n",
    "\n",
    "* Easy to understand.\n",
    "* Still linear in time.\n",
    "\n",
    "### ⚠️ Cons:\n",
    "\n",
    "* Uses O(n) space for the counting array.\n",
    "\n",
    "---\n",
    "\n",
    "## 📊 Final Comparison Table\n",
    "\n",
    "| Approach             | Time | Space | Mutates Input        | Notes                                |\n",
    "| -------------------- | ---- | ----- | -------------------- | ------------------------------------ |\n",
    "| **Negative Marking** | O(n) | O(1)  | ✅ Yes                | Optimal space, but destructive       |\n",
    "| **Counting Array**   | O(n) | O(n)  | ❌ No                 | Simple, but more space               |\n",
    "| **XOR**              | O(n) | O(n)  | ✅ Yes (your version) | Bitwise clever, needs careful design |\n",
    "| **SUM**              | O(n) | O(n)  | ❌ No                 | Clean and intuitive                  |\n",
    "\n",
    "---\n",
    "\n",
    "Would you like me to **add these approaches to your Jupyter notebook** or benchmark them on large inputs?\n"
   ]
  },
  {
   "cell_type": "code",
   "execution_count": 45,
   "metadata": {},
   "outputs": [],
   "source": [
    "# Test\n",
    "assert Solution().findErrorNums([1,2,2,4]) == [2,3]\n",
    "assert Solution().findErrorNums([1,1]) == [1,2]\n",
    "assert Solution().findErrorNums([3,2,4,2]) == [2,1]"
   ]
  }
 ],
 "metadata": {
  "kernelspec": {
   "display_name": "Python 3 (ipykernel)",
   "language": "python",
   "name": "python3"
  },
  "language_info": {
   "codemirror_mode": {
    "name": "ipython",
    "version": 3
   },
   "file_extension": ".py",
   "mimetype": "text/x-python",
   "name": "python",
   "nbconvert_exporter": "python",
   "pygments_lexer": "ipython3",
   "version": "3.10.3"
  }
 },
 "nbformat": 4,
 "nbformat_minor": 4
}
