{
 "cells": [
  {
   "cell_type": "code",
   "execution_count": 47,
   "metadata": {},
   "outputs": [],
   "source": [
    "# LeetCode 125: Valid Palinrome\n",
    "# https://leetcode.com/problems/valid-palindrome/\n",
    "# Time Complexity: O(n)\n",
    "# Space Complexity: O(1)"
   ]
  },
  {
   "cell_type": "markdown",
   "metadata": {},
   "source": [
    "# 125. Valid Palindrome\n",
    "\n",
    "[Link to Problem](https://leetcode.com/problems/valid-palindrome/description/)\n",
    "\n",
    "### Description\n",
    "A phrase is a palindrome if, after converting all uppercase letters into lowercase letters and removing all non-alphanumeric characters,   \n",
    "it reads the same forward and backward. Alphanumeric characters include letters and numbers.\n",
    "\n",
    "Given a string `s`, return `true` if it is a palindrome, or `false` otherwise.\n",
    "\n",
    "---\n",
    "**Example 1:**\n",
    "\n",
    "Input: `s = \"A man, a plan, a canal: Panama\"`\n",
    "\n",
    "Output: `true`\n",
    "\n",
    "Explanation: \"amanaplanacanalpanama\" is a palindrome.\n",
    "\n",
    "**Example 2:**\n",
    "\n",
    "Input: `s = \"race a car\"`\n",
    "\n",
    "Output: `false`\n",
    "\n",
    "Explanation: \"raceacar\" is not a palindrome.\n",
    "\n",
    "**Example 3:**\n",
    "\n",
    "Input: `s = \" \"`\n",
    "\n",
    "Output: `true`\n",
    "\n",
    "Explanation: `s` is an empty string after removing non-alphanumeric characters.\n",
    "\n",
    "---\n",
    "**Constraints:**\n",
    "- `1 <= s.length <= 2 * 10^5`\n",
    "- `s` consists only of printable ASCII characters.\n"
   ]
  },
  {
   "cell_type": "code",
   "execution_count": 13,
   "metadata": {},
   "outputs": [],
   "source": [
    "class Solution:\n",
    "    def isPalindrome(self, s: str) -> bool:\n",
    "        alph = 'abcdefghijklmnopqrstuvwxyz1234567890'\n",
    "        stack = []\n",
    "        s = str.lower(s)\n",
    "        for a in s:\n",
    "            if a in alph:\n",
    "                stack.append(a)\n",
    "            \n",
    "        i = 0\n",
    "        j = len(stack)-1\n",
    "        while i <= j:\n",
    "            if stack[i] != stack[j]:\n",
    "                return False\n",
    "            i += 1\n",
    "            j -= 1\n",
    "        return True\n",
    "# Time: O(n)\n",
    "# Space: O(n)"
   ]
  },
  {
   "cell_type": "code",
   "execution_count": 15,
   "metadata": {},
   "outputs": [],
   "source": [
    "assert Solution().isPalindrome(\"A man, a plan, a canal: Panama\") == True\n",
    "assert Solution().isPalindrome(\"race a car\") == False\n",
    "assert Solution().isPalindrome(\" \") == True\n",
    "assert Solution().isPalindrome(\"\") == True\n",
    "assert Solution().isPalindrome(\"0P\") == False"
   ]
  },
  {
   "cell_type": "markdown",
   "metadata": {},
   "source": [
    "### Summary of your approach:\n",
    "\n",
    "* Manually define a valid alphanumeric string (`alph`)\n",
    "* Lowercase the input string\n",
    "* Filter out non-alphanumeric characters\n",
    "* Use two pointers (`i`, `j`) to compare characters from both ends\n",
    "\n",
    "\n",
    "## ✅ What’s Good\n",
    "\n",
    "* 👍 **Handles all test cases correctly**, including edge cases like empty string or single-character string\n",
    "* 👍 **Correct logic** and clean use of two-pointer technique\n",
    "* 👍 **Linear time and space complexity**: `O(n)` time, `O(n)` space for the cleaned list\n",
    "\n",
    "---\n",
    "\n",
    "## ⚠️ Suggestions for Improvement\n",
    "\n",
    "### 1. ❌ Manual character filtering\n",
    "\n",
    "* You're manually listing valid characters in `alph`, but this is error-prone and less readable.\n",
    "\n",
    "✅ **Better:** Use Python's built-in `str.isalnum()` method.\n",
    "\n",
    "```python\n",
    "if a.isalnum():\n",
    "    stack.append(a)\n",
    "```\n",
    "\n",
    "---\n",
    "\n",
    "### 2. ❌ Inefficient space usage\n",
    "\n",
    "* You're building a full `stack` (which is actually a list, not a stack), which doubles memory use.\n",
    "\n",
    "✅ **Better approach**: Use **two-pointer traversal** directly on the string without creating a new list.\n",
    "\n",
    "\n",
    "---\n",
    "\n",
    "## ✅ Recommended Optimized Version"
   ]
  },
  {
   "cell_type": "code",
   "execution_count": 36,
   "metadata": {},
   "outputs": [],
   "source": [
    "class Solution:\n",
    "    def isPalindrome(self, s: str) -> bool:\n",
    "        left, right = 0, len(s) - 1\n",
    "        while left < right:\n",
    "            while left < right and not s[left].isalnum():\n",
    "                left += 1\n",
    "            while left < right and not s[right].isalnum():\n",
    "                right -= 1\n",
    "            if s[left].lower() != s[right].lower():\n",
    "                return False\n",
    "            left += 1\n",
    "            right -= 1\n",
    "        return True\n",
    "# Time: O(n)\n",
    "# Space: O(1)"
   ]
  },
  {
   "cell_type": "markdown",
   "metadata": {},
   "source": [
    "### ✅ Why this is better:\n",
    "\n",
    "* ✅ True `O(1)` space (no extra list)\n",
    "* ✅ Still `O(n)` time\n",
    "* ✅ Shorter, cleaner, more Pythonic"
   ]
  },
  {
   "cell_type": "markdown",
   "metadata": {},
   "source": [
    "## Bonus (But space: O(n))"
   ]
  },
  {
   "cell_type": "code",
   "execution_count": 45,
   "metadata": {},
   "outputs": [],
   "source": [
    "class Solution:\n",
    "    def isPalindrome(self, s: str) -> bool:\n",
    "        s = ''.join(c.lower() for c in s if c.isalnum())\n",
    "        return s == s[::-1]"
   ]
  },
  {
   "cell_type": "code",
   "execution_count": 43,
   "metadata": {},
   "outputs": [],
   "source": [
    "import re\n",
    "class Solution:\n",
    "    def isPalindrome(self, s: str) -> bool:\n",
    "        s = re.sub('[^a-zA-Z0-9]', '', s).lower()\n",
    "        return s == s[::-1]      "
   ]
  },
  {
   "cell_type": "code",
   "execution_count": 44,
   "metadata": {},
   "outputs": [],
   "source": [
    "assert Solution().isPalindrome(\"A man, a plan, a canal: Panama\") == True\n",
    "assert Solution().isPalindrome(\"race a car\") == False\n",
    "assert Solution().isPalindrome(\" \") == True\n",
    "assert Solution().isPalindrome(\"\") == True\n",
    "assert Solution().isPalindrome(\"0P\") == False"
   ]
  }
 ],
 "metadata": {
  "kernelspec": {
   "display_name": "Python 3 (ipykernel)",
   "language": "python",
   "name": "python3"
  },
  "language_info": {
   "codemirror_mode": {
    "name": "ipython",
    "version": 3
   },
   "file_extension": ".py",
   "mimetype": "text/x-python",
   "name": "python",
   "nbconvert_exporter": "python",
   "pygments_lexer": "ipython3",
   "version": "3.10.3"
  }
 },
 "nbformat": 4,
 "nbformat_minor": 4
}
