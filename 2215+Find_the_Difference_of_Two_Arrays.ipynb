{
 "cells": [
  {
   "cell_type": "markdown",
   "metadata": {},
   "source": [
    "# 2215. Find the Difference of Two Arrays\n",
    "\n",
    "[Link to Problem](https://leetcode.com/problems/find-the-difference-of-two-arrays/)\n",
    "\n",
    "### Description\n",
    "Given two **0-indexed** integer arrays `nums1` and `nums2`, return a list `answer` of size `2` where:\n",
    "\n",
    "- `answer[0]` is a list of all **distinct** integers in `nums1` which are **not present** in `nums2`.\n",
    "- `answer[1]` is a list of all **distinct** integers in `nums2` which are **not present** in `nums1`.\n",
    "\n",
    "Note that the integers in the lists may be returned in **any** order.\n",
    "\n",
    "---\n",
    "**Example 1:**\n",
    "```\n",
    "Input: nums1 = [1,2,3], nums2 = [2,4,6]\n",
    "Output: [[1,3],[4,6]]\n",
    "```\n",
    "\n",
    "**Example 2:**\n",
    "```\n",
    "Input: nums1 = [1,2,3,3], nums2 = [1,1,2,2]\n",
    "Output: [[3],[]]\n",
    "```\n",
    "\n",
    "---\n",
    "**Constraints:**\n",
    "- `1 <= nums1.length, nums2.length <= 1000`\n",
    "- `-1000 <= nums1[i], nums2[i] <= 1000`"
   ]
  },
  {
   "cell_type": "markdown",
   "metadata": {},
   "source": [
    "My intuition: set"
   ]
  },
  {
   "cell_type": "code",
   "execution_count": 3,
   "metadata": {},
   "outputs": [],
   "source": [
    "from typing import List\n",
    "class Solution:\n",
    "    def findDifference(self, nums1: List[int], nums2: List[int]) -> List[List[int]]:\n",
    "        n1 = set(nums1)\n",
    "        n2 = set(nums2)\n",
    "        return [[num for num in n1 if num not in n2], [num for num in n2 if num not in n1]]\n",
    "# Time: O(m+n)\n",
    "# Space: O(m+n)"
   ]
  },
  {
   "cell_type": "code",
   "execution_count": 4,
   "metadata": {},
   "outputs": [],
   "source": [
    "from typing import List\n",
    "class Solution:\n",
    "    def findDifference(self, nums1: List[int], nums2: List[int]) -> List[List[int]]:\n",
    "        n1 = set(nums1)\n",
    "        n2 = set(nums2)\n",
    "        return [list(n1 - n2), list(n2 - n1)]\n",
    "# Time: O(m+n)\n",
    "# Space: O(m+n)"
   ]
  },
  {
   "cell_type": "markdown",
   "metadata": {},
   "source": [
    "Your solution for **LeetCode 2215: Find the Difference of Two Arrays** is **correct**, **efficient**, and cleanly written. Here’s a breakdown and improvement summary for clarity:\n",
    "\n",
    "---\n",
    "\n",
    "### ✅ Best Version (Concise & Optimal)\n",
    "\n",
    "```python\n",
    "from typing import List\n",
    "\n",
    "class Solution:\n",
    "    def findDifference(self, nums1: List[int], nums2: List[int]) -> List[List[int]]:\n",
    "        n1 = set(nums1)\n",
    "        n2 = set(nums2)\n",
    "        return [list(n1 - n2), list(n2 - n1)]\n",
    "```\n",
    "\n",
    "### 🧠 Why This Works\n",
    "\n",
    "* `set(nums1)` removes duplicates from `nums1`\n",
    "* `n1 - n2` gives elements in `nums1` **not in** `nums2`\n",
    "* `n2 - n1` gives elements in `nums2` **not in** `nums1`\n",
    "* Wrapping with `list()` gives the expected output format\n",
    "\n",
    "---\n",
    "\n",
    "### ⏱️ Complexity Analysis\n",
    "\n",
    "| Metric    | Value    |\n",
    "| --------- | -------- |\n",
    "| **Time**  | O(m + n) |\n",
    "| **Space** | O(m + n) |\n",
    "\n",
    "> Where `m = len(nums1)` and `n = len(nums2)`\n",
    "\n",
    "---\n",
    "\n",
    "### ✅ Tests (Pass)\n",
    "\n",
    "```python\n",
    "assert Solution().findDifference([1,2,3], [2,4,6]) == [[1,3], [4,6]]\n",
    "assert Solution().findDifference([1,2,3,3], [1,1,2,2]) == [[3], []]\n",
    "```\n",
    "\n",
    "Note: Since sets are unordered, the **output list order may differ**, e.g. `[3,1]` is also valid for the first list. LeetCode allows any order unless explicitly stated.\n",
    "\n",
    "---\n",
    "\n",
    "### 📌 Final Notes\n",
    "\n",
    "* You can remove the first implementation since the second (`n1 - n2`) is more readable and optimal.\n",
    "\n",
    "Would you like to visualize how the set differences work or get a version that returns the results sorted?\n"
   ]
  },
  {
   "cell_type": "code",
   "execution_count": 5,
   "metadata": {},
   "outputs": [],
   "source": [
    "# Test\n",
    "assert Solution().findDifference([1,2,3], [2,4,6]) == [[1,3], [4,6]]\n",
    "assert Solution().findDifference([1,2,3,3], [1,1,2,2]) == [[3], []]"
   ]
  }
 ],
 "metadata": {
  "kernelspec": {
   "display_name": "Python 3 (ipykernel)",
   "language": "python",
   "name": "python3"
  },
  "language_info": {
   "codemirror_mode": {
    "name": "ipython",
    "version": 3
   },
   "file_extension": ".py",
   "mimetype": "text/x-python",
   "name": "python",
   "nbconvert_exporter": "python",
   "pygments_lexer": "ipython3",
   "version": "3.10.3"
  }
 },
 "nbformat": 4,
 "nbformat_minor": 4
}
