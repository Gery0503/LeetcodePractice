{
 "cells": [
  {
   "cell_type": "markdown",
   "metadata": {},
   "source": [
    "# 520. Detect Capital\n",
    "\n",
    "[Link to Problem](https://leetcode.com/problems/detect-capital/description/)\n",
    "\n",
    "### Description\n",
    "We define the usage of capitals in a word to be correct if one of the following holds:\n",
    "1. All letters in the word are uppercase, like \"USA\".\n",
    "2. All letters in the word are lowercase, like \"leetcode\".\n",
    "3. Only the first letter is uppercase, and the rest are lowercase, like \"Google\".\n",
    "\n",
    "Given a string `word`, return `true` if the usage of capitals in it is correct.\n",
    "\n",
    "---\n",
    "**Example 1:**\n",
    "\n",
    "Input: `word = \"USA\"`\n",
    "Output: `true`\n",
    "\n",
    "**Example 2:**\n",
    "\n",
    "Input: `word = \"FlaG\"`\n",
    "Output: `false`\n",
    "\n",
    "---\n",
    "**Constraints:**\n",
    "- `1 <= word.length <= 100`\n",
    "- `word` consists only of English letters (both uppercase and lowercase).\n"
   ]
  },
  {
   "cell_type": "markdown",
   "metadata": {},
   "source": [
    "## My intuition:\n",
    "- Start from detecting first letter\n",
    "- If first letter is uppercase: Check all the other are uppercase or all the other are lowercase\n",
    "- If first letter is lowercase: only accept the rest are lowercase"
   ]
  },
  {
   "cell_type": "code",
   "execution_count": 6,
   "metadata": {},
   "outputs": [],
   "source": [
    "class Solution:\n",
    "    def detectCapitalUse(self, word: str) -> bool:\n",
    "        if len(word) == 1:\n",
    "            return True\n",
    "            \n",
    "        first = word[0]\n",
    "        if first == first.lower():\n",
    "            for let in word[1:]:\n",
    "                if let != let.lower():\n",
    "                    return False\n",
    "        else:\n",
    "            second = word[1]\n",
    "            upper = True\n",
    "            if second == second.lower():\n",
    "                upper = False\n",
    "\n",
    "            if upper:\n",
    "                for let in word[1:]:\n",
    "                    if let == let.lower():\n",
    "                        return False\n",
    "            else:\n",
    "                for let in word[1:]:\n",
    "                    if let != let.lower():\n",
    "                        return False        \n",
    "        return True\n",
    "# Time: O(n)\n",
    "# Space: O(1)"
   ]
  },
  {
   "cell_type": "markdown",
   "metadata": {},
   "source": [
    "## 1. **Baseline (Explicit Loops — Your Version)**\n",
    "\n",
    "* Step through the string character by character.\n",
    "* Branch on first letter → check rest with loops.\n",
    "* ✅ Shows fundamental problem-solving.\n",
    "* Complexity: **O(n)** time, **O(1)** space.\n",
    "\n",
    "---\n",
    "\n",
    "## 2. **Pythonic String API (Built-in Checks)**\n",
    "\n",
    "* Leverage `str.isupper()`, `str.islower()`, and slicing.\n",
    "* ✅ Shows knowledge of language features.\n",
    "* Complexity: **O(n)** time, **O(1)** space.\n"
   ]
  },
  {
   "cell_type": "code",
   "execution_count": 1,
   "metadata": {},
   "outputs": [],
   "source": [
    "def detectCapitalUse(self, word: str) -> bool:\n",
    "    return (\n",
    "            word.isupper() or\n",
    "            word.islower() or\n",
    "            (word[0].isupper() and word[1:].islower())\n",
    "        )"
   ]
  },
  {
   "cell_type": "markdown",
   "metadata": {},
   "source": [
    "## 3. **Regex Solution (Pattern Matching)**\n",
    "\n",
    "* Detects capitalization rules directly with patterns:\n",
    "\n",
    "  * `^[A-Z]+$` → all uppercase\n",
    "  * `^[a-z]+$` → all lowercase\n",
    "  * `^[A-Z][a-z]+$` → first uppercase, rest lowercase\n",
    "* ✅ Shows ability to express rules declaratively."
   ]
  },
  {
   "cell_type": "code",
   "execution_count": 2,
   "metadata": {},
   "outputs": [],
   "source": [
    "import re\n",
    "\n",
    "def detectCapitalUse(self, word: str) -> bool:\n",
    "    return bool(\n",
    "        re.match(r'^([A-Z]+|[a-z]+|[A-Z][a-z]+)$', word)\n",
    "    )"
   ]
  },
  {
   "cell_type": "markdown",
   "metadata": {},
   "source": [
    "* Complexity: technically **O(n)**, but implementation handled by regex engine.\n",
    "\n",
    "## 5. **Bitmask / Numeric Trick**\n",
    "\n",
    "(For interviews where you want a \"hacky\" low-level solution.)\n",
    "\n",
    "* Represent uppercase vs lowercase letters as `1` and `0`.\n",
    "* Valid patterns are:\n",
    "\n",
    "  * All `1`s\n",
    "  * All `0`s\n",
    "  * Leading `1` followed by all `0`s\n",
    "* ✅ This shows algorithmic creativity, though less readable."
   ]
  },
  {
   "cell_type": "code",
   "execution_count": 3,
   "metadata": {},
   "outputs": [],
   "source": [
    "class Solution:\n",
    "    def detectCapitalUse(self, word: str) -> bool:\n",
    "        # Convert word into bitmask: 1 for uppercase, 0 for lowercase\n",
    "        bits = [1 if c.isupper() else 0 for c in word]\n",
    "        \n",
    "        # Case 1: All uppercase (all 1s)\n",
    "        if all(b == 1 for b in bits):\n",
    "            return True\n",
    "        \n",
    "        # Case 2: All lowercase (all 0s)\n",
    "        if all(b == 0 for b in bits):\n",
    "            return True\n",
    "        \n",
    "        # Case 3: First uppercase, rest lowercase\n",
    "        if bits[0] == 1 and all(b == 0 for b in bits[1:]):\n",
    "            return True\n",
    "        \n",
    "        return False\n"
   ]
  },
  {
   "cell_type": "markdown",
   "metadata": {},
   "source": [
    "\n",
    "---\n",
    "\n",
    "## 🎤 How to Present in an Interview\n",
    "\n",
    "* **Start with explicit loop (your original approach)** → shows core reasoning.\n",
    "* **Then mention Pythonic / Regex** → shows you know library features.\n",
    "* **Then analogy to cycle/state machine** → shows you think in algorithmic paradigms.\n",
    "* Optionally: bitmask trick → shows out-of-the-box thinking.\n",
    "\n",
    "That way, you give the interviewer a **ladder of sophistication**: basic → clean → abstract → creative.\n",
    "\n",
    "---"
   ]
  }
 ],
 "metadata": {
  "kernelspec": {
   "display_name": "Python 3 (ipykernel)",
   "language": "python",
   "name": "python3"
  },
  "language_info": {
   "codemirror_mode": {
    "name": "ipython",
    "version": 3
   },
   "file_extension": ".py",
   "mimetype": "text/x-python",
   "name": "python",
   "nbconvert_exporter": "python",
   "pygments_lexer": "ipython3",
   "version": "3.10.3"
  }
 },
 "nbformat": 4,
 "nbformat_minor": 4
}
