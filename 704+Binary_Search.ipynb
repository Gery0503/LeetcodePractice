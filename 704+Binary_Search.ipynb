{
 "cells": [
  {
   "cell_type": "code",
   "execution_count": null,
   "metadata": {},
   "outputs": [],
   "source": [
    "# LeetCode 704: Binary Search\n",
    "# https://leetcode.com/problems/binary-search\n",
    "# Time Complexity: O(logn)\n",
    "# Space Complexity: O()"
   ]
  },
  {
   "cell_type": "markdown",
   "metadata": {},
   "source": [
    "# 704. Binary Search\n",
    "\n",
    "[Link to Problem](https://leetcode.com/problems/binary-search/description/)\n",
    "\n",
    "### Description\n",
    "Given an array of integers `nums` which is sorted in ascending order, and an integer `target`, write a function to search `target` in `nums`.  \n",
    "If `target` exists, then return its index. Otherwise, return -1.\n",
    "\n",
    "You must write an algorithm with `O(log n)` runtime complexity.\n",
    "\n",
    "---\n",
    "**Example 1:**\n",
    "\n",
    "Input: `nums = [-1,0,3,5,9,12]`, `target = 9`\n",
    "\n",
    "Output: `4`\n",
    "\n",
    "**Example 2:**\n",
    "\n",
    "Input: `nums = [-1,0,3,5,9,12]`, `target = 2`\n",
    "\n",
    "Output: `-1`\n",
    "\n",
    "---\n",
    "**Constraints:**\n",
    "- `1 <= nums.length <= 10^4`\n",
    "- `-10^4 < nums[i], target < 10^4`\n",
    "- All the integers in `nums` are unique.\n",
    "- `nums` is sorted in ascending order.\n"
   ]
  },
  {
   "cell_type": "markdown",
   "metadata": {},
   "source": [
    "My intuition: recursion, base condition: length of nums == 1"
   ]
  },
  {
   "cell_type": "code",
   "execution_count": 1,
   "metadata": {},
   "outputs": [],
   "source": [
    "from typing import List\n",
    "\n",
    "class Solution:\n",
    "    def search(self, nums: List[int], target: int) -> int:\n",
    "\n",
    "        def rec(nums, target, left, right):\n",
    "            if left == right:\n",
    "                if nums[left] == target:\n",
    "                    return left\n",
    "                else:\n",
    "                    return -1\n",
    "\n",
    "            mid = (left + right) // 2\n",
    "            if target == nums[mid]:\n",
    "                return mid\n",
    "            elif target < nums[mid]:\n",
    "                return rec(nums, target, left, mid)\n",
    "            else:\n",
    "                return rec(nums, target, mid + 1, right)\n",
    "\n",
    "        return rec(nums, target, 0, len(nums)-1)\n",
    "\n",
    "# Time: O(logn)\n",
    "# Space: O(logn)? not sure"
   ]
  },
  {
   "cell_type": "code",
   "execution_count": 2,
   "metadata": {},
   "outputs": [],
   "source": [
    "assert Solution().search([-1,0,3,5,9,12], 9) == 4\n",
    "assert Solution().search([-1,0,3,5,9,12], 2) == -1"
   ]
  }
 ],
 "metadata": {
  "kernelspec": {
   "display_name": "Python 3 (ipykernel)",
   "language": "python",
   "name": "python3"
  },
  "language_info": {
   "codemirror_mode": {
    "name": "ipython",
    "version": 3
   },
   "file_extension": ".py",
   "mimetype": "text/x-python",
   "name": "python",
   "nbconvert_exporter": "python",
   "pygments_lexer": "ipython3",
   "version": "3.10.3"
  }
 },
 "nbformat": 4,
 "nbformat_minor": 4
}
