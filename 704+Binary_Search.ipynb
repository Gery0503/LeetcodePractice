{
 "cells": [
  {
   "cell_type": "code",
   "execution_count": null,
   "metadata": {},
   "outputs": [],
   "source": [
    "# LeetCode 704: Binary Search\n",
    "# https://leetcode.com/problems/binary-search\n",
    "# Time Complexity: O(logn)\n",
    "# Space Complexity: O(1)"
   ]
  },
  {
   "cell_type": "markdown",
   "metadata": {},
   "source": [
    "# 704. Binary Search\n",
    "\n",
    "[Link to Problem](https://leetcode.com/problems/binary-search/description/)\n",
    "\n",
    "### Description\n",
    "Given an array of integers `nums` which is sorted in ascending order, and an integer `target`, write a function to search `target` in `nums`.  \n",
    "If `target` exists, then return its index. Otherwise, return -1.\n",
    "\n",
    "You must write an algorithm with `O(log n)` runtime complexity.\n",
    "\n",
    "---\n",
    "**Example 1:**\n",
    "\n",
    "Input: `nums = [-1,0,3,5,9,12]`, `target = 9`\n",
    "\n",
    "Output: `4`\n",
    "\n",
    "**Example 2:**\n",
    "\n",
    "Input: `nums = [-1,0,3,5,9,12]`, `target = 2`\n",
    "\n",
    "Output: `-1`\n",
    "\n",
    "---\n",
    "**Constraints:**\n",
    "- `1 <= nums.length <= 10^4`\n",
    "- `-10^4 < nums[i], target < 10^4`\n",
    "- All the integers in `nums` are unique.\n",
    "- `nums` is sorted in ascending order.\n"
   ]
  },
  {
   "cell_type": "markdown",
   "metadata": {},
   "source": [
    "My intuition: recursion, base case: left == right"
   ]
  },
  {
   "cell_type": "code",
   "execution_count": 1,
   "metadata": {},
   "outputs": [],
   "source": [
    "# My first solution\n",
    "from typing import List\n",
    "\n",
    "class Solution:\n",
    "    def search(self, nums: List[int], target: int) -> int:\n",
    "\n",
    "        def rec(nums, target, left, right):\n",
    "            if left == right:\n",
    "                if nums[left] == target:\n",
    "                    return left\n",
    "                else:\n",
    "                    return -1\n",
    "\n",
    "            mid = (left + right) // 2\n",
    "            if target == nums[mid]:\n",
    "                return mid\n",
    "            elif target < nums[mid]:\n",
    "                return rec(nums, target, left, mid)\n",
    "            else:\n",
    "                return rec(nums, target, mid + 1, right)\n",
    "\n",
    "        return rec(nums, target, 0, len(nums)-1)\n",
    "\n",
    "# Time: O(logn)\n",
    "# Space: O(logn)"
   ]
  },
  {
   "cell_type": "code",
   "execution_count": 3,
   "metadata": {},
   "outputs": [],
   "source": [
    "assert Solution().search([-1,0,3,5,9,12], 9) == 4\n",
    "assert Solution().search([-1,0,3,5,9,12], 2) == -1"
   ]
  },
  {
   "cell_type": "markdown",
   "metadata": {},
   "source": [
    "## ✍️ Style & Maintainability\n",
    "\n",
    "### ✅ Pros:\n",
    "\n",
    "* Uses helper function to isolate recursion\n",
    "* Clear naming: `left`, `right`, `mid`\n",
    "* Type annotations included\n",
    "\n",
    "### ⚠️ Suggestions:\n",
    "\n",
    "1. **Improve Base Case Condition**:  \n",
    "   Current:\n",
    "\n",
    "   ```python\n",
    "   if left == right:\n",
    "   ```\n",
    "\n",
    "   Better:  \n",
    "\n",
    "   ```python\n",
    "   if left > right:\n",
    "       return -1\n",
    "   ```\n",
    "\n",
    "   Because when `left > right`, the search space is invalid — and this also simplifies the recursive case, so you don’t need to worry about `mid == left`.\n",
    "\n",
    "2. **Avoid Shadowing**:\n",
    "   The function `rec()` takes `nums` and `target` as parameters, but those are already in the outer scope — you don’t need to re-pass them.\n",
    "\n",
    "---\n",
    "\n",
    "## 🆚 Optional: Iterative Version\n",
    "\n",
    "For completeness or interview readiness, it's good to know the iterative approach, which avoids the recursive stack\n"
   ]
  },
  {
   "cell_type": "code",
   "execution_count": 7,
   "metadata": {},
   "outputs": [],
   "source": [
    "# refactor one\n",
    "def search(self, nums: List[int], target: int) -> int:\n",
    "   def rec(left, right):\n",
    "       if left > right:\n",
    "           return -1\n",
    "       mid = (left + right) // 2\n",
    "       if nums[mid] == target:\n",
    "           return mid\n",
    "       elif target < nums[mid]:\n",
    "           return rec(left, mid - 1)\n",
    "       else:\n",
    "           return rec(mid + 1, right)\n",
    "   return rec(0, len(nums) - 1)"
   ]
  },
  {
   "cell_type": "code",
   "execution_count": 9,
   "metadata": {},
   "outputs": [],
   "source": [
    "# Iteration approach\n",
    "def search(self, nums: List[int], target: int) -> int:\n",
    "    left, right = 0, len(nums) - 1\n",
    "    while left <= right:\n",
    "        mid = (left + right) // 2\n",
    "        if nums[mid] == target:\n",
    "            return mid\n",
    "        elif target < nums[mid]:\n",
    "            right = mid - 1\n",
    "        else:\n",
    "            left = mid + 1\n",
    "    return -1\n",
    "# Same time complexity: O(log n)\n",
    "# Better space complexity: O(1)"
   ]
  }
 ],
 "metadata": {
  "kernelspec": {
   "display_name": "Python 3 (ipykernel)",
   "language": "python",
   "name": "python3"
  },
  "language_info": {
   "codemirror_mode": {
    "name": "ipython",
    "version": 3
   },
   "file_extension": ".py",
   "mimetype": "text/x-python",
   "name": "python",
   "nbconvert_exporter": "python",
   "pygments_lexer": "ipython3",
   "version": "3.10.3"
  }
 },
 "nbformat": 4,
 "nbformat_minor": 4
}
