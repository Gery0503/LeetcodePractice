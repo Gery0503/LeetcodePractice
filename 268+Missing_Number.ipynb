{
 "cells": [
  {
   "cell_type": "code",
   "execution_count": 20,
   "metadata": {},
   "outputs": [],
   "source": [
    "# LeetCode 268: Missing Number\n",
    "# https://leetcode.com/problems/missing-number/\n",
    "# Time Complexity: O(n)\n",
    "# Space Complexity: O(1)"
   ]
  },
  {
   "cell_type": "markdown",
   "metadata": {},
   "source": [
    "# 268. Missing Number\n",
    "\n",
    "[Link to Problem](https://leetcode.com/problems/missing-number/description/)\n",
    "\n",
    "### Description\n",
    "Given an array `nums` containing `n` distinct numbers in the range `[0, n]`, return *the only number in the range that is missing from the array*.\n",
    "\n",
    "---\n",
    "**Example 1:**\n",
    "\n",
    "Input: `nums = [3,0,1]`\n",
    "Output: `2`\n",
    "\n",
    "**Example 2:**\n",
    "\n",
    "Input: `nums = [0,1]`\n",
    "Output: `2`\n",
    "\n",
    "**Example 3:**\n",
    "\n",
    "Input: `nums = [9,6,4,2,3,5,7,0,1]`\n",
    "Output: `8`\n",
    "\n",
    "---\n",
    "**Constraints:**\n",
    "- `n == nums.length`\n",
    "- `1 <= n <= 10^4`\n",
    "- `0 <= nums[i] <= n`\n",
    "- All the numbers of `nums` are unique.\n",
    "\n",
    "**Follow up:** Can you implement a solution using only `O(1)` extra space and `O(n)` runtime?"
   ]
  },
  {
   "cell_type": "code",
   "execution_count": 1,
   "metadata": {},
   "outputs": [],
   "source": [
    "from typing import List"
   ]
  },
  {
   "cell_type": "code",
   "execution_count": 8,
   "metadata": {},
   "outputs": [],
   "source": [
    "# Use built-in SUM function\n",
    "class Solution:\n",
    "    def missingNumber(self, nums: List[int]) -> int:\n",
    "        return sum(range(len(nums)+1)) - sum(nums)\n",
    "# Time: O(n)\n",
    "# Space: O(1)"
   ]
  },
  {
   "cell_type": "code",
   "execution_count": 18,
   "metadata": {},
   "outputs": [],
   "source": [
    "# Use set symmetric difference\n",
    "class Solution:\n",
    "    def missingNumber(self, nums: List[int]) -> int:\n",
    "        return (set(range(len(nums)+1)) ^ set(nums)).pop()\n",
    "# Time: O(n)\n",
    "# Space: O(n) due to set construction"
   ]
  },
  {
   "cell_type": "code",
   "execution_count": 13,
   "metadata": {},
   "outputs": [],
   "source": [
    "# Use set to find\n",
    "class Solution:\n",
    "    def missingNumber(self, nums: List[int]) -> int:\n",
    "        s = set(nums)\n",
    "        for n in range(len(nums)+1):\n",
    "            if n not in s:\n",
    "                return n\n",
    "# Time: O(n)\n",
    "# Space: O(n)"
   ]
  },
  {
   "cell_type": "code",
   "execution_count": 2,
   "metadata": {},
   "outputs": [],
   "source": [
    "# Use XOR\n",
    "class Solution:\n",
    "    def missingNumber(self, nums: List[int]) -> int:\n",
    "        result = 0\n",
    "        for i in nums:\n",
    "            result ^= i\n",
    "        for i in range(len(nums)+1):\n",
    "            result ^= i\n",
    "        return result\n",
    "# Time: O(n)\n",
    "# Space: O(1)"
   ]
  },
  {
   "cell_type": "code",
   "execution_count": 16,
   "metadata": {},
   "outputs": [],
   "source": [
    "# XOR best version\n",
    "class Solution:\n",
    "    def missingNumber(self, nums: List[int]) -> int:\n",
    "        missing = len(nums)\n",
    "        for i, num in enumerate(nums):\n",
    "            missing ^= i ^ num\n",
    "        return missing\n",
    "# Time: O(n)\n",
    "# Space: O(1)"
   ]
  },
  {
   "cell_type": "code",
   "execution_count": 19,
   "metadata": {},
   "outputs": [],
   "source": [
    "assert Solution().missingNumber([3,0,1]) == 2\n",
    "assert Solution().missingNumber([0,1]) == 2\n",
    "assert Solution().missingNumber([9,6,4,2,3,5,7,0,1]) == 8"
   ]
  }
 ],
 "metadata": {
  "kernelspec": {
   "display_name": "Python 3 (ipykernel)",
   "language": "python",
   "name": "python3"
  },
  "language_info": {
   "codemirror_mode": {
    "name": "ipython",
    "version": 3
   },
   "file_extension": ".py",
   "mimetype": "text/x-python",
   "name": "python",
   "nbconvert_exporter": "python",
   "pygments_lexer": "ipython3",
   "version": "3.10.3"
  }
 },
 "nbformat": 4,
 "nbformat_minor": 4
}
