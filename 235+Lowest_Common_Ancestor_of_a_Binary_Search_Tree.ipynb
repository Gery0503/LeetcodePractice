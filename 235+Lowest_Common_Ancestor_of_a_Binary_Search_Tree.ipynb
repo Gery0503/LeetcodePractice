{
 "cells": [
  {
   "cell_type": "code",
   "execution_count": 15,
   "metadata": {},
   "outputs": [],
   "source": [
    "# LeetCode 235: Lowest Common Ancestor of a Binary Search Tree\n",
    "# https://leetcode.com/problems/lowest-common-ancestor-of-a-binary-search-tree/\n",
    "# Time Complexity: O(h)\n",
    "# Space Complexity: O(1)"
   ]
  },
  {
   "cell_type": "markdown",
   "metadata": {},
   "source": [
    "# 235. Lowest Common Ancestor of a Binary Search Tree\n",
    "\n",
    "[Link to Problem](https://leetcode.com/problems/lowest-common-ancestor-of-a-binary-search-tree/description/)\n",
    "\n",
    "### Description\n",
    "Given a binary search tree (BST), find the lowest common ancestor (LCA) of two given nodes in the BST.\n",
    "\n",
    "According to the definition of LCA on Wikipedia: “The lowest common ancestor is defined between two nodes `p` and `q` as the lowest node in `T` that has both `p` and `q` as descendants (where we allow **a node to be a descendant of itself**).”\n",
    "\n",
    "---\n",
    "**Example 1:**\n",
    "\n",
    "Input: `root = [6,2,8,0,4,7,9,null,null,3,5]`, `p = 2`, `q = 8`\n",
    "Output: `6`\n",
    "Explanation: The LCA of nodes 2 and 8 is 6.\n",
    "\n",
    "**Example 2:**\n",
    "\n",
    "Input: `root = [6,2,8,0,4,7,9,null,null,3,5]`, `p = 2`, `q = 4`\n",
    "Output: `2`\n",
    "Explanation: The LCA of nodes 2 and 4 is 2, since a node can be a descendant of itself.\n",
    "\n",
    "**Example 3:**\n",
    "\n",
    "Input: `root = [2,1]`, `p = 2`, `q = 1`\n",
    "Output: `2`\n",
    "\n",
    "---\n",
    "**Constraints:**\n",
    "- The number of nodes in the tree is in the range `[2, 10^5]`.\n",
    "- `-10^9 <= Node.val <= 10^9`\n",
    "- All `Node.val` are **unique**.\n",
    "- `p != q`\n",
    "- `p` and `q` will exist in the BST."
   ]
  },
  {
   "cell_type": "markdown",
   "metadata": {},
   "source": [
    "My intuition: 1. two pointer method might help 2. return True from target nodes. if both node.left and node.right is True: then get result"
   ]
  },
  {
   "cell_type": "code",
   "execution_count": 1,
   "metadata": {},
   "outputs": [],
   "source": [
    "from typing import List"
   ]
  },
  {
   "cell_type": "code",
   "execution_count": 13,
   "metadata": {},
   "outputs": [],
   "source": [
    "# Definition for a binary tree node.\n",
    "class TreeNode:\n",
    "    def __init__(self, val=0, left=None, right=None):\n",
    "        self.val = val\n",
    "        self.left = left\n",
    "        self.right = right\n",
    "\n",
    "class Solution:\n",
    "    def lowestCommonAncestor(self, root: TreeNode, p: TreeNode, q: TreeNode) -> TreeNode:\n",
    "        def dfs(node: TreeNode):\n",
    "            if not node:\n",
    "                return None\n",
    "            if node.val == p.val or node.val == q.val:\n",
    "                return node\n",
    "            \n",
    "            left = dfs(node.left)\n",
    "            right = dfs(node.right)\n",
    "            if left and right:\n",
    "                return node\n",
    "            if left:\n",
    "                return left\n",
    "            if right:\n",
    "                return right\n",
    "            return None\n",
    "                \n",
    "        max_val = max(p.val, q.val)\n",
    "        min_val = min(p.val, q.val)\n",
    "        while not (min_val <= root.val <= max_val):\n",
    "            if root.val > max_val:\n",
    "                root = root.left\n",
    "            if root.val < min_val:\n",
    "                root = root.right\n",
    "                \n",
    "        return dfs(root)\n",
    "# Time: O(n)\n",
    "# Space: O(h)"
   ]
  },
  {
   "cell_type": "markdown",
   "metadata": {},
   "source": [
    "## ✅ Overview\n",
    "\n",
    "Your implementation combines:\n",
    "\n",
    "1. A **binary search** style iteration to narrow down the subtree where both nodes exist.\n",
    "2. A **recursive DFS** to find the LCA once within the narrowed range.\n",
    "\n",
    "This works and passes all tests — but it's over-engineered for a BST, where the LCA can be found directly using value comparisons.\n",
    "\n",
    "---\n",
    "\n",
    "## 🔍 Code Review\n",
    "\n",
    "### ✅ Code Quality & Readability"
   ]
  },
  {
   "cell_type": "markdown",
   "metadata": {},
   "source": [
    "### 👍 Strengths:\n",
    "\n",
    "* Modular and logically segmented (binary search + DFS).\n",
    "* Handles edge cases gracefully.\n",
    "* Correct and passes tests.\n",
    "\n",
    "### 🔧 Suggestions for Improvement:\n",
    "\n",
    "#### 1. ❗ Avoid Unnecessary DFS\n",
    "\n",
    "Since it’s a **BST**, the LCA can be directly found by:\n",
    "\n",
    "* Traversing down from the root.\n",
    "* If both `p` and `q` are smaller → go left.\n",
    "* If both are greater → go right.\n",
    "* Else → current node is the LCA.\n",
    "\n",
    "➡️ **Cleaner and faster**. No need to reconstruct or traverse a subtree.\n",
    "\n",
    "#### 2. ❌ Don't compare node values only — compare **node identities** if guaranteed from tree structure.\n",
    "\n",
    "#### 3. ❗ Logical flaw potential: If you're passing **new instances of `p` and `q`**, you lose identity tracking in the tree. Best to assume `p` and `q` are actual nodes from the tree.\n",
    "\n",
    "---\n",
    "\n",
    "## ✅ Simplified Solution Using BST Property\n"
   ]
  },
  {
   "cell_type": "code",
   "execution_count": 14,
   "metadata": {},
   "outputs": [],
   "source": [
    "class Solution:\n",
    "    def lowestCommonAncestor(self, root: TreeNode, p: TreeNode, q: TreeNode) -> TreeNode:\n",
    "        while root:\n",
    "            if p.val < root.val and q.val < root.val:\n",
    "                root = root.left\n",
    "            elif p.val > root.val and q.val > root.val:\n",
    "                root = root.right\n",
    "            else:\n",
    "                return root"
   ]
  },
  {
   "cell_type": "markdown",
   "metadata": {},
   "source": [
    "### ✅ Time and Space Complexity\n",
    "\n",
    "| Metric | Original (DFS+while) | Simplified (BST traversal) |\n",
    "| ------ | -------------------- | -------------------------- |\n",
    "| Time   | O(h)                 | O(h)                       |\n",
    "| Space  | O(h) (call stack)    | O(1) (iterative)           |\n",
    "\n",
    "Where `h` is the height of the tree."
   ]
  },
  {
   "cell_type": "code",
   "execution_count": 10,
   "metadata": {},
   "outputs": [],
   "source": [
    "node = Solution().lowestCommonAncestor(\n",
    "    TreeNode(2, TreeNode(1), None),\n",
    "    TreeNode(2, TreeNode(1), None),\n",
    "    TreeNode(1),\n",
    ")\n",
    "assert node.val == 2\n",
    "assert node.left.val == 1\n",
    "assert node.right == None"
   ]
  },
  {
   "cell_type": "code",
   "execution_count": 11,
   "metadata": {},
   "outputs": [],
   "source": [
    "node = Solution().lowestCommonAncestor(\n",
    "    TreeNode(6, TreeNode(2, TreeNode(0, None, None), TreeNode(4, TreeNode(3, None, None), TreeNode(5, None, None))), TreeNode(8, TreeNode(7, None, None), TreeNode(9, None, None))),\n",
    "    TreeNode(2, TreeNode(0, None, None), TreeNode(4, TreeNode(3, None, None), TreeNode(5, None, None))),\n",
    "    TreeNode(8, TreeNode(7, None, None), TreeNode(9, None, None))\n",
    ")\n",
    "assert node.val == 6\n",
    "assert node.left.val == 2\n",
    "assert node.right.val == 8"
   ]
  },
  {
   "cell_type": "code",
   "execution_count": 12,
   "metadata": {},
   "outputs": [],
   "source": [
    "node = Solution().lowestCommonAncestor(\n",
    "    TreeNode(6, TreeNode(2, TreeNode(0, None, None), TreeNode(4, TreeNode(3, None, None), TreeNode(5, None, None))), TreeNode(8, TreeNode(7, None, None), TreeNode(9, None, None))),\n",
    "    TreeNode(2, TreeNode(0, None, None), TreeNode(4, TreeNode(3, None, None), TreeNode(5, None, None))),\n",
    "    TreeNode(4, TreeNode(3, None, None), TreeNode(5, None, None))\n",
    ")\n",
    "assert node.val == 2\n",
    "assert node.left.val == 0\n",
    "assert node.right.val == 4"
   ]
  }
 ],
 "metadata": {
  "kernelspec": {
   "display_name": "Python 3 (ipykernel)",
   "language": "python",
   "name": "python3"
  },
  "language_info": {
   "codemirror_mode": {
    "name": "ipython",
    "version": 3
   },
   "file_extension": ".py",
   "mimetype": "text/x-python",
   "name": "python",
   "nbconvert_exporter": "python",
   "pygments_lexer": "ipython3",
   "version": "3.10.3"
  }
 },
 "nbformat": 4,
 "nbformat_minor": 4
}
