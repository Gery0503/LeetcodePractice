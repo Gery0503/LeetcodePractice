{
 "cells": [
  {
   "cell_type": "markdown",
   "id": "0ae4d4da-1184-4ca8-b7b2-d0f4eb5a94e0",
   "metadata": {},
   "source": [
    "# 1. Two Sum\n",
    "\n",
    "## Description\n",
    "\n",
    "Given an array of integers `nums` and an integer `target`, return indices of the two numbers such that they add up to `target`.\n",
    "\n",
    "You may assume that each input would have exactly one solution, and you may not use the same element twice.\n",
    "\n",
    "You can return the answer in any order.\n",
    "\n",
    "## Example 1\n",
    "\n",
    "**Input:** nums = [2,7,11,15], target = 9  \n",
    "**Output:** [0,1]  \n",
    "**Explanation:** Because nums[0] + nums[1] == 9, we return [0, 1].\n",
    "\n",
    "## Example 2\n",
    "\n",
    "**Input:** nums = [3,2,4], target = 6  \n",
    "**Output:** [1,2]\n",
    "\n",
    "## Example 3\n",
    "\n",
    "**Input:** nums = [3,3], target = 6  \n",
    "**Output:** [0,1]\n",
    "\n",
    "## Constraints\n",
    "\n",
    "- 2 <= nums.length <= 10⁴  \n",
    "- -10⁹ <= nums[i] <= 10⁹  \n",
    "- -10⁹ <= target <= 10⁹  \n",
    "- Only one valid answer exists.\n",
    "\n",
    "---\n",
    "\n",
    "[🔗 View on LeetCode](https://leetcode.com/problems/two-sum/description/)"
   ]
  },
  {
   "cell_type": "markdown",
   "id": "208a282b-d40f-45dd-913e-ff5af6a2957c",
   "metadata": {},
   "source": [
    "# My solution (2025/6/3)"
   ]
  },
  {
   "cell_type": "code",
   "execution_count": 21,
   "id": "8af08ec5-015c-43aa-8113-2084cfc3a220",
   "metadata": {},
   "outputs": [],
   "source": [
    "def twoSum(nums, target):\n",
    "    \n",
    "    seen = {}\n",
    "\n",
    "    for idx, num in enumerate(nums):\n",
    "        num2 = target - num\n",
    "        if num2 in seen:\n",
    "            return [seen[num2], idx]\n",
    "        else:\n",
    "            seen[num] = idx\n",
    "    return [None, None]\n",
    "\n",
    "# Time: O(n)\n",
    "# Space: O(n)"
   ]
  },
  {
   "cell_type": "code",
   "execution_count": 24,
   "id": "d7420870-b8ab-48a7-afb1-0e876b4f447a",
   "metadata": {},
   "outputs": [
    {
     "data": {
      "text/plain": [
       "[0, 1]"
      ]
     },
     "execution_count": 24,
     "metadata": {},
     "output_type": "execute_result"
    }
   ],
   "source": [
    "# test\n",
    "nums = [2,7,11,15]\n",
    "target = 9\n",
    "twoSum(nums, target)\n",
    "# Output: [0,1]"
   ]
  },
  {
   "cell_type": "code",
   "execution_count": 23,
   "id": "7e9dbe7f-03f1-4df9-beb1-47df8c6cf3ad",
   "metadata": {},
   "outputs": [
    {
     "data": {
      "text/plain": [
       "[1, 2]"
      ]
     },
     "execution_count": 23,
     "metadata": {},
     "output_type": "execute_result"
    }
   ],
   "source": [
    "# test\n",
    "nums = [3,2,4]\n",
    "target = 6\n",
    "twoSum(nums, target)\n",
    "# Output: [1,2]"
   ]
  }
 ],
 "metadata": {
  "kernelspec": {
   "display_name": "Python 3 (ipykernel)",
   "language": "python",
   "name": "python3"
  },
  "language_info": {
   "codemirror_mode": {
    "name": "ipython",
    "version": 3
   },
   "file_extension": ".py",
   "mimetype": "text/x-python",
   "name": "python",
   "nbconvert_exporter": "python",
   "pygments_lexer": "ipython3",
   "version": "3.10.3"
  }
 },
 "nbformat": 4,
 "nbformat_minor": 5
}
