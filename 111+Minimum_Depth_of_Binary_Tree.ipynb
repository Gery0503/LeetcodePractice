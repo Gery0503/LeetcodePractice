{
 "cells": [
  {
   "cell_type": "code",
   "execution_count": 10,
   "metadata": {},
   "outputs": [],
   "source": [
    "# LeetCode 111. Minimum Depth of Binary Tree\n",
    "# Time Complexity: O(n)\n",
    "# Space Complexity: O(w)"
   ]
  },
  {
   "cell_type": "markdown",
   "metadata": {},
   "source": [
    "# 111. Minimum Depth of Binary Tree\n",
    "\n",
    "[Link to Problem](https://leetcode.com/problems/minimum-depth-of-binary-tree/description/)\n",
    "\n",
    "### Description\n",
    "Given a binary tree, find its **minimum depth**.\n",
    "\n",
    "The **minimum depth** is the number of nodes along the shortest path from the root node down to the nearest **leaf** node.\n",
    "\n",
    "A **leaf** is a node with no children.\n",
    "\n",
    "---\n",
    "**Example 1:**\n",
    "\n",
    "Input: `root = [3,9,20,null,null,15,7]`\n",
    "Output: `2`\n",
    "\n",
    "**Example 2:**\n",
    "\n",
    "Input: `root = [2,null,3,null,4,null,5,null,6]`\n",
    "Output: `5`\n",
    "\n",
    "---\n",
    "**Constraints:**\n",
    "- The number of nodes in the tree is in the range `[0, 10^5]`\n",
    "- `-1000 <= Node.val <= 1000`"
   ]
  },
  {
   "cell_type": "markdown",
   "metadata": {},
   "source": [
    "My intuition: Obviously BFS"
   ]
  },
  {
   "cell_type": "code",
   "execution_count": 3,
   "metadata": {},
   "outputs": [],
   "source": [
    "# Definition for a binary tree node.\n",
    "class TreeNode:\n",
    "    def __init__(self, val=0, left=None, right=None):\n",
    "        self.val = val\n",
    "        self.left = left\n",
    "        self.right = right\n",
    "\n",
    "from collections import deque\n",
    "class Solution:\n",
    "    def minDepth(self, root: TreeNode) -> int:\n",
    "        if not root:\n",
    "            return 0\n",
    "        queue = deque([root])\n",
    "        depth = 0\n",
    "        while queue:\n",
    "            depth += 1\n",
    "            for _ in range(len(queue)):\n",
    "                node = queue.popleft()\n",
    "                if not node:\n",
    "                    continue\n",
    "                if not node.left and not node.right:\n",
    "                    return depth\n",
    "                queue.append(node.left)\n",
    "                queue.append(node.right)\n",
    "        return depth\n",
    "# Time: O(n)\n",
    "# Space: O(w)"
   ]
  },
  {
   "cell_type": "markdown",
   "metadata": {},
   "source": [
    "## ✅ Summary\n",
    "\n",
    "You're using **BFS**, which is the optimal strategy for this problem. The code correctly returns the depth of the first encountered **leaf node**, which guarantees the minimum depth. Your implementation is correct, readable, and efficient.\n",
    "\n",
    "---\n",
    "\n",
    "## ✅ Strengths\n",
    "\n",
    "| Aspect               | Comments                                                                                                     |\n",
    "| -------------------- | ------------------------------------------------------------------------------------------------------------ |\n",
    "| **Correctness**      | ✔ Correctly handles both balanced and skewed trees.                                                          |\n",
    "| **Efficiency**       | ✔ BFS ensures early exit upon finding the first leaf (best case O(1), worst case O(n)).                      |\n",
    "| **Readability**      | ✔ Simple and clean logic with proper variable naming.                                                        |\n",
    "| **Space Complexity** | ✔ Uses a queue efficiently, bounded by the maximum number of nodes at any level (`O(w)`, width of the tree). |\n",
    "| **Test Coverage**    | ✔ Includes edge test cases like skewed trees and multi-level branching.                                      |\n",
    "\n",
    "---\n",
    "\n",
    "## 🔧 Suggestions for Improvement\n",
    "\n",
    "### 1. **Avoid queuing `None`**\n",
    "\n",
    "You're currently queuing both `node.left` and `node.right` even if they are `None`, then checking `if not node:`. This is unnecessary and slightly wasteful.\n",
    "\n",
    "#### 🔄 Recommended Fix:\n",
    "\n",
    "```python\n",
    "if node.left:\n",
    "    queue.append(node.left)\n",
    "if node.right:\n",
    "    queue.append(node.right)\n",
    "```\n",
    "\n",
    "### 2. **Depth increment placement**\n",
    "\n",
    "You increment `depth` at the beginning of the while-loop, which is fine but slightly unconventional. It's more common to increment it **after** processing a full level.\n",
    "\n",
    "This is stylistic but can improve clarity.\n",
    "\n",
    "\n",
    "## 🔍 Edge Case to Consider\n",
    "\n",
    "* What if the input is just a root node? Your current implementation already handles it correctly, but worth documenting in test cases.\n",
    "\n",
    "```python\n",
    "assert Solution().minDepth(TreeNode(1)) == 1\n",
    "assert Solution().minDepth(None) == 0\n",
    "```\n",
    "\n",
    "---\n",
    "\n",
    "## 🔢 Complexity Analysis\n",
    "\n",
    "| Metric | Value                                         |\n",
    "| ------ | --------------------------------------------- |\n",
    "| Time   | `O(n)` in worst case (e.g., skewed tree)      |\n",
    "| Space  | `O(w)` where `w` is the max width of the tree |\n",
    "\n",
    "---\n",
    "\n",
    "## ✅ Final Code After Suggested Tweaks"
   ]
  },
  {
   "cell_type": "code",
   "execution_count": 8,
   "metadata": {},
   "outputs": [],
   "source": [
    "class Solution:\n",
    "    def minDepth(self, root: TreeNode) -> int:\n",
    "        if not root:\n",
    "            return 0\n",
    "        queue = deque([root])\n",
    "        depth = 1\n",
    "        while queue:\n",
    "            for _ in range(len(queue)):\n",
    "                node = queue.popleft()\n",
    "                if not node.left and not node.right:\n",
    "                    return depth\n",
    "                if node.left:\n",
    "                    queue.append(node.left)\n",
    "                if node.right:\n",
    "                    queue.append(node.right)\n",
    "            depth += 1\n",
    "        return depth\n",
    "# Time: O(n)\n",
    "# Space: O(w)"
   ]
  },
  {
   "cell_type": "markdown",
   "metadata": {},
   "source": [
    "### Other approach (Python)"
   ]
  },
  {
   "cell_type": "code",
   "execution_count": 9,
   "metadata": {},
   "outputs": [],
   "source": [
    "# Short but slower\n",
    "class Solution:\n",
    "    def minDepth(self, root):\n",
    "        if not root: return 0\n",
    "        d, D = sorted(map(self.minDepth, (root.left, root.right)))\n",
    "        return 1 + (d or D)\n",
    "# Time: O(n)\n",
    "# Space: O(h)"
   ]
  },
  {
   "cell_type": "code",
   "execution_count": 5,
   "metadata": {},
   "outputs": [],
   "source": [
    "# Test\n",
    "assert Solution().minDepth(\n",
    "    TreeNode(3, TreeNode(9, None, None), TreeNode(20, TreeNode(15, None, None), TreeNode(7, None, None)))\n",
    ") == 2\n",
    "assert Solution().minDepth(\n",
    "    TreeNode(2, None, TreeNode(3, None, TreeNode(4, None, TreeNode(5, None, TreeNode(6, None, None)))))\n",
    ") == 5"
   ]
  }
 ],
 "metadata": {
  "kernelspec": {
   "display_name": "Python 3 (ipykernel)",
   "language": "python",
   "name": "python3"
  },
  "language_info": {
   "codemirror_mode": {
    "name": "ipython",
    "version": 3
   },
   "file_extension": ".py",
   "mimetype": "text/x-python",
   "name": "python",
   "nbconvert_exporter": "python",
   "pygments_lexer": "ipython3",
   "version": "3.10.3"
  }
 },
 "nbformat": 4,
 "nbformat_minor": 4
}
