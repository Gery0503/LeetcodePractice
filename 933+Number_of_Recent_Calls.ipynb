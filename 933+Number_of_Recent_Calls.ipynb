{
 "cells": [
  {
   "cell_type": "markdown",
   "metadata": {},
   "source": [
    "# 933. Number of Recent Calls\n",
    "\n",
    "[Link to Problem](https://leetcode.com/problems/number-of-recent-calls/)\n",
    "\n",
    "### Description\n",
    "You have a RecentCounter class that counts the number of recent requests within a certain time frame.\n",
    "\n",
    "Implement the `RecentCounter` class:\n",
    "- `RecentCounter()` Initializes the counter with zero recent requests.\n",
    "- `int ping(int t)` Adds a new request at time `t`, where `t` represents some time in milliseconds, and returns the number of requests that have happened in the past 3000 milliseconds (including the new request). Specifically, return the number of requests that have happened in the inclusive range `[t - 3000, t]`.\n",
    "\n",
    "It is guaranteed that every call to `ping` uses a strictly larger value of `t` than the previous call.\n",
    "\n",
    "---\n",
    "**Example 1:**\n",
    "\n",
    "Input: \n",
    "```\n",
    "[\"RecentCounter\", \"ping\", \"ping\", \"ping\", \"ping\"]\n",
    "[[], [1], [100], [3001], [3002]]\n",
    "```\n",
    "Output: \n",
    "```\n",
    "[null, 1, 2, 3, 3]\n",
    "```\n",
    "\n",
    "---\n",
    "**Constraints:**\n",
    "- `1 <= t <= 10^9`\n",
    "- Each test case will call `ping` with strictly increasing values of `t`.\n",
    "- At most `10^4` calls will be made to `ping`."
   ]
  },
  {
   "cell_type": "code",
   "execution_count": 4,
   "metadata": {},
   "outputs": [],
   "source": [
    "class RecentCounter:\n",
    "\n",
    "    def __init__(self):\n",
    "        self.deadline = []\n",
    "        self.valid_calls = 0\n",
    "        self.start_idx = 0\n",
    "\n",
    "    def ping(self, t: int) -> int:\n",
    "        self.valid_calls += 1\n",
    "        self.deadline.append(t+3000)\n",
    "        for i in range(self.start_idx, len(self.deadline)):\n",
    "            if t <= self.deadline[i]:\n",
    "                self.start_idx = i\n",
    "                return self.valid_calls\n",
    "            self.valid_calls -= 1"
   ]
  },
  {
   "cell_type": "markdown",
   "metadata": {},
   "source": [
    "Your implementation of `RecentCounter` works, but it can be simplified and optimized using a `deque`. Here's an improved version and a comparison table with your current method:\n",
    "\n",
    "---\n",
    "\n",
    "### ✅ Optimized Solution (Using `collections.deque`)"
   ]
  },
  {
   "cell_type": "code",
   "execution_count": 5,
   "metadata": {},
   "outputs": [],
   "source": [
    "from collections import deque\n",
    "\n",
    "class RecentCounter:\n",
    "    def __init__(self):\n",
    "        self.q = deque()\n",
    "\n",
    "    def ping(self, t: int) -> int:\n",
    "        self.q.append(t)\n",
    "        while self.q[0] < t - 3000:\n",
    "            self.q.popleft()\n",
    "        return len(self.q)\n",
    "# Amortized O(1) per ping() via deque"
   ]
  },
  {
   "cell_type": "markdown",
   "metadata": {},
   "source": [
    "### 📊 Comparison Table\n",
    "\n",
    "| Feature / Aspect            | Your Version (Custom Index)                   | Optimized Version (deque)                        |\n",
    "| --------------------------- | --------------------------------------------- | ------------------------------------------------ |\n",
    "| **Data Structure**          | List + manual index tracking (`deadline`)     | `collections.deque`                              |\n",
    "| **Memory Efficiency**       | Keeps all expired deadlines unless cleared    | Automatically removes expired entries            |\n",
    "| **Time Complexity**         | Worst case linear scan from `start_idx`       | Amortized O(1) per `ping()` via `deque`          |\n",
    "| **Code Readability**        | Medium – manual index handling is error-prone | High – cleaner and uses Pythonic data structures |\n",
    "| **Scalability (10⁴ calls)** | May slow down if many old entries accumulate  | Efficient even at higher volumes                 |\n",
    "| **Bug Risk**                | Higher – managing `valid_calls` & index       | Lower – managed by `deque` logic                 |\n",
    "\n",
    "---\n",
    "\n",
    "### 📌 Summary\n",
    "\n",
    "* Your approach is clever with custom index tracking and works as intended.\n",
    "* However, using `deque` is the standard and more idiomatic solution for this sliding window problem — it ensures O(1) pop from the front, which is exactly what's needed for expiring old requests.\n",
    "\n",
    "Would you like me to explain how `deque` optimizes this or visualize the sliding window in an example?"
   ]
  },
  {
   "cell_type": "code",
   "execution_count": 6,
   "metadata": {},
   "outputs": [],
   "source": [
    "# Test\n",
    "obj = RecentCounter()\n",
    "param_1 = obj.ping(1)\n",
    "param_2 = obj.ping(100)\n",
    "param_3 = obj.ping(3001)\n",
    "param_4 = obj.ping(3002)\n",
    "assert param_1 == 1\n",
    "assert param_2 == 2\n",
    "assert param_3 == 3\n",
    "assert param_4 == 3"
   ]
  }
 ],
 "metadata": {
  "kernelspec": {
   "display_name": "Python 3 (ipykernel)",
   "language": "python",
   "name": "python3"
  },
  "language_info": {
   "codemirror_mode": {
    "name": "ipython",
    "version": 3
   },
   "file_extension": ".py",
   "mimetype": "text/x-python",
   "name": "python",
   "nbconvert_exporter": "python",
   "pygments_lexer": "ipython3",
   "version": "3.10.3"
  }
 },
 "nbformat": 4,
 "nbformat_minor": 4
}
