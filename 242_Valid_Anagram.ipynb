{
 "cells": [
  {
   "cell_type": "markdown",
   "id": "5013628d-5ce3-47e3-8025-8251b2628180",
   "metadata": {},
   "source": [
    "# 242. Valid Anagram\n",
    "\n",
    "## Description\n",
    "\n",
    "Given two strings `s` and `t`, return `true` if `t` is an anagram of `s`, and `false` otherwise.\n",
    "\n",
    "An Anagram is a word or phrase formed by rearranging the letters of a different word or phrase, typically using all the original letters exactly once.\n",
    "\n",
    "## Example 1\n",
    "\n",
    "**Input:** s = \"anagram\", t = \"nagaram\"  \n",
    "**Output:** true\n",
    "\n",
    "## Example 2\n",
    "\n",
    "**Input:** s = \"rat\", t = \"car\"  \n",
    "**Output:** false\n",
    "\n",
    "## Constraints\n",
    "\n",
    "- 1 <= s.length, t.length <= 5 * 10⁴  \n",
    "- `s` and `t` consist of lowercase English letters.\n",
    "\n",
    "---\n",
    "\n",
    "🔗 [View on LeetCode](https://leetcode.com/problems/valid-anagram/description/)\n"
   ]
  },
  {
   "cell_type": "markdown",
   "id": "9a37384b-df13-4e94-b23d-e5800d3b8f0a",
   "metadata": {},
   "source": [
    "# My solution"
   ]
  },
  {
   "cell_type": "markdown",
   "id": "1429004e-40b0-472b-97aa-00a8842c9eb8",
   "metadata": {},
   "source": [
    "First thought\n",
    "1. sort and compare if equal\n",
    "2. count letters"
   ]
  },
  {
   "cell_type": "code",
   "execution_count": 4,
   "id": "07c3562c-708c-4193-8e53-b3412eb94fdc",
   "metadata": {},
   "outputs": [],
   "source": [
    "def isAnagram(s, t):\n",
    "    letters = {}\n",
    "    for let in s:\n",
    "        if let not in letters:\n",
    "            letters[let] = 1\n",
    "        else:\n",
    "            letters[let] += 1\n",
    "\n",
    "    for let in t:\n",
    "        if let not in letters:\n",
    "            return False\n",
    "        else:\n",
    "            letters[let] -= 1\n",
    "\n",
    "    for let in letters:\n",
    "        if letters[let] != 0:\n",
    "            return False\n",
    "\n",
    "    return True\n",
    "# Time: O(n+m)\n",
    "# Space: O(n)"
   ]
  },
  {
   "cell_type": "code",
   "execution_count": 2,
   "id": "ddc6e991-a85d-4e2c-9004-e9bdcf6d69b8",
   "metadata": {},
   "outputs": [
    {
     "data": {
      "text/plain": [
       "True"
      ]
     },
     "execution_count": 2,
     "metadata": {},
     "output_type": "execute_result"
    }
   ],
   "source": [
    "# test\n",
    "s = \"anagram\"\n",
    "t = \"nagaram\"\n",
    "isAnagram(s, t)"
   ]
  },
  {
   "cell_type": "code",
   "execution_count": 3,
   "id": "68fde502-b305-4896-9987-d3f11329b7af",
   "metadata": {},
   "outputs": [
    {
     "data": {
      "text/plain": [
       "False"
      ]
     },
     "execution_count": 3,
     "metadata": {},
     "output_type": "execute_result"
    }
   ],
   "source": [
    "s = \"rat\"\n",
    "t = \"car\"\n",
    "isAnagram(s, t)"
   ]
  },
  {
   "cell_type": "markdown",
   "id": "3951aa32-8cbe-4b9b-a999-b7171425686b",
   "metadata": {},
   "source": [
    "# Revised version"
   ]
  },
  {
   "cell_type": "markdown",
   "id": "e89242bd-07ac-4dbc-be45-c2ff57945300",
   "metadata": {},
   "source": [
    "Change commits:  \n",
    "1. Early Length Check  \n",
    "2. Variable Naming"
   ]
  },
  {
   "cell_type": "code",
   "execution_count": 6,
   "id": "2b249929-e262-40e2-814d-83e1c6a931f2",
   "metadata": {},
   "outputs": [],
   "source": [
    "def isAnagram(s, t):\n",
    "    if len(s) != len(t):\n",
    "        return False\n",
    "        \n",
    "    letters = {}\n",
    "    for char in s:\n",
    "        if char not in letters:\n",
    "            letters[char] = 1\n",
    "        else:\n",
    "            letters[char] += 1\n",
    "\n",
    "    for char in t:\n",
    "        if char not in letters:\n",
    "            return False\n",
    "        else:\n",
    "            letters[char] -= 1\n",
    "\n",
    "    for char in letters:\n",
    "        if letters[char] != 0:\n",
    "            return False\n",
    "\n",
    "    return True\n",
    "# Time: O(n+m)\n",
    "# Space: O(n)"
   ]
  },
  {
   "cell_type": "code",
   "execution_count": 7,
   "id": "5f9419b2-90e5-4634-80e8-84dca285f4b2",
   "metadata": {},
   "outputs": [
    {
     "data": {
      "text/plain": [
       "True"
      ]
     },
     "execution_count": 7,
     "metadata": {},
     "output_type": "execute_result"
    }
   ],
   "source": [
    "# test\n",
    "s = \"anagram\"\n",
    "t = \"nagaram\"\n",
    "isAnagram(s, t)"
   ]
  },
  {
   "cell_type": "code",
   "execution_count": 8,
   "id": "dfe1a608-d4f4-4ca9-995f-67002c191769",
   "metadata": {},
   "outputs": [
    {
     "data": {
      "text/plain": [
       "False"
      ]
     },
     "execution_count": 8,
     "metadata": {},
     "output_type": "execute_result"
    }
   ],
   "source": [
    "s = \"rat\"\n",
    "t = \"car\"\n",
    "isAnagram(s, t)"
   ]
  },
  {
   "cell_type": "markdown",
   "id": "0e2c6954-10e0-4f96-9d37-aee1731a91bc",
   "metadata": {},
   "source": [
    "# Python version"
   ]
  },
  {
   "cell_type": "code",
   "execution_count": 15,
   "id": "2c48f561-211d-4c0f-85e8-1a52d531761c",
   "metadata": {},
   "outputs": [],
   "source": [
    "from collections import Counter \n",
    "def isAnagram(s, t):\n",
    "    if Counter(s) != Counter(t):\n",
    "        return False\n",
    "    return True\n",
    "# This is concise, readable, and just as efficient."
   ]
  },
  {
   "cell_type": "code",
   "execution_count": 13,
   "id": "4a3b1ae5-1ca1-4ef4-96ac-112742f4db25",
   "metadata": {},
   "outputs": [
    {
     "data": {
      "text/plain": [
       "True"
      ]
     },
     "execution_count": 13,
     "metadata": {},
     "output_type": "execute_result"
    }
   ],
   "source": [
    "# test\n",
    "s = \"anagram\"\n",
    "t = \"nagaram\"\n",
    "isAnagram(s, t)"
   ]
  },
  {
   "cell_type": "code",
   "execution_count": 14,
   "id": "1d280c3a-3464-4bab-882d-36dea15fe76d",
   "metadata": {},
   "outputs": [
    {
     "data": {
      "text/plain": [
       "False"
      ]
     },
     "execution_count": 14,
     "metadata": {},
     "output_type": "execute_result"
    }
   ],
   "source": [
    "s = \"rat\"\n",
    "t = \"car\"\n",
    "isAnagram(s, t)"
   ]
  }
 ],
 "metadata": {
  "kernelspec": {
   "display_name": "Python 3 (ipykernel)",
   "language": "python",
   "name": "python3"
  },
  "language_info": {
   "codemirror_mode": {
    "name": "ipython",
    "version": 3
   },
   "file_extension": ".py",
   "mimetype": "text/x-python",
   "name": "python",
   "nbconvert_exporter": "python",
   "pygments_lexer": "ipython3",
   "version": "3.10.3"
  }
 },
 "nbformat": 4,
 "nbformat_minor": 5
}
